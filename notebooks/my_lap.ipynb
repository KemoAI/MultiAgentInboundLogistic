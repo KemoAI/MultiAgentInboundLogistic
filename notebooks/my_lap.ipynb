{
 "cells": [
  {
   "cell_type": "code",
   "execution_count": 3,
   "id": "326de3d8",
   "metadata": {},
   "outputs": [],
   "source": [
    "\"\"\"State Definitions and Pydantic Schemas for Logistics Agent.\n",
    "\n",
    "This defines the state objects and structured schemas used for\n",
    "the Logistics Agent scoping workflow, including Logistics state management and output schemas.\n",
    "\"\"\"\n",
    "\n",
    "import operator\n",
    "from datetime import date\n",
    "from typing_extensions import Optional, Annotated, List, Sequence\n",
    "\n",
    "from langchain_core.messages import BaseMessage\n",
    "from langgraph.graph import MessagesState\n",
    "from langgraph.graph.message import add_messages\n",
    "from pydantic import BaseModel, Field\n",
    "\n",
    "\n",
    "# =======================================\n",
    "# Step 1: Load logitics fields dynamiclly\n",
    "# =======================================\n",
    "\n",
    "with open(\"../IBL_SCHEMA.json\", \"r\", encoding=\"utf-8\") as iblfields:\n",
    "    ibl_fields = json.load(iblfields)\n",
    "\n",
    "logistics_fields = ibl_fields.get(\"logistics_agent\", [])\n",
    "\n",
    "# Dynamically create Pydantic model for shipment fields\n",
    "DynamicShipmentFields = create_model(\n",
    "    \"DynamicShipmentFields\",\n",
    "    **{\n",
    "        field_item[\"field\"]: (\n",
    "            Optional[field_item[\"dataType\"]],  # default type; could later map dataType\n",
    "            Field(None, description = field_item.get(\"description\", \"\"))\n",
    "        )\n",
    "        for field_item in logistics_fields\n",
    "    }\n",
    ")"
   ]
  },
  {
   "cell_type": "code",
   "execution_count": 4,
   "id": "687a9e9d",
   "metadata": {},
   "outputs": [
    {
     "data": {
      "text/plain": [
       "{'AWB/BL': FieldInfo(annotation=Union[str, NoneType], required=False, default=None, description='The unique Air Waybill or Bill of Lading number for the shipment.'),\n",
       " 'AWB/BL Date': FieldInfo(annotation=Union[date, NoneType], required=False, default=None, description='The issuance date of the Air Waybill or Bill of Lading (YYYY-MM-DD).'),\n",
       " 'Forwarder': FieldInfo(annotation=Union[str, NoneType], required=False, default=None, description='The issuance date of the Air Waybill or Bill of Lading (YYYY-MM-DD).'),\n",
       " 'Incoterm': FieldInfo(annotation=Union[str, NoneType], required=False, default=None, description='The issuance date of the Air Waybill or Bill of Lading (YYYY-MM-DD).'),\n",
       " 'Product Temperature': FieldInfo(annotation=Union[str, NoneType], required=False, default=None, description='The issuance date of the Air Waybill or Bill of Lading (YYYY-MM-DD).'),\n",
       " 'Packing': FieldInfo(annotation=Union[str, NoneType], required=False, default=None, description='The issuance date of the Air Waybill or Bill of Lading (YYYY-MM-DD).'),\n",
       " 'Shipping Temp': FieldInfo(annotation=Union[str, NoneType], required=False, default=None, description='The issuance date of the Air Waybill or Bill of Lading (YYYY-MM-DD).'),\n",
       " 'Gel Pack Expiry Date': FieldInfo(annotation=Union[date, NoneType], required=False, default=None, description='The issuance date of the Air Waybill or Bill of Lading (YYYY-MM-DD).'),\n",
       " 'Handover to Clearance': FieldInfo(annotation=Union[date, NoneType], required=False, default=None, description='The issuance date of the Air Waybill or Bill of Lading (YYYY-MM-DD).'),\n",
       " 'Aggregation': FieldInfo(annotation=Union[str, NoneType], required=False, default=None, description='The issuance date of the Air Waybill or Bill of Lading (YYYY-MM-DD).'),\n",
       " 'Notified FF Date': FieldInfo(annotation=Union[date, NoneType], required=False, default=None, description='The issuance date of the Air Waybill or Bill of Lading (YYYY-MM-DD).'),\n",
       " 'Green light - Date': FieldInfo(annotation=Union[date, NoneType], required=False, default=None, description='The issuance date of the Air Waybill or Bill of Lading (YYYY-MM-DD).'),\n",
       " 'Shipment Mode': FieldInfo(annotation=Union[str, NoneType], required=False, default=None, description='The issuance date of the Air Waybill or Bill of Lading (YYYY-MM-DD).'),\n",
       " 'Logistic Comment': FieldInfo(annotation=Union[str, NoneType], required=False, default=None, description='The issuance date of the Air Waybill or Bill of Lading (YYYY-MM-DD).'),\n",
       " 'Remark': FieldInfo(annotation=Union[str, NoneType], required=False, default=None, description='The issuance date of the Air Waybill or Bill of Lading (YYYY-MM-DD).'),\n",
       " 'ASN Importation Date': FieldInfo(annotation=Union[date, NoneType], required=False, default=None, description='The issuance date of the Air Waybill or Bill of Lading (YYYY-MM-DD).')}"
      ]
     },
     "execution_count": 4,
     "metadata": {},
     "output_type": "execute_result"
    }
   ],
   "source": [
    "DynamicShipmentFields.model_fields"
   ]
  },
  {
   "cell_type": "code",
   "execution_count": 43,
   "id": "4594cc3c",
   "metadata": {},
   "outputs": [],
   "source": [
    "import operator\n",
    "from typing_extensions import Optional, Annotated, List, Sequence\n",
    "from datetime import date\n",
    "\n",
    "from langchain_core.messages import BaseMessage\n",
    "from langgraph.graph import MessagesState\n",
    "from langgraph.graph.message import add_messages\n",
    "from pydantic import BaseModel, Field\n",
    "from enum import Enum\n",
    "\n",
    "class LogisticsSchema(BaseModel):\n",
    "    \"\"\"Schema for Logisticis Agent.\"\"\"\n",
    "    missing_mandatory_fields: List[str] = Field(\n",
    "        default_factory=list,\n",
    "        description = \"Fields required by the schema that are missing from the provided data\"\n",
    "    )\n",
    "    missing_optional_fields: List[str] = Field(\n",
    "        default_factory=list,\n",
    "        description = \"Optional fields that are missing from the provided data\"\n",
    "    )\n",
    "    ask_for_optional_fields: bool = Field(\n",
    "        description = \"Specifies whether the user should be prompted for optional fields\",\n",
    "        default = True\n",
    "    )\n",
    "    needs_user_confirmation: bool = Field(\n",
    "        description = \"Specifies whether user confirmation is required for the current record\",\n",
    "        default = True\n",
    "    )\n",
    "    # Nested logistics fields\n",
    "    Logistics: DynamicShipmentFields"
   ]
  },
  {
   "cell_type": "code",
   "execution_count": 22,
   "id": "5f4f376a",
   "metadata": {},
   "outputs": [],
   "source": [
    "a = LogisticsSchema"
   ]
  },
  {
   "cell_type": "code",
   "execution_count": 27,
   "id": "3afe5a16",
   "metadata": {},
   "outputs": [
    {
     "data": {
      "text/plain": [
       "{'missing_mandatory_fields': FieldInfo(annotation=List[str], required=True, description='Fields required by the schema that are missing from the provided data'),\n",
       " 'missing_optional_fields': FieldInfo(annotation=List[str], required=True, description='Optional fields that are missing from the provided data'),\n",
       " 'ask_for_optional_fields': FieldInfo(annotation=bool, required=False, default=True, description='Specifies whether the user should be prompted for optional fields'),\n",
       " 'needs_user_confirmation': FieldInfo(annotation=bool, required=False, default=True, description='Specifies whether user confirmation is required for the current record'),\n",
       " 'shimpment': FieldInfo(annotation=DynamicShipmentFields, required=True)}"
      ]
     },
     "execution_count": 27,
     "metadata": {},
     "output_type": "execute_result"
    }
   ],
   "source": [
    "a.model_fields"
   ]
  },
  {
   "cell_type": "code",
   "execution_count": 46,
   "id": "079b02b9",
   "metadata": {},
   "outputs": [
    {
     "ename": "AttributeError",
     "evalue": "'DynamicShipmentFields' object has no attribute 'Shipment_Mode'",
     "output_type": "error",
     "traceback": [
      "\u001b[31m---------------------------------------------------------------------------\u001b[39m",
      "\u001b[31mAttributeError\u001b[39m                            Traceback (most recent call last)",
      "\u001b[36mCell\u001b[39m\u001b[36m \u001b[39m\u001b[32mIn[46]\u001b[39m\u001b[32m, line 12\u001b[39m\n\u001b[32m      9\u001b[39m schema = LogisticsSchema(**data)\n\u001b[32m     11\u001b[39m \u001b[38;5;66;03m#print(schema.Logistics.)  # \"ABC123456\"\u001b[39;00m\n\u001b[32m---> \u001b[39m\u001b[32m12\u001b[39m \u001b[38;5;28mprint\u001b[39m(\u001b[43mschema\u001b[49m\u001b[43m.\u001b[49m\u001b[43mLogistics\u001b[49m\u001b[43m.\u001b[49m\u001b[43mShipment_Mode\u001b[49m)  \u001b[38;5;66;03m# \"Air\"\u001b[39;00m\n\u001b[32m     13\u001b[39m \u001b[38;5;28mprint\u001b[39m(schema.dict())\n",
      "\u001b[36mFile \u001b[39m\u001b[32mc:\\Users\\kamalmo\\Desktop\\AI\\InboundLogisticSystem\\MultiAgentInboundLogistic\\.venv\\Lib\\site-packages\\pydantic\\main.py:991\u001b[39m, in \u001b[36mBaseModel.__getattr__\u001b[39m\u001b[34m(self, item)\u001b[39m\n\u001b[32m    988\u001b[39m     \u001b[38;5;28;01mreturn\u001b[39;00m \u001b[38;5;28msuper\u001b[39m().\u001b[34m__getattribute__\u001b[39m(item)  \u001b[38;5;66;03m# Raises AttributeError if appropriate\u001b[39;00m\n\u001b[32m    989\u001b[39m \u001b[38;5;28;01melse\u001b[39;00m:\n\u001b[32m    990\u001b[39m     \u001b[38;5;66;03m# this is the current error\u001b[39;00m\n\u001b[32m--> \u001b[39m\u001b[32m991\u001b[39m     \u001b[38;5;28;01mraise\u001b[39;00m \u001b[38;5;167;01mAttributeError\u001b[39;00m(\u001b[33mf\u001b[39m\u001b[33m'\u001b[39m\u001b[38;5;132;01m{\u001b[39;00m\u001b[38;5;28mtype\u001b[39m(\u001b[38;5;28mself\u001b[39m).\u001b[34m__name__\u001b[39m\u001b[38;5;132;01m!r}\u001b[39;00m\u001b[33m object has no attribute \u001b[39m\u001b[38;5;132;01m{\u001b[39;00mitem\u001b[38;5;132;01m!r}\u001b[39;00m\u001b[33m'\u001b[39m)\n",
      "\u001b[31mAttributeError\u001b[39m: 'DynamicShipmentFields' object has no attribute 'Shipment_Mode'"
     ]
    }
   ],
   "source": [
    "data = {\n",
    "    \"Logistics\": {\n",
    "        \"AWB/BL\": \"ABC123456\",\n",
    "        \"Product_Temperature\": None,\n",
    "        \"Shipment_Mode\": \"Air\"\n",
    "    }\n",
    "}\n",
    "\n",
    "schema = LogisticsSchema(**data)\n",
    "\n",
    "#print(schema.Logistics.)  # \"ABC123456\"\n",
    "print(schema.Logistics.Shipment_Mode)  # \"Air\"\n",
    "print(schema.dict())"
   ]
  },
  {
   "cell_type": "code",
   "execution_count": 49,
   "id": "6aa62253",
   "metadata": {},
   "outputs": [],
   "source": [
    "# ===== IBL FIELDS =====\n",
    "try:\n",
    "    with open (\"../ibl_schema.json\" , \"r\") as config_file:\n",
    "        logistics_schema_fields = json.load(config_file).get('logistics_agent', [])\n",
    "except FileNotFoundError:\n",
    "    print(\"Error: logistics_schema.json not found. Please create it.\")\n",
    "    exit()\n",
    "    \n",
    "# Process the fields\n",
    "mandatory_fields = [\n",
    "    item['field'] for item in logistics_schema_fields if item.get('required') is True\n",
    "]\n",
    "optional_fields = [\n",
    "    item['field'] for item in logistics_schema_fields if item.get('required') is False\n",
    "]"
   ]
  },
  {
   "cell_type": "code",
   "execution_count": 50,
   "id": "d65a061c",
   "metadata": {},
   "outputs": [
    {
     "data": {
      "text/plain": [
       "['AWB/BL', 'Shipment Mode']"
      ]
     },
     "execution_count": 50,
     "metadata": {},
     "output_type": "execute_result"
    }
   ],
   "source": [
    "mandatory_fields"
   ]
  },
  {
   "cell_type": "code",
   "execution_count": 7,
   "id": "0aaf3097",
   "metadata": {},
   "outputs": [
    {
     "ename": "ModuleNotFoundError",
     "evalue": "No module named 'src'",
     "output_type": "error",
     "traceback": [
      "\u001b[31m---------------------------------------------------------------------------\u001b[39m",
      "\u001b[31mModuleNotFoundError\u001b[39m                       Traceback (most recent call last)",
      "\u001b[36mCell\u001b[39m\u001b[36m \u001b[39m\u001b[32mIn[7]\u001b[39m\u001b[32m, line 1\u001b[39m\n\u001b[32m----> \u001b[39m\u001b[32m1\u001b[39m \u001b[38;5;28;01mfrom\u001b[39;00m\u001b[38;5;250m \u001b[39m\u001b[34;01msrc\u001b[39;00m\u001b[34;01m.\u001b[39;00m\u001b[34;01mibl_data_source\u001b[39;00m\u001b[38;5;250m \u001b[39m\u001b[38;5;28;01mimport\u001b[39;00m ibl_data_source\n",
      "\u001b[31mModuleNotFoundError\u001b[39m: No module named 'src'"
     ]
    }
   ],
   "source": [
    "from src.ibl_data_source import ibl_data_source"
   ]
  },
  {
   "cell_type": "code",
   "execution_count": 17,
   "id": "3cc1c4c4",
   "metadata": {},
   "outputs": [],
   "source": [
    "# ===== Import Logistics Fields (\"Mandatory\",\"Optional\") =====\n",
    "import_logistics_schema = ibl_data_source(\"../ibl_schema.json\",\"logistics_agent\")\n",
    "\n",
    "logistics_fields = [\n",
    "    item['field'] for item in import_logistics_schema\n",
    "]\n",
    "mandatory_fields = [\n",
    "    item['field'] for item in import_logistics_schema if item.get('required') is True\n",
    "]\n",
    "optional_fields = [\n",
    "    item['field'] for item in import_logistics_schema if item.get('required') is False\n",
    "]"
   ]
  },
  {
   "cell_type": "code",
   "execution_count": 18,
   "id": "f6e25fab",
   "metadata": {},
   "outputs": [
    {
     "data": {
      "text/plain": [
       "['AWB/BL',\n",
       " 'AWB/BL Date',\n",
       " 'Forwarder',\n",
       " 'Incoterm',\n",
       " 'Product Temperature',\n",
       " 'Packing',\n",
       " 'Shipping Temp',\n",
       " 'Gel Pack Expiry Date',\n",
       " 'Handover to Clearance',\n",
       " 'Aggregation',\n",
       " 'Notified FF Date',\n",
       " 'Green light - Date',\n",
       " 'Shipment Mode',\n",
       " 'Logistic Comment',\n",
       " 'Remark',\n",
       " 'ASN Importation Date']"
      ]
     },
     "execution_count": 18,
     "metadata": {},
     "output_type": "execute_result"
    }
   ],
   "source": [
    "logistics_fields "
   ]
  },
  {
   "cell_type": "code",
   "execution_count": 19,
   "id": "8ed6db32",
   "metadata": {},
   "outputs": [
    {
     "data": {
      "text/plain": [
       "['AWB/BL', 'Shipment Mode']"
      ]
     },
     "execution_count": 19,
     "metadata": {},
     "output_type": "execute_result"
    }
   ],
   "source": [
    "mandatory_fields "
   ]
  },
  {
   "cell_type": "code",
   "execution_count": 20,
   "id": "e7d9d365",
   "metadata": {},
   "outputs": [
    {
     "data": {
      "text/plain": [
       "['AWB/BL Date',\n",
       " 'Forwarder',\n",
       " 'Product Temperature',\n",
       " 'Packing',\n",
       " 'Shipping Temp',\n",
       " 'Gel Pack Expiry Date',\n",
       " 'Handover to Clearance',\n",
       " 'Aggregation',\n",
       " 'Notified FF Date',\n",
       " 'Green light - Date',\n",
       " 'Logistic Comment',\n",
       " 'Remark',\n",
       " 'ASN Importation Date']"
      ]
     },
     "execution_count": 20,
     "metadata": {},
     "output_type": "execute_result"
    }
   ],
   "source": [
    "optional_fields "
   ]
  },
  {
   "cell_type": "code",
   "execution_count": 21,
   "id": "5c49e564",
   "metadata": {},
   "outputs": [
    {
     "data": {
      "text/plain": [
       "['AWB/BL', 'Shipment Mode']"
      ]
     },
     "execution_count": 21,
     "metadata": {},
     "output_type": "execute_result"
    }
   ],
   "source": [
    " [ fields for fields in logistics_fields if fields in mandatory_fields ]"
   ]
  }
 ],
 "metadata": {
  "kernelspec": {
   "display_name": "MultiAgentInboundLogistic",
   "language": "python",
   "name": "python3"
  },
  "language_info": {
   "codemirror_mode": {
    "name": "ipython",
    "version": 3
   },
   "file_extension": ".py",
   "mimetype": "text/x-python",
   "name": "python",
   "nbconvert_exporter": "python",
   "pygments_lexer": "ipython3",
   "version": "3.12.7"
  }
 },
 "nbformat": 4,
 "nbformat_minor": 5
}
