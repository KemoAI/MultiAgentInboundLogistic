{
 "cells": [
  {
   "cell_type": "code",
   "execution_count": 1,
   "id": "be1c17cd",
   "metadata": {},
   "outputs": [],
   "source": [
    "# Load environment variables and set up auto-reload\n",
    "from dotenv import load_dotenv\n",
    "load_dotenv()\n",
    "\n",
    "%load_ext autoreload\n",
    "%autoreload"
   ]
  },
  {
   "cell_type": "code",
   "execution_count": 2,
   "id": "7a6ea335",
   "metadata": {},
   "outputs": [],
   "source": [
    "import sys\n",
    "sys.path.append('../')"
   ]
  },
  {
   "cell_type": "code",
   "execution_count": 3,
   "id": "93f2b9fd",
   "metadata": {},
   "outputs": [
    {
     "name": "stderr",
     "output_type": "stream",
     "text": [
      "c:\\Users\\kamalmo\\Desktop\\AI\\InboundLogisticSystem\\MultiAgentInboundLogistic\\.venv\\Lib\\site-packages\\tqdm\\auto.py:21: TqdmWarning: IProgress not found. Please update jupyter and ipywidgets. See https://ipywidgets.readthedocs.io/en/stable/user_install.html\n",
      "  from .autonotebook import tqdm as notebook_tqdm\n",
      "None of PyTorch, TensorFlow >= 2.0, or Flax have been found. Models won't be available and only tokenizers, configuration and file/data utilities can be used.\n"
     ]
    },
    {
     "data": {
      "text/html": [
       "<pre style=\"white-space:pre;overflow-x:auto;line-height:normal;font-family:Menlo,'DejaVu Sans Mono',consolas,'Courier New',monospace\"><span style=\"color: #000080; text-decoration-color: #000080\">╭────────────────────────────────────────────── </span><span style=\"color: #008000; text-decoration-color: #008000; font-weight: bold\">logistician_prompt</span><span style=\"color: #000080; text-decoration-color: #000080\"> ───────────────────────────────────────────────╮</span>\n",
       "<span style=\"color: #000080; text-decoration-color: #000080\">│</span>                                                                                                                 <span style=\"color: #000080; text-decoration-color: #000080\">│</span>\n",
       "<span style=\"color: #000080; text-decoration-color: #000080\">│</span>                                                                                                                 <span style=\"color: #000080; text-decoration-color: #000080\">│</span>\n",
       "<span style=\"color: #000080; text-decoration-color: #000080\">│</span>                                                                                                                 <span style=\"color: #000080; text-decoration-color: #000080\">│</span>\n",
       "<span style=\"color: #000080; text-decoration-color: #000080\">╰─────────────────────────────────────────────────────────────────────────────────────────────────────────────────╯</span>\n",
       "</pre>\n"
      ],
      "text/plain": [
       "\u001b[34m╭─\u001b[0m\u001b[34m─────────────────────────────────────────────\u001b[0m\u001b[34m \u001b[0m\u001b[1;32mlogistician_prompt\u001b[0m\u001b[34m \u001b[0m\u001b[34m──────────────────────────────────────────────\u001b[0m\u001b[34m─╮\u001b[0m\n",
       "\u001b[34m│\u001b[0m                                                                                                                 \u001b[34m│\u001b[0m\n",
       "\u001b[34m│\u001b[0m                                                                                                                 \u001b[34m│\u001b[0m\n",
       "\u001b[34m│\u001b[0m                                                                                                                 \u001b[34m│\u001b[0m\n",
       "\u001b[34m╰─────────────────────────────────────────────────────────────────────────────────────────────────────────────────╯\u001b[0m\n"
      ]
     },
     "metadata": {},
     "output_type": "display_data"
    }
   ],
   "source": [
    "from src.utils import show_prompt\n",
    "from src.prompt import logistician_prompt\n",
    "show_prompt(logistician_prompt, \"logistician_prompt\")"
   ]
  },
  {
   "cell_type": "code",
   "execution_count": 4,
   "id": "0fcb0453",
   "metadata": {},
   "outputs": [
    {
     "name": "stdout",
     "output_type": "stream",
     "text": [
      "Overwriting ../src/state_logistician.py\n"
     ]
    }
   ],
   "source": [
    "%%writefile ../src/state_logistician.py\n",
    "\n",
    "\"\"\"State Definitions and Pydantic Schemas for Research Scoping.\n",
    "\n",
    "This defines the state objects and structured schemas used for\n",
    "the research agent scoping workflow, including researcher state management and output schemas.\n",
    "\"\"\"\n",
    "\n",
    "import operator\n",
    "from typing_extensions import Optional, Annotated, List, Sequence\n",
    "from datetime import date\n",
    "\n",
    "from langchain_core.messages import BaseMessage\n",
    "from langgraph.graph import MessagesState\n",
    "from langgraph.graph.message import add_messages\n",
    "from pydantic import BaseModel, Field\n",
    "from enum import Enum\n",
    "\n",
    "# ===== STATE DEFINITIONS =====\n",
    "\n",
    "class LogisticianState(MessagesState):\n",
    "    \"\"\"State for the logistician agent\"\"\"\n",
    "    supervisor_messages: Annotated[Sequence[BaseMessage], add_messages]\n",
    "    agent_brief: str\n",
    "\n",
    "# ===== STRUCTURED OUTPUT SCHEMAS =====\n",
    "\n",
    "class LogisticianSchema(BaseModel):\n",
    "    \"\"\"Schema for logistician router decision making.\"\"\"\n",
    "    missing_mandatory_fields: List[str] = Field(\n",
    "        description=\"List of missing mandatory fields\"\n",
    "    )\n",
    "    missing_optional_fields: List[str] = Field(\n",
    "        description=\"List of missing optional fields\"\n",
    "    )\n",
    "    is_confirmed_by_user: bool = Field(\n",
    "        description=\"indicates whether has been confirmed by the user or not\",\n",
    "        default=False\n",
    "    )\n",
    "    AWB: str = Field(\n",
    "        description=\"AWB Description\"\n",
    "    )\n",
    "    product_temperature: str = Field(\n",
    "        description=\"Product Temperature Description\",\n",
    "    )\n",
    "    handover_to_clearance: Optional[date] = Field(\n",
    "        description=\"date of handover to clearance\",\n",
    "    )\n",
    "    shipment_mode: str = Field(\n",
    "        description=\"shipment mode\",\n",
    "    )"
   ]
  },
  {
   "cell_type": "code",
   "execution_count": 8,
   "id": "01926c48",
   "metadata": {},
   "outputs": [
    {
     "name": "stdout",
     "output_type": "stream",
     "text": [
      "Overwriting ../src/logistician_agent.py\n"
     ]
    }
   ],
   "source": [
    "%%writefile ../src/logistician_agent.py\n",
    "\n",
    "\"\"\"This code contains the code for the logistician agent\"\"\"\n",
    "\n",
    "from datetime import datetime\n",
    "from typing_extensions import Literal\n",
    "\n",
    "from langchain.chat_models import init_chat_model\n",
    "from langchain_community.chat_models import ChatDeepInfra\n",
    "from langchain_core.messages import HumanMessage, AIMessage, get_buffer_string\n",
    "from langgraph.graph import StateGraph, START, END\n",
    "from langgraph.types import Command\n",
    "import os\n",
    "from src.prompt import missing_mandatory_fields_prompt, missing_optional_fields_prompt, \\\n",
    "                        logistician_confirmation_prompt, logistician_prompt, summarize_logistician_system_prompt, \\\n",
    "                        summarize_logistician_human_prompt\n",
    "from src.state_logistician import LogisticianSchema, LogisticianState\n",
    "\n",
    "# ===== UTILITY FUNCTIONS =====\n",
    "\n",
    "def get_today_str() -> str:\n",
    "    \"\"\"Get current date in a human-readable format.\"\"\"\n",
    "    return datetime.now().strftime(\"%a %b %#d, %Y\")\n",
    "\n",
    "# ===== CONFIGURATION =====\n",
    "\n",
    "# Initialize model\n",
    "model = init_chat_model(model=\"openai:gpt-4.1\", temperature=0.0)\n",
    "summarize_model = model\n",
    "\n",
    "tools = []\n",
    "tools_by_name = {tool.name: tool for tool in tools}\n",
    "\n",
    "# Bind model with tools\n",
    "model = model.bind_tools(tools)\n",
    "\n",
    "def logistician_agent(state: LogisticianState) -> Command[Literal[\"__end__\", \"logistician_tools\", \"confirm_with_user\", \"commit_logistics_transaction\"]]:\n",
    "    \"\"\"\n",
    "    \n",
    "    \"\"\"\n",
    "    # Set up structured output model\n",
    "    structured_output_model = model.with_structured_output(LogisticianSchema)\n",
    "\n",
    "    # Invoke the model with clarification instructions\n",
    "    response = structured_output_model.invoke([\n",
    "        HumanMessage(content=logistician_prompt.format(\n",
    "            agent_brief=state[\"supervisor_messages\"][-1].agent_brief, \n",
    "            date=get_today_str()\n",
    "        ))\n",
    "    ])\n",
    "\n",
    "    if response.tool_calls: # if it needs a tool\n",
    "        return Command(\n",
    "            goto=\"logistician_tools\", \n",
    "            update={\"supervisor_messages\": [response]}\n",
    "        )\n",
    "    elif response.missing_mandatory_fields: # if there is a missing mandatory fields\n",
    "        return Command(\n",
    "            goto=END, \n",
    "            update={\"messages\": [AIMessage(content=missing_mandatory_fields_prompt.format(\n",
    "                missing_fields=response.missing_mandatory_fields))]}\n",
    "        )\n",
    "    elif response.missing_optional_fields and not response.is_confirmed_by_user: # missing optional fields before confirmation\n",
    "        return Command(\n",
    "            goto=END, \n",
    "            update={\"messages\": [AIMessage(content=missing_optional_fields_prompt.format(\n",
    "                missing_fields=response.missing_optional_fields))]}\n",
    "        )\n",
    "    elif not response.is_confirmed_by_user: # missing confirmation\n",
    "        return Command(\n",
    "            goto=\"confirm_with_user\", \n",
    "            update={\"supervisor_messages\": [response]}\n",
    "        )\n",
    "    else: # everything is OK and confirmed\n",
    "        return Command(\n",
    "            goto=\"commit_logistics_transaction\", \n",
    "            update={\"supervisor_messages\": [response]}\n",
    "        )\n",
    "\n",
    "def confirm_with_user(state: LogisticianState) -> Command[Literal[\"__end__\"]]: \n",
    "    \"\"\"In case the logistician needs to confirm something with the user\"\"\"\n",
    "    # first summarize \n",
    "    system_message = summarize_logistician_system_prompt.format(date=get_today_str())\n",
    "    messages = [SystemMessage(content=system_message)] + state.get(\"supervisor_messages\", []) + [HumanMessage(content=summarize_logistician_human_prompt)]\n",
    "    response = summarize_model.invoke(messages)\n",
    "    # Print the summary requesting confirmation\n",
    "    return Command(\n",
    "        goto=END, \n",
    "        update={\"messages\": [AIMessage(content=logistician_confirmation_prompt.format(summary=response.content))]}\n",
    "    )\n",
    "\n",
    "def logistician_tools(state: LogisticianState):\n",
    "    \"\"\"Execute all tool calls from the previous LLM response.\n",
    "    \n",
    "    Executes all tool calls from the previous LLM responses.\n",
    "    Returns updated state with tool execution results.\n",
    "    \"\"\"\n",
    "    tool_calls = state[\"supervisor_messages\"][-1].tool_calls\n",
    " \n",
    "    # Execute all tool calls\n",
    "    observations = []\n",
    "    for tool_call in tool_calls:\n",
    "        tool = tools_by_name[tool_call[\"name\"]]\n",
    "        observations.append(tool.invoke(tool_call[\"args\"]))\n",
    "            \n",
    "    # Create tool message outputs\n",
    "    tool_outputs = [\n",
    "        ToolMessage(\n",
    "            content=observation,\n",
    "            name=tool_call[\"name\"],\n",
    "            tool_call_id=tool_call[\"id\"]\n",
    "        ) for observation, tool_call in zip(observations, tool_calls)\n",
    "    ]\n",
    "    \n",
    "    return {\"supervisor_messages\": tool_outputs}\n",
    "\n",
    "def commit_logistics_transaction(state: LogisticianState):\n",
    "    \"\"\" \"\"\"\n",
    "    # get the last response which includes all the filled values after confirmation\n",
    "    messages = state[\"supervisor_messages\"]\n",
    "    last_message = messages[-1]\n",
    "    # fill it \n",
    "\n",
    "    # commit it using some API or something\n",
    "\n",
    "    # return small confirmation message\n",
    "    return{\n",
    "        \"messages\": [AIMessage(content=\"Small confirmation message\")]\n",
    "    }\n",
    "\n",
    "# Build the scoping workflow\n",
    "logistician_agent_builder = StateGraph(LogisticianState)\n",
    "\n",
    "# Add workflow nodes\n",
    "logistician_agent_builder.add_node(\"logistician_agent\", logistician_agent)\n",
    "logistician_agent_builder.add_node(\"logistician_tools\", logistician_tools)\n",
    "logistician_agent_builder.add_node(\"confirm_with_user\", confirm_with_user)\n",
    "logistician_agent_builder.add_node(\"commit_logistics_transaction\", commit_logistics_transaction)\n",
    "\n",
    "# Add workflow edges\n",
    "logistician_agent_builder.add_edge(START, \"logistician_agent\")\n",
    "logistician_agent_builder.add_edge(\"logistician_tools\", \"logistician_agent\")\n",
    "logistician_agent_builder.add_edge(\"commit_logistics_transaction\", END)\n",
    "\n",
    "# Compile the workflow\n",
    "logistician_agent = logistician_agent_builder.compile()"
   ]
  },
  {
   "cell_type": "code",
   "execution_count": 9,
   "id": "b9311710",
   "metadata": {},
   "outputs": [
    {
     "data": {
      "image/png": "[encoded data removed]",
      "text/plain": [
       "<IPython.core.display.Image object>"
      ]
     },
     "metadata": {},
     "output_type": "display_data"
    }
   ],
   "source": [
    "from IPython.display import Image, display\n",
    "from src.logistician_agent import logistician_agent\n",
    "\n",
    "# Show the agent\n",
    "display(Image(logistician_agent.get_graph(xray=True).draw_mermaid_png()))"
   ]
  }
 ],
 "metadata": {
  "kernelspec": {
   "display_name": "MultiAgentInboundLogistic",
   "language": "python",
   "name": "python3"
  },
  "language_info": {
   "codemirror_mode": {
    "name": "ipython",
    "version": 3
   },
   "file_extension": ".py",
   "mimetype": "text/x-python",
   "name": "python",
   "nbconvert_exporter": "python",
   "pygments_lexer": "ipython3",
   "version": "3.12.7"
  }
 },
 "nbformat": 4,
 "nbformat_minor": 5
}
