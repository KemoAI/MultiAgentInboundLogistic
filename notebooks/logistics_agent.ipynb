{
 "cells": [
  {
   "cell_type": "code",
   "execution_count": 16,
   "id": "be1c17cd",
   "metadata": {},
   "outputs": [
    {
     "name": "stdout",
     "output_type": "stream",
     "text": [
      "The autoreload extension is already loaded. To reload it, use:\n",
      "  %reload_ext autoreload\n"
     ]
    }
   ],
   "source": [
    "# Load environment variables and set up auto-reload\n",
    "from dotenv import load_dotenv\n",
    "load_dotenv()\n",
    "\n",
    "%load_ext autoreload\n",
    "%autoreload"
   ]
  },
  {
   "cell_type": "code",
   "execution_count": 17,
   "id": "7a6ea335",
   "metadata": {},
   "outputs": [],
   "source": [
    "import sys\n",
    "sys.path.append('../')"
   ]
  },
  {
   "cell_type": "code",
   "execution_count": 13,
   "id": "93f2b9fd",
   "metadata": {},
   "outputs": [
    {
     "data": {
      "text/html": [
       "<pre style=\"white-space:pre;overflow-x:auto;line-height:normal;font-family:Menlo,'DejaVu Sans Mono',consolas,'Courier New',monospace\"><span style=\"color: #000080; text-decoration-color: #000080\">╭───────────────────────────────────────────── </span><span style=\"color: #008000; text-decoration-color: #008000; font-weight: bold\">logistics_agent_tasks</span><span style=\"color: #000080; text-decoration-color: #000080\"> ─────────────────────────────────────────────╮</span>\n",
       "<span style=\"color: #000080; text-decoration-color: #000080\">│</span>                                                                                                                 <span style=\"color: #000080; text-decoration-color: #000080\">│</span>\n",
       "<span style=\"color: #000080; text-decoration-color: #000080\">│</span>                                                                                                                 <span style=\"color: #000080; text-decoration-color: #000080\">│</span>\n",
       "<span style=\"color: #000080; text-decoration-color: #000080\">│</span>  These are the Logistics Data received so far:                                                                  <span style=\"color: #000080; text-decoration-color: #000080\">│</span>\n",
       "<span style=\"color: #000080; text-decoration-color: #000080\">│</span>                                                                                                                 <span style=\"color: #000080; text-decoration-color: #000080\">│</span>\n",
       "<span style=\"color: #000080; text-decoration-color: #000080\">│</span>  <span style=\"color: #000080; text-decoration-color: #000080; font-weight: bold\">&lt;agent_brief&gt;</span>                                                                                                  <span style=\"color: #000080; text-decoration-color: #000080\">│</span>\n",
       "<span style=\"color: #000080; text-decoration-color: #000080\">│</span>  {agent_brief}                                                                                                  <span style=\"color: #000080; text-decoration-color: #000080\">│</span>\n",
       "<span style=\"color: #000080; text-decoration-color: #000080\">│</span>  <span style=\"color: #000080; text-decoration-color: #000080; font-weight: bold\">&lt;/agent_brief&gt;</span>                                                                                                 <span style=\"color: #000080; text-decoration-color: #000080\">│</span>\n",
       "<span style=\"color: #000080; text-decoration-color: #000080\">│</span>                                                                                                                 <span style=\"color: #000080; text-decoration-color: #000080\">│</span>\n",
       "<span style=\"color: #000080; text-decoration-color: #000080\">│</span>  <span style=\"color: #000080; text-decoration-color: #000080; font-weight: bold\">&lt;field_specifications&gt;</span>                                                                                         <span style=\"color: #000080; text-decoration-color: #000080\">│</span>\n",
       "<span style=\"color: #000080; text-decoration-color: #000080\">│</span>  {fields_details}                                                                                               <span style=\"color: #000080; text-decoration-color: #000080\">│</span>\n",
       "<span style=\"color: #000080; text-decoration-color: #000080\">│</span>  <span style=\"color: #000080; text-decoration-color: #000080; font-weight: bold\">&lt;/field_specifications&gt;</span>                                                                                        <span style=\"color: #000080; text-decoration-color: #000080\">│</span>\n",
       "<span style=\"color: #000080; text-decoration-color: #000080\">│</span>                                                                                                                 <span style=\"color: #000080; text-decoration-color: #000080\">│</span>\n",
       "<span style=\"color: #000080; text-decoration-color: #000080\">│</span>  <span style=\"color: #000080; text-decoration-color: #000080; font-weight: bold\">&lt;mandatory_fields&gt;</span>                                                                                             <span style=\"color: #000080; text-decoration-color: #000080\">│</span>\n",
       "<span style=\"color: #000080; text-decoration-color: #000080\">│</span>  {mandatory_fields}                                                                                             <span style=\"color: #000080; text-decoration-color: #000080\">│</span>\n",
       "<span style=\"color: #000080; text-decoration-color: #000080\">│</span>  <span style=\"color: #000080; text-decoration-color: #000080; font-weight: bold\">&lt;/mandatory_fields&gt;</span>                                                                                            <span style=\"color: #000080; text-decoration-color: #000080\">│</span>\n",
       "<span style=\"color: #000080; text-decoration-color: #000080\">│</span>                                                                                                                 <span style=\"color: #000080; text-decoration-color: #000080\">│</span>\n",
       "<span style=\"color: #000080; text-decoration-color: #000080\">│</span>  <span style=\"color: #000080; text-decoration-color: #000080; font-weight: bold\">&lt;optional_fields&gt;</span>                                                                                              <span style=\"color: #000080; text-decoration-color: #000080\">│</span>\n",
       "<span style=\"color: #000080; text-decoration-color: #000080\">│</span>  {optional_fields}                                                                                              <span style=\"color: #000080; text-decoration-color: #000080\">│</span>\n",
       "<span style=\"color: #000080; text-decoration-color: #000080\">│</span>  <span style=\"color: #000080; text-decoration-color: #000080; font-weight: bold\">&lt;/optional_fields&gt;</span>                                                                                             <span style=\"color: #000080; text-decoration-color: #000080\">│</span>\n",
       "<span style=\"color: #000080; text-decoration-color: #000080\">│</span>                                                                                                                 <span style=\"color: #000080; text-decoration-color: #000080\">│</span>\n",
       "<span style=\"color: #000080; text-decoration-color: #000080\">│</span>  Today's date is {date}.                                                                                        <span style=\"color: #000080; text-decoration-color: #000080\">│</span>\n",
       "<span style=\"color: #000080; text-decoration-color: #000080\">│</span>                                                                                                                 <span style=\"color: #000080; text-decoration-color: #000080\">│</span>\n",
       "<span style=\"color: #000080; text-decoration-color: #000080\">│</span>  Your role is to act as the logistician Agent in the Inbound Logistics system.                                  <span style=\"color: #000080; text-decoration-color: #000080\">│</span>\n",
       "<span style=\"color: #000080; text-decoration-color: #000080\">│</span>  Your responsibilities are:                                                                                     <span style=\"color: #000080; text-decoration-color: #000080\">│</span>\n",
       "<span style=\"color: #000080; text-decoration-color: #000080\">│</span>                                                                                                                 <span style=\"color: #000080; text-decoration-color: #000080\">│</span>\n",
       "<span style=\"color: #000080; text-decoration-color: #000080\">│</span>  <span style=\"color: #000080; text-decoration-color: #000080; font-weight: bold\">&lt;Instructions&gt;</span>                                                                                                 <span style=\"color: #000080; text-decoration-color: #000080\">│</span>\n",
       "<span style=\"color: #000080; text-decoration-color: #000080\">│</span>  1. **Extract Information:** - Parse the provided data and extract values for all available schema fields       <span style=\"color: #000080; text-decoration-color: #000080\">│</span>\n",
       "<span style=\"color: #000080; text-decoration-color: #000080\">│</span>  2. **Identify Missing Fields:**                                                                                <span style=\"color: #000080; text-decoration-color: #000080\">│</span>\n",
       "<span style=\"color: #000080; text-decoration-color: #000080\">│</span>     - Record any missing mandatory fields in `\"missing_mandatory_fields\"`                                       <span style=\"color: #000080; text-decoration-color: #000080\">│</span>\n",
       "<span style=\"color: #000080; text-decoration-color: #000080\">│</span>     - Record any missing optional fields in `\"missing_optional_fields\"`                                         <span style=\"color: #000080; text-decoration-color: #000080\">│</span>\n",
       "<span style=\"color: #000080; text-decoration-color: #000080\">│</span>  3. **Field Mapping:** - Map extracted values to the corresponding schema fields. Use null if missing, e.g:     <span style=\"color: #000080; text-decoration-color: #000080\">│</span>\n",
       "<span style=\"color: #000080; text-decoration-color: #000080\">│</span>     - `\"AWB/BL\"`: The unique Air Waybill or Bill of Lading number for the shipment                              <span style=\"color: #000080; text-decoration-color: #000080\">│</span>\n",
       "<span style=\"color: #000080; text-decoration-color: #000080\">│</span>     - `\"Product Temperature\"`: The temperature conditions required to safely transport and store a product.     <span style=\"color: #000080; text-decoration-color: #000080\">│</span>\n",
       "<span style=\"color: #000080; text-decoration-color: #000080\">│</span>     - `\"Shipment Mode\"`: The method of transporting goods from the origin to the destination.                   <span style=\"color: #000080; text-decoration-color: #000080\">│</span>\n",
       "<span style=\"color: #000080; text-decoration-color: #000080\">│</span>  4. **Optional Fields Logic:** - Set `\"ask_for_optional_fields\"` to:                                            <span style=\"color: #000080; text-decoration-color: #000080\">│</span>\n",
       "<span style=\"color: #000080; text-decoration-color: #000080\">│</span>     - `False` ONLY if the user explicitly requests to skip them or to skip items listed in                      <span style=\"color: #000080; text-decoration-color: #000080\">│</span>\n",
       "<span style=\"color: #000080; text-decoration-color: #000080\">│</span>  missing_optional_fields (phrases like \"skip optional\", \"proceed without optional\", \"don't ask for optional\",   <span style=\"color: #000080; text-decoration-color: #000080\">│</span>\n",
       "<span style=\"color: #000080; text-decoration-color: #000080\">│</span>  \"ignore optional fields\", \"skip x,y,z\" where missing_optional_fields=[x,y,z]))                                 <span style=\"color: #000080; text-decoration-color: #000080\">│</span>\n",
       "<span style=\"color: #000080; text-decoration-color: #000080\">│</span>     - `True` in all other cases (default behavior)                                                              <span style=\"color: #000080; text-decoration-color: #000080\">│</span>\n",
       "<span style=\"color: #000080; text-decoration-color: #000080\">│</span>     - **Important**: - Reset to `True` whenever the user provides new or updated data                           <span style=\"color: #000080; text-decoration-color: #000080\">│</span>\n",
       "<span style=\"color: #000080; text-decoration-color: #000080\">│</span>  5. **Confirmation Logic:** - Set `\"needs_user_confirmation\"` to:                                               <span style=\"color: #000080; text-decoration-color: #000080\">│</span>\n",
       "<span style=\"color: #000080; text-decoration-color: #000080\">│</span>     - `False` ONLY if:                                                                                          <span style=\"color: #000080; text-decoration-color: #000080\">│</span>\n",
       "<span style=\"color: #000080; text-decoration-color: #000080\">│</span>       - No missing mandatory fields `mssing_mandatory_fields=[]`                                                <span style=\"color: #000080; text-decoration-color: #000080\">│</span>\n",
       "<span style=\"color: #000080; text-decoration-color: #000080\">│</span>       - The user explicitly confirms the record details                                                         <span style=\"color: #000080; text-decoration-color: #000080\">│</span>\n",
       "<span style=\"color: #000080; text-decoration-color: #000080\">│</span>     - `True` in all other cases (default behavior)                                                              <span style=\"color: #000080; text-decoration-color: #000080\">│</span>\n",
       "<span style=\"color: #000080; text-decoration-color: #000080\">│</span>  <span style=\"color: #000080; text-decoration-color: #000080; font-weight: bold\">&lt;/Instructions&gt;</span>                                                                                                <span style=\"color: #000080; text-decoration-color: #000080\">│</span>\n",
       "<span style=\"color: #000080; text-decoration-color: #000080\">│</span>                                                                                                                 <span style=\"color: #000080; text-decoration-color: #000080\">│</span>\n",
       "<span style=\"color: #000080; text-decoration-color: #000080\">│</span>  <span style=\"color: #000080; text-decoration-color: #000080; font-weight: bold\">&lt;Data Extraction Guidelines&gt;</span>                                                                                   <span style=\"color: #000080; text-decoration-color: #000080\">│</span>\n",
       "<span style=\"color: #000080; text-decoration-color: #000080\">│</span>  - **Missing Fields**                                                                                           <span style=\"color: #000080; text-decoration-color: #000080\">│</span>\n",
       "<span style=\"color: #000080; text-decoration-color: #000080\">│</span>    - Always set missing fields to null (None in Python)                                                         <span style=\"color: #000080; text-decoration-color: #000080\">│</span>\n",
       "<span style=\"color: #000080; text-decoration-color: #000080\">│</span>    - Never use empty strings as placeholders                                                                    <span style=\"color: #000080; text-decoration-color: #000080\">│</span>\n",
       "<span style=\"color: #000080; text-decoration-color: #000080\">│</span>  - **Dates**                                                                                                    <span style=\"color: #000080; text-decoration-color: #000080\">│</span>\n",
       "<span style=\"color: #000080; text-decoration-color: #000080\">│</span>    - Convert all dates into Python date objects                                                                 <span style=\"color: #000080; text-decoration-color: #000080\">│</span>\n",
       "<span style=\"color: #000080; text-decoration-color: #000080\">│</span>    - If no date is provided, set the field to null (None in Python)                                             <span style=\"color: #000080; text-decoration-color: #000080\">│</span>\n",
       "<span style=\"color: #000080; text-decoration-color: #000080\">│</span>  - **String**                                                                                                   <span style=\"color: #000080; text-decoration-color: #000080\">│</span>\n",
       "<span style=\"color: #000080; text-decoration-color: #000080\">│</span>    - Extract exact values as provided                                                                           <span style=\"color: #000080; text-decoration-color: #000080\">│</span>\n",
       "<span style=\"color: #000080; text-decoration-color: #000080\">│</span>    - Use full descriptive text if available, without truncation                                                 <span style=\"color: #000080; text-decoration-color: #000080\">│</span>\n",
       "<span style=\"color: #000080; text-decoration-color: #000080\">│</span>  - **Field Name Flexibility** - Support variations in field names. e.g, \"AWB\", \"AWB Number\", \"Air Waybill\" →    <span style=\"color: #000080; text-decoration-color: #000080\">│</span>\n",
       "<span style=\"color: #000080; text-decoration-color: #000080\">│</span>  all map to AWB                                                                                                 <span style=\"color: #000080; text-decoration-color: #000080\">│</span>\n",
       "<span style=\"color: #000080; text-decoration-color: #000080\">│</span>  - **Ambiguous Information** - f the data is unclear, inconsistent, or cannot be reliably determined, set the   <span style=\"color: #000080; text-decoration-color: #000080\">│</span>\n",
       "<span style=\"color: #000080; text-decoration-color: #000080\">│</span>  field to null (None in Python)                                                                                 <span style=\"color: #000080; text-decoration-color: #000080\">│</span>\n",
       "<span style=\"color: #000080; text-decoration-color: #000080\">│</span>  <span style=\"color: #000080; text-decoration-color: #000080; font-weight: bold\">&lt;/Data Extraction Guidelines&gt;</span>                                                                                  <span style=\"color: #000080; text-decoration-color: #000080\">│</span>\n",
       "<span style=\"color: #000080; text-decoration-color: #000080\">│</span>                                                                                                                 <span style=\"color: #000080; text-decoration-color: #000080\">│</span>\n",
       "<span style=\"color: #000080; text-decoration-color: #000080\">│</span>  Behaviors:                                                                                                     <span style=\"color: #000080; text-decoration-color: #000080\">│</span>\n",
       "<span style=\"color: #000080; text-decoration-color: #000080\">│</span>  **Example 1 - Missing Mandatory Fields:**                                                                      <span style=\"color: #000080; text-decoration-color: #000080\">│</span>\n",
       "<span style=\"color: #000080; text-decoration-color: #000080\">│</span>  agent_brief: \"The input data includes AWB/BL 12345\"                                                            <span style=\"color: #000080; text-decoration-color: #000080\">│</span>\n",
       "<span style=\"color: #000080; text-decoration-color: #000080\">│</span>  - missing_mandatory_fields: [\"Shipment_Mode\"]                                                                  <span style=\"color: #000080; text-decoration-color: #000080\">│</span>\n",
       "<span style=\"color: #000080; text-decoration-color: #000080\">│</span>  - missing_optional_fields: [\"Product_Temperature\"]                                                             <span style=\"color: #000080; text-decoration-color: #000080\">│</span>\n",
       "<span style=\"color: #000080; text-decoration-color: #000080\">│</span>  - needs_user_confirmation: True                                                                                <span style=\"color: #000080; text-decoration-color: #000080\">│</span>\n",
       "<span style=\"color: #000080; text-decoration-color: #000080\">│</span>  - ask_for_optional_fields: True                                                                                <span style=\"color: #000080; text-decoration-color: #000080\">│</span>\n",
       "<span style=\"color: #000080; text-decoration-color: #000080\">│</span>  - AWB/BL: 12345                                                                                                <span style=\"color: #000080; text-decoration-color: #000080\">│</span>\n",
       "<span style=\"color: #000080; text-decoration-color: #000080\">│</span>  - Product Temperature: null                                                                                    <span style=\"color: #000080; text-decoration-color: #000080\">│</span>\n",
       "<span style=\"color: #000080; text-decoration-color: #000080\">│</span>  - Shipment Mode: null                                                                                          <span style=\"color: #000080; text-decoration-color: #000080\">│</span>\n",
       "<span style=\"color: #000080; text-decoration-color: #000080\">│</span>                                                                                                                 <span style=\"color: #000080; text-decoration-color: #000080\">│</span>\n",
       "<span style=\"color: #000080; text-decoration-color: #000080\">│</span>  **Example 2 - Complete Mandatory Data, Optional Missing:**                                                     <span style=\"color: #000080; text-decoration-color: #000080\">│</span>\n",
       "<span style=\"color: #000080; text-decoration-color: #000080\">│</span>  agent_brief: \"The input data includes AWB/BL: ABC123456, Shipment mode: Air\"                                   <span style=\"color: #000080; text-decoration-color: #000080\">│</span>\n",
       "<span style=\"color: #000080; text-decoration-color: #000080\">│</span>  - missing_mandatory_fields: []                                                                                 <span style=\"color: #000080; text-decoration-color: #000080\">│</span>\n",
       "<span style=\"color: #000080; text-decoration-color: #000080\">│</span>  - missing_optional_fields: [\"Product_Temperature\"]                                                             <span style=\"color: #000080; text-decoration-color: #000080\">│</span>\n",
       "<span style=\"color: #000080; text-decoration-color: #000080\">│</span>  - needs_user_confirmation: True                                                                                <span style=\"color: #000080; text-decoration-color: #000080\">│</span>\n",
       "<span style=\"color: #000080; text-decoration-color: #000080\">│</span>  - ask_for_optional_fields: True                                                                                <span style=\"color: #000080; text-decoration-color: #000080\">│</span>\n",
       "<span style=\"color: #000080; text-decoration-color: #000080\">│</span>  - AWB/BL: \"ABC123456\"                                                                                          <span style=\"color: #000080; text-decoration-color: #000080\">│</span>\n",
       "<span style=\"color: #000080; text-decoration-color: #000080\">│</span>  - Product Temperature: null                                                                                    <span style=\"color: #000080; text-decoration-color: #000080\">│</span>\n",
       "<span style=\"color: #000080; text-decoration-color: #000080\">│</span>  - Shipment Mode: \"Air\"                                                                                         <span style=\"color: #000080; text-decoration-color: #000080\">│</span>\n",
       "<span style=\"color: #000080; text-decoration-color: #000080\">│</span>                                                                                                                 <span style=\"color: #000080; text-decoration-color: #000080\">│</span>\n",
       "<span style=\"color: #000080; text-decoration-color: #000080\">│</span>  **Example 3 - User Skips Optional Fields:**                                                                    <span style=\"color: #000080; text-decoration-color: #000080\">│</span>\n",
       "<span style=\"color: #000080; text-decoration-color: #000080\">│</span>  agent_brief: \"User wants to skip optional fields and proceed with AWB: XYZ789012, Mode: Sea\"                   <span style=\"color: #000080; text-decoration-color: #000080\">│</span>\n",
       "<span style=\"color: #000080; text-decoration-color: #000080\">│</span>  - missing_mandatory_fields: []                                                                                 <span style=\"color: #000080; text-decoration-color: #000080\">│</span>\n",
       "<span style=\"color: #000080; text-decoration-color: #000080\">│</span>  - missing_optional_fields: [\"Product_Temperature\"]                                                             <span style=\"color: #000080; text-decoration-color: #000080\">│</span>\n",
       "<span style=\"color: #000080; text-decoration-color: #000080\">│</span>  - needs_user_confirmation: True                                                                                <span style=\"color: #000080; text-decoration-color: #000080\">│</span>\n",
       "<span style=\"color: #000080; text-decoration-color: #000080\">│</span>  - ask_for_optional_fields: False                                                                               <span style=\"color: #000080; text-decoration-color: #000080\">│</span>\n",
       "<span style=\"color: #000080; text-decoration-color: #000080\">│</span>  - AWB/BL: \"XYZ789012\"                                                                                          <span style=\"color: #000080; text-decoration-color: #000080\">│</span>\n",
       "<span style=\"color: #000080; text-decoration-color: #000080\">│</span>  - Product Temperature: null                                                                                    <span style=\"color: #000080; text-decoration-color: #000080\">│</span>\n",
       "<span style=\"color: #000080; text-decoration-color: #000080\">│</span>  - Shipment Mode: \"Sea\"                                                                                         <span style=\"color: #000080; text-decoration-color: #000080\">│</span>\n",
       "<span style=\"color: #000080; text-decoration-color: #000080\">│</span>                                                                                                                 <span style=\"color: #000080; text-decoration-color: #000080\">│</span>\n",
       "<span style=\"color: #000080; text-decoration-color: #000080\">│</span>  **Example 4 - User Confirms &amp; Skips Optionals:**                                                               <span style=\"color: #000080; text-decoration-color: #000080\">│</span>\n",
       "<span style=\"color: #000080; text-decoration-color: #000080\">│</span>  agent_brief: \"The input data includes all mandatory fields AWB/BL: ABC123456, Mode: Air. User confirms         <span style=\"color: #000080; text-decoration-color: #000080\">│</span>\n",
       "<span style=\"color: #000080; text-decoration-color: #000080\">│</span>  submission and requests to skip optional fields\"                                                               <span style=\"color: #000080; text-decoration-color: #000080\">│</span>\n",
       "<span style=\"color: #000080; text-decoration-color: #000080\">│</span>  - missing_mandatory_fields: []                                                                                 <span style=\"color: #000080; text-decoration-color: #000080\">│</span>\n",
       "<span style=\"color: #000080; text-decoration-color: #000080\">│</span>  - missing_optional_fields: [\"Product_Temperature\"]                                                             <span style=\"color: #000080; text-decoration-color: #000080\">│</span>\n",
       "<span style=\"color: #000080; text-decoration-color: #000080\">│</span>  - needs_user_confirmation: False                                                                               <span style=\"color: #000080; text-decoration-color: #000080\">│</span>\n",
       "<span style=\"color: #000080; text-decoration-color: #000080\">│</span>  - ask_for_optional_fields: False                                                                               <span style=\"color: #000080; text-decoration-color: #000080\">│</span>\n",
       "<span style=\"color: #000080; text-decoration-color: #000080\">│</span>  - AWB/BL: \"ABC123456\"                                                                                          <span style=\"color: #000080; text-decoration-color: #000080\">│</span>\n",
       "<span style=\"color: #000080; text-decoration-color: #000080\">│</span>  - Product Temperature: null                                                                                    <span style=\"color: #000080; text-decoration-color: #000080\">│</span>\n",
       "<span style=\"color: #000080; text-decoration-color: #000080\">│</span>  - Shipment Mode: \"Air\"                                                                                         <span style=\"color: #000080; text-decoration-color: #000080\">│</span>\n",
       "<span style=\"color: #000080; text-decoration-color: #000080\">│</span>                                                                                                                 <span style=\"color: #000080; text-decoration-color: #000080\">│</span>\n",
       "<span style=\"color: #000080; text-decoration-color: #000080\">│</span>  **Example 5 - All Optional Field Provided:**                                                                   <span style=\"color: #000080; text-decoration-color: #000080\">│</span>\n",
       "<span style=\"color: #000080; text-decoration-color: #000080\">│</span>  agent_brief: \"AWB/BL: XYZ789012, Temperature: 2-8°C cold chain, Mode: Sea\"                                     <span style=\"color: #000080; text-decoration-color: #000080\">│</span>\n",
       "<span style=\"color: #000080; text-decoration-color: #000080\">│</span>  - missing_mandatory_fields: []                                                                                 <span style=\"color: #000080; text-decoration-color: #000080\">│</span>\n",
       "<span style=\"color: #000080; text-decoration-color: #000080\">│</span>  - missing_optional_fields: []                                                                                  <span style=\"color: #000080; text-decoration-color: #000080\">│</span>\n",
       "<span style=\"color: #000080; text-decoration-color: #000080\">│</span>  - needs_user_confirmation: True                                                                                <span style=\"color: #000080; text-decoration-color: #000080\">│</span>\n",
       "<span style=\"color: #000080; text-decoration-color: #000080\">│</span>  - ask_for_optional_fields: False                                                                               <span style=\"color: #000080; text-decoration-color: #000080\">│</span>\n",
       "<span style=\"color: #000080; text-decoration-color: #000080\">│</span>  - AWB/BL: \"XYZ789012\"                                                                                          <span style=\"color: #000080; text-decoration-color: #000080\">│</span>\n",
       "<span style=\"color: #000080; text-decoration-color: #000080\">│</span>  - Product Temperature: \"2-8°C cold chain\"                                                                      <span style=\"color: #000080; text-decoration-color: #000080\">│</span>\n",
       "<span style=\"color: #000080; text-decoration-color: #000080\">│</span>  - Shipment Mode: \"Sea\"                                                                                         <span style=\"color: #000080; text-decoration-color: #000080\">│</span>\n",
       "<span style=\"color: #000080; text-decoration-color: #000080\">│</span>                                                                                                                 <span style=\"color: #000080; text-decoration-color: #000080\">│</span>\n",
       "<span style=\"color: #000080; text-decoration-color: #000080\">│</span>  **Example 6 - User Modifies Existing Data:**                                                                   <span style=\"color: #000080; text-decoration-color: #000080\">│</span>\n",
       "<span style=\"color: #000080; text-decoration-color: #000080\">│</span>  agent_brief: \"The input says AWB/BL: DEF789123, and requests to change the Mode from Air to Sea\"               <span style=\"color: #000080; text-decoration-color: #000080\">│</span>\n",
       "<span style=\"color: #000080; text-decoration-color: #000080\">│</span>  - missing_mandatory_fields: []                                                                                 <span style=\"color: #000080; text-decoration-color: #000080\">│</span>\n",
       "<span style=\"color: #000080; text-decoration-color: #000080\">│</span>  - missing_optional_fields: [\"Product_Temperature\"]                                                             <span style=\"color: #000080; text-decoration-color: #000080\">│</span>\n",
       "<span style=\"color: #000080; text-decoration-color: #000080\">│</span>  - needs_user_confirmation: True                                                                                <span style=\"color: #000080; text-decoration-color: #000080\">│</span>\n",
       "<span style=\"color: #000080; text-decoration-color: #000080\">│</span>  - ask_for_optional_fields: True             (reset to True due to modification)                                <span style=\"color: #000080; text-decoration-color: #000080\">│</span>\n",
       "<span style=\"color: #000080; text-decoration-color: #000080\">│</span>  - AWB/BL: \"DEF789123\"                                                                                          <span style=\"color: #000080; text-decoration-color: #000080\">│</span>\n",
       "<span style=\"color: #000080; text-decoration-color: #000080\">│</span>  - Product Temperature: null                                                                                    <span style=\"color: #000080; text-decoration-color: #000080\">│</span>\n",
       "<span style=\"color: #000080; text-decoration-color: #000080\">│</span>  - Shipment Mode: \"Sea\"                                                                                         <span style=\"color: #000080; text-decoration-color: #000080\">│</span>\n",
       "<span style=\"color: #000080; text-decoration-color: #000080\">│</span>                                                                                                                 <span style=\"color: #000080; text-decoration-color: #000080\">│</span>\n",
       "<span style=\"color: #000080; text-decoration-color: #000080\">│</span>  **Important Notes:**                                                                                           <span style=\"color: #000080; text-decoration-color: #000080\">│</span>\n",
       "<span style=\"color: #000080; text-decoration-color: #000080\">│</span>  - Prioritize **accuracy over completion**.                                                                     <span style=\"color: #000080; text-decoration-color: #000080\">│</span>\n",
       "<span style=\"color: #000080; text-decoration-color: #000080\">│</span>  - If information is unclear, mark as missing rather than guessing.                                             <span style=\"color: #000080; text-decoration-color: #000080\">│</span>\n",
       "<span style=\"color: #000080; text-decoration-color: #000080\">│</span>  - Pay attention to explicit confirmation language.                                                             <span style=\"color: #000080; text-decoration-color: #000080\">│</span>\n",
       "<span style=\"color: #000080; text-decoration-color: #000080\">│</span>  - Use tools if lookup is required                                                                              <span style=\"color: #000080; text-decoration-color: #000080\">│</span>\n",
       "<span style=\"color: #000080; text-decoration-color: #000080\">│</span>  - Maintain professional tone and be precise in data extraction                                                 <span style=\"color: #000080; text-decoration-color: #000080\">│</span>\n",
       "<span style=\"color: #000080; text-decoration-color: #000080\">│</span>  - Reset `\"ask_for_optional_fields\"` whenever new/updated data is provided.                                     <span style=\"color: #000080; text-decoration-color: #000080\">│</span>\n",
       "<span style=\"color: #000080; text-decoration-color: #000080\">│</span>                                                                                                                 <span style=\"color: #000080; text-decoration-color: #000080\">│</span>\n",
       "<span style=\"color: #000080; text-decoration-color: #000080\">│</span>  Now, analyze the provided logistics data and populate the `LogisticsSchema` accordingly.                       <span style=\"color: #000080; text-decoration-color: #000080\">│</span>\n",
       "<span style=\"color: #000080; text-decoration-color: #000080\">│</span>                                                                                                                 <span style=\"color: #000080; text-decoration-color: #000080\">│</span>\n",
       "<span style=\"color: #000080; text-decoration-color: #000080\">│</span>                                                                                                                 <span style=\"color: #000080; text-decoration-color: #000080\">│</span>\n",
       "<span style=\"color: #000080; text-decoration-color: #000080\">│</span>                                                                                                                 <span style=\"color: #000080; text-decoration-color: #000080\">│</span>\n",
       "<span style=\"color: #000080; text-decoration-color: #000080\">╰─────────────────────────────────────────────────────────────────────────────────────────────────────────────────╯</span>\n",
       "</pre>\n"
      ],
      "text/plain": [
       "\u001b[34m╭─\u001b[0m\u001b[34m────────────────────────────────────────────\u001b[0m\u001b[34m \u001b[0m\u001b[1;32mlogistics_agent_tasks\u001b[0m\u001b[34m \u001b[0m\u001b[34m────────────────────────────────────────────\u001b[0m\u001b[34m─╮\u001b[0m\n",
       "\u001b[34m│\u001b[0m                                                                                                                 \u001b[34m│\u001b[0m\n",
       "\u001b[34m│\u001b[0m                                                                                                                 \u001b[34m│\u001b[0m\n",
       "\u001b[34m│\u001b[0m  These are the Logistics Data received so far:                                                                  \u001b[34m│\u001b[0m\n",
       "\u001b[34m│\u001b[0m                                                                                                                 \u001b[34m│\u001b[0m\n",
       "\u001b[34m│\u001b[0m  \u001b[1;34m<agent_brief>\u001b[0m                                                                                                  \u001b[34m│\u001b[0m\n",
       "\u001b[34m│\u001b[0m  {agent_brief}                                                                                                  \u001b[34m│\u001b[0m\n",
       "\u001b[34m│\u001b[0m  \u001b[1;34m</agent_brief>\u001b[0m                                                                                                 \u001b[34m│\u001b[0m\n",
       "\u001b[34m│\u001b[0m                                                                                                                 \u001b[34m│\u001b[0m\n",
       "\u001b[34m│\u001b[0m  \u001b[1;34m<field_specifications>\u001b[0m                                                                                         \u001b[34m│\u001b[0m\n",
       "\u001b[34m│\u001b[0m  {fields_details}                                                                                               \u001b[34m│\u001b[0m\n",
       "\u001b[34m│\u001b[0m  \u001b[1;34m</field_specifications>\u001b[0m                                                                                        \u001b[34m│\u001b[0m\n",
       "\u001b[34m│\u001b[0m                                                                                                                 \u001b[34m│\u001b[0m\n",
       "\u001b[34m│\u001b[0m  \u001b[1;34m<mandatory_fields>\u001b[0m                                                                                             \u001b[34m│\u001b[0m\n",
       "\u001b[34m│\u001b[0m  {mandatory_fields}                                                                                             \u001b[34m│\u001b[0m\n",
       "\u001b[34m│\u001b[0m  \u001b[1;34m</mandatory_fields>\u001b[0m                                                                                            \u001b[34m│\u001b[0m\n",
       "\u001b[34m│\u001b[0m                                                                                                                 \u001b[34m│\u001b[0m\n",
       "\u001b[34m│\u001b[0m  \u001b[1;34m<optional_fields>\u001b[0m                                                                                              \u001b[34m│\u001b[0m\n",
       "\u001b[34m│\u001b[0m  {optional_fields}                                                                                              \u001b[34m│\u001b[0m\n",
       "\u001b[34m│\u001b[0m  \u001b[1;34m</optional_fields>\u001b[0m                                                                                             \u001b[34m│\u001b[0m\n",
       "\u001b[34m│\u001b[0m                                                                                                                 \u001b[34m│\u001b[0m\n",
       "\u001b[34m│\u001b[0m  Today's date is {date}.                                                                                        \u001b[34m│\u001b[0m\n",
       "\u001b[34m│\u001b[0m                                                                                                                 \u001b[34m│\u001b[0m\n",
       "\u001b[34m│\u001b[0m  Your role is to act as the logistician Agent in the Inbound Logistics system.                                  \u001b[34m│\u001b[0m\n",
       "\u001b[34m│\u001b[0m  Your responsibilities are:                                                                                     \u001b[34m│\u001b[0m\n",
       "\u001b[34m│\u001b[0m                                                                                                                 \u001b[34m│\u001b[0m\n",
       "\u001b[34m│\u001b[0m  \u001b[1;34m<Instructions>\u001b[0m                                                                                                 \u001b[34m│\u001b[0m\n",
       "\u001b[34m│\u001b[0m  1. **Extract Information:** - Parse the provided data and extract values for all available schema fields       \u001b[34m│\u001b[0m\n",
       "\u001b[34m│\u001b[0m  2. **Identify Missing Fields:**                                                                                \u001b[34m│\u001b[0m\n",
       "\u001b[34m│\u001b[0m     - Record any missing mandatory fields in `\"missing_mandatory_fields\"`                                       \u001b[34m│\u001b[0m\n",
       "\u001b[34m│\u001b[0m     - Record any missing optional fields in `\"missing_optional_fields\"`                                         \u001b[34m│\u001b[0m\n",
       "\u001b[34m│\u001b[0m  3. **Field Mapping:** - Map extracted values to the corresponding schema fields. Use null if missing, e.g:     \u001b[34m│\u001b[0m\n",
       "\u001b[34m│\u001b[0m     - `\"AWB/BL\"`: The unique Air Waybill or Bill of Lading number for the shipment                              \u001b[34m│\u001b[0m\n",
       "\u001b[34m│\u001b[0m     - `\"Product Temperature\"`: The temperature conditions required to safely transport and store a product.     \u001b[34m│\u001b[0m\n",
       "\u001b[34m│\u001b[0m     - `\"Shipment Mode\"`: The method of transporting goods from the origin to the destination.                   \u001b[34m│\u001b[0m\n",
       "\u001b[34m│\u001b[0m  4. **Optional Fields Logic:** - Set `\"ask_for_optional_fields\"` to:                                            \u001b[34m│\u001b[0m\n",
       "\u001b[34m│\u001b[0m     - `False` ONLY if the user explicitly requests to skip them or to skip items listed in                      \u001b[34m│\u001b[0m\n",
       "\u001b[34m│\u001b[0m  missing_optional_fields (phrases like \"skip optional\", \"proceed without optional\", \"don't ask for optional\",   \u001b[34m│\u001b[0m\n",
       "\u001b[34m│\u001b[0m  \"ignore optional fields\", \"skip x,y,z\" where missing_optional_fields=[x,y,z]))                                 \u001b[34m│\u001b[0m\n",
       "\u001b[34m│\u001b[0m     - `True` in all other cases (default behavior)                                                              \u001b[34m│\u001b[0m\n",
       "\u001b[34m│\u001b[0m     - **Important**: - Reset to `True` whenever the user provides new or updated data                           \u001b[34m│\u001b[0m\n",
       "\u001b[34m│\u001b[0m  5. **Confirmation Logic:** - Set `\"needs_user_confirmation\"` to:                                               \u001b[34m│\u001b[0m\n",
       "\u001b[34m│\u001b[0m     - `False` ONLY if:                                                                                          \u001b[34m│\u001b[0m\n",
       "\u001b[34m│\u001b[0m       - No missing mandatory fields `mssing_mandatory_fields=[]`                                                \u001b[34m│\u001b[0m\n",
       "\u001b[34m│\u001b[0m       - The user explicitly confirms the record details                                                         \u001b[34m│\u001b[0m\n",
       "\u001b[34m│\u001b[0m     - `True` in all other cases (default behavior)                                                              \u001b[34m│\u001b[0m\n",
       "\u001b[34m│\u001b[0m  \u001b[1;34m</Instructions>\u001b[0m                                                                                                \u001b[34m│\u001b[0m\n",
       "\u001b[34m│\u001b[0m                                                                                                                 \u001b[34m│\u001b[0m\n",
       "\u001b[34m│\u001b[0m  \u001b[1;34m<Data Extraction Guidelines>\u001b[0m                                                                                   \u001b[34m│\u001b[0m\n",
       "\u001b[34m│\u001b[0m  - **Missing Fields**                                                                                           \u001b[34m│\u001b[0m\n",
       "\u001b[34m│\u001b[0m    - Always set missing fields to null (None in Python)                                                         \u001b[34m│\u001b[0m\n",
       "\u001b[34m│\u001b[0m    - Never use empty strings as placeholders                                                                    \u001b[34m│\u001b[0m\n",
       "\u001b[34m│\u001b[0m  - **Dates**                                                                                                    \u001b[34m│\u001b[0m\n",
       "\u001b[34m│\u001b[0m    - Convert all dates into Python date objects                                                                 \u001b[34m│\u001b[0m\n",
       "\u001b[34m│\u001b[0m    - If no date is provided, set the field to null (None in Python)                                             \u001b[34m│\u001b[0m\n",
       "\u001b[34m│\u001b[0m  - **String**                                                                                                   \u001b[34m│\u001b[0m\n",
       "\u001b[34m│\u001b[0m    - Extract exact values as provided                                                                           \u001b[34m│\u001b[0m\n",
       "\u001b[34m│\u001b[0m    - Use full descriptive text if available, without truncation                                                 \u001b[34m│\u001b[0m\n",
       "\u001b[34m│\u001b[0m  - **Field Name Flexibility** - Support variations in field names. e.g, \"AWB\", \"AWB Number\", \"Air Waybill\" →    \u001b[34m│\u001b[0m\n",
       "\u001b[34m│\u001b[0m  all map to AWB                                                                                                 \u001b[34m│\u001b[0m\n",
       "\u001b[34m│\u001b[0m  - **Ambiguous Information** - f the data is unclear, inconsistent, or cannot be reliably determined, set the   \u001b[34m│\u001b[0m\n",
       "\u001b[34m│\u001b[0m  field to null (None in Python)                                                                                 \u001b[34m│\u001b[0m\n",
       "\u001b[34m│\u001b[0m  \u001b[1;34m</Data Extraction Guidelines>\u001b[0m                                                                                  \u001b[34m│\u001b[0m\n",
       "\u001b[34m│\u001b[0m                                                                                                                 \u001b[34m│\u001b[0m\n",
       "\u001b[34m│\u001b[0m  Behaviors:                                                                                                     \u001b[34m│\u001b[0m\n",
       "\u001b[34m│\u001b[0m  **Example 1 - Missing Mandatory Fields:**                                                                      \u001b[34m│\u001b[0m\n",
       "\u001b[34m│\u001b[0m  agent_brief: \"The input data includes AWB/BL 12345\"                                                            \u001b[34m│\u001b[0m\n",
       "\u001b[34m│\u001b[0m  - missing_mandatory_fields: [\"Shipment_Mode\"]                                                                  \u001b[34m│\u001b[0m\n",
       "\u001b[34m│\u001b[0m  - missing_optional_fields: [\"Product_Temperature\"]                                                             \u001b[34m│\u001b[0m\n",
       "\u001b[34m│\u001b[0m  - needs_user_confirmation: True                                                                                \u001b[34m│\u001b[0m\n",
       "\u001b[34m│\u001b[0m  - ask_for_optional_fields: True                                                                                \u001b[34m│\u001b[0m\n",
       "\u001b[34m│\u001b[0m  - AWB/BL: 12345                                                                                                \u001b[34m│\u001b[0m\n",
       "\u001b[34m│\u001b[0m  - Product Temperature: null                                                                                    \u001b[34m│\u001b[0m\n",
       "\u001b[34m│\u001b[0m  - Shipment Mode: null                                                                                          \u001b[34m│\u001b[0m\n",
       "\u001b[34m│\u001b[0m                                                                                                                 \u001b[34m│\u001b[0m\n",
       "\u001b[34m│\u001b[0m  **Example 2 - Complete Mandatory Data, Optional Missing:**                                                     \u001b[34m│\u001b[0m\n",
       "\u001b[34m│\u001b[0m  agent_brief: \"The input data includes AWB/BL: ABC123456, Shipment mode: Air\"                                   \u001b[34m│\u001b[0m\n",
       "\u001b[34m│\u001b[0m  - missing_mandatory_fields: []                                                                                 \u001b[34m│\u001b[0m\n",
       "\u001b[34m│\u001b[0m  - missing_optional_fields: [\"Product_Temperature\"]                                                             \u001b[34m│\u001b[0m\n",
       "\u001b[34m│\u001b[0m  - needs_user_confirmation: True                                                                                \u001b[34m│\u001b[0m\n",
       "\u001b[34m│\u001b[0m  - ask_for_optional_fields: True                                                                                \u001b[34m│\u001b[0m\n",
       "\u001b[34m│\u001b[0m  - AWB/BL: \"ABC123456\"                                                                                          \u001b[34m│\u001b[0m\n",
       "\u001b[34m│\u001b[0m  - Product Temperature: null                                                                                    \u001b[34m│\u001b[0m\n",
       "\u001b[34m│\u001b[0m  - Shipment Mode: \"Air\"                                                                                         \u001b[34m│\u001b[0m\n",
       "\u001b[34m│\u001b[0m                                                                                                                 \u001b[34m│\u001b[0m\n",
       "\u001b[34m│\u001b[0m  **Example 3 - User Skips Optional Fields:**                                                                    \u001b[34m│\u001b[0m\n",
       "\u001b[34m│\u001b[0m  agent_brief: \"User wants to skip optional fields and proceed with AWB: XYZ789012, Mode: Sea\"                   \u001b[34m│\u001b[0m\n",
       "\u001b[34m│\u001b[0m  - missing_mandatory_fields: []                                                                                 \u001b[34m│\u001b[0m\n",
       "\u001b[34m│\u001b[0m  - missing_optional_fields: [\"Product_Temperature\"]                                                             \u001b[34m│\u001b[0m\n",
       "\u001b[34m│\u001b[0m  - needs_user_confirmation: True                                                                                \u001b[34m│\u001b[0m\n",
       "\u001b[34m│\u001b[0m  - ask_for_optional_fields: False                                                                               \u001b[34m│\u001b[0m\n",
       "\u001b[34m│\u001b[0m  - AWB/BL: \"XYZ789012\"                                                                                          \u001b[34m│\u001b[0m\n",
       "\u001b[34m│\u001b[0m  - Product Temperature: null                                                                                    \u001b[34m│\u001b[0m\n",
       "\u001b[34m│\u001b[0m  - Shipment Mode: \"Sea\"                                                                                         \u001b[34m│\u001b[0m\n",
       "\u001b[34m│\u001b[0m                                                                                                                 \u001b[34m│\u001b[0m\n",
       "\u001b[34m│\u001b[0m  **Example 4 - User Confirms & Skips Optionals:**                                                               \u001b[34m│\u001b[0m\n",
       "\u001b[34m│\u001b[0m  agent_brief: \"The input data includes all mandatory fields AWB/BL: ABC123456, Mode: Air. User confirms         \u001b[34m│\u001b[0m\n",
       "\u001b[34m│\u001b[0m  submission and requests to skip optional fields\"                                                               \u001b[34m│\u001b[0m\n",
       "\u001b[34m│\u001b[0m  - missing_mandatory_fields: []                                                                                 \u001b[34m│\u001b[0m\n",
       "\u001b[34m│\u001b[0m  - missing_optional_fields: [\"Product_Temperature\"]                                                             \u001b[34m│\u001b[0m\n",
       "\u001b[34m│\u001b[0m  - needs_user_confirmation: False                                                                               \u001b[34m│\u001b[0m\n",
       "\u001b[34m│\u001b[0m  - ask_for_optional_fields: False                                                                               \u001b[34m│\u001b[0m\n",
       "\u001b[34m│\u001b[0m  - AWB/BL: \"ABC123456\"                                                                                          \u001b[34m│\u001b[0m\n",
       "\u001b[34m│\u001b[0m  - Product Temperature: null                                                                                    \u001b[34m│\u001b[0m\n",
       "\u001b[34m│\u001b[0m  - Shipment Mode: \"Air\"                                                                                         \u001b[34m│\u001b[0m\n",
       "\u001b[34m│\u001b[0m                                                                                                                 \u001b[34m│\u001b[0m\n",
       "\u001b[34m│\u001b[0m  **Example 5 - All Optional Field Provided:**                                                                   \u001b[34m│\u001b[0m\n",
       "\u001b[34m│\u001b[0m  agent_brief: \"AWB/BL: XYZ789012, Temperature: 2-8°C cold chain, Mode: Sea\"                                     \u001b[34m│\u001b[0m\n",
       "\u001b[34m│\u001b[0m  - missing_mandatory_fields: []                                                                                 \u001b[34m│\u001b[0m\n",
       "\u001b[34m│\u001b[0m  - missing_optional_fields: []                                                                                  \u001b[34m│\u001b[0m\n",
       "\u001b[34m│\u001b[0m  - needs_user_confirmation: True                                                                                \u001b[34m│\u001b[0m\n",
       "\u001b[34m│\u001b[0m  - ask_for_optional_fields: False                                                                               \u001b[34m│\u001b[0m\n",
       "\u001b[34m│\u001b[0m  - AWB/BL: \"XYZ789012\"                                                                                          \u001b[34m│\u001b[0m\n",
       "\u001b[34m│\u001b[0m  - Product Temperature: \"2-8°C cold chain\"                                                                      \u001b[34m│\u001b[0m\n",
       "\u001b[34m│\u001b[0m  - Shipment Mode: \"Sea\"                                                                                         \u001b[34m│\u001b[0m\n",
       "\u001b[34m│\u001b[0m                                                                                                                 \u001b[34m│\u001b[0m\n",
       "\u001b[34m│\u001b[0m  **Example 6 - User Modifies Existing Data:**                                                                   \u001b[34m│\u001b[0m\n",
       "\u001b[34m│\u001b[0m  agent_brief: \"The input says AWB/BL: DEF789123, and requests to change the Mode from Air to Sea\"               \u001b[34m│\u001b[0m\n",
       "\u001b[34m│\u001b[0m  - missing_mandatory_fields: []                                                                                 \u001b[34m│\u001b[0m\n",
       "\u001b[34m│\u001b[0m  - missing_optional_fields: [\"Product_Temperature\"]                                                             \u001b[34m│\u001b[0m\n",
       "\u001b[34m│\u001b[0m  - needs_user_confirmation: True                                                                                \u001b[34m│\u001b[0m\n",
       "\u001b[34m│\u001b[0m  - ask_for_optional_fields: True             (reset to True due to modification)                                \u001b[34m│\u001b[0m\n",
       "\u001b[34m│\u001b[0m  - AWB/BL: \"DEF789123\"                                                                                          \u001b[34m│\u001b[0m\n",
       "\u001b[34m│\u001b[0m  - Product Temperature: null                                                                                    \u001b[34m│\u001b[0m\n",
       "\u001b[34m│\u001b[0m  - Shipment Mode: \"Sea\"                                                                                         \u001b[34m│\u001b[0m\n",
       "\u001b[34m│\u001b[0m                                                                                                                 \u001b[34m│\u001b[0m\n",
       "\u001b[34m│\u001b[0m  **Important Notes:**                                                                                           \u001b[34m│\u001b[0m\n",
       "\u001b[34m│\u001b[0m  - Prioritize **accuracy over completion**.                                                                     \u001b[34m│\u001b[0m\n",
       "\u001b[34m│\u001b[0m  - If information is unclear, mark as missing rather than guessing.                                             \u001b[34m│\u001b[0m\n",
       "\u001b[34m│\u001b[0m  - Pay attention to explicit confirmation language.                                                             \u001b[34m│\u001b[0m\n",
       "\u001b[34m│\u001b[0m  - Use tools if lookup is required                                                                              \u001b[34m│\u001b[0m\n",
       "\u001b[34m│\u001b[0m  - Maintain professional tone and be precise in data extraction                                                 \u001b[34m│\u001b[0m\n",
       "\u001b[34m│\u001b[0m  - Reset `\"ask_for_optional_fields\"` whenever new/updated data is provided.                                     \u001b[34m│\u001b[0m\n",
       "\u001b[34m│\u001b[0m                                                                                                                 \u001b[34m│\u001b[0m\n",
       "\u001b[34m│\u001b[0m  Now, analyze the provided logistics data and populate the `LogisticsSchema` accordingly.                       \u001b[34m│\u001b[0m\n",
       "\u001b[34m│\u001b[0m                                                                                                                 \u001b[34m│\u001b[0m\n",
       "\u001b[34m│\u001b[0m                                                                                                                 \u001b[34m│\u001b[0m\n",
       "\u001b[34m│\u001b[0m                                                                                                                 \u001b[34m│\u001b[0m\n",
       "\u001b[34m╰─────────────────────────────────────────────────────────────────────────────────────────────────────────────────╯\u001b[0m\n"
      ]
     },
     "metadata": {},
     "output_type": "display_data"
    }
   ],
   "source": [
    "from src.utils import show_prompt\n",
    "from src.prompt import logistics_agent_tasks\n",
    "show_prompt(logistics_agent_tasks, \"logistics_agent_tasks\")"
   ]
  },
  {
   "cell_type": "code",
   "execution_count": 4,
   "id": "f7b2fd33",
   "metadata": {},
   "outputs": [
    {
     "data": {
      "text/html": [
       "<pre style=\"white-space:pre;overflow-x:auto;line-height:normal;font-family:Menlo,'DejaVu Sans Mono',consolas,'Courier New',monospace\"><span style=\"color: #000080; text-decoration-color: #000080\">╭──────────────────────────────────────── </span><span style=\"color: #008000; text-decoration-color: #008000; font-weight: bold\">missing_mandatory_fields_prompt</span><span style=\"color: #000080; text-decoration-color: #000080\"> ────────────────────────────────────────╮</span>\n",
       "<span style=\"color: #000080; text-decoration-color: #000080\">│</span>                                                                                                                 <span style=\"color: #000080; text-decoration-color: #000080\">│</span>\n",
       "<span style=\"color: #000080; text-decoration-color: #000080\">│</span>                                                                                                                 <span style=\"color: #000080; text-decoration-color: #000080\">│</span>\n",
       "<span style=\"color: #000080; text-decoration-color: #000080\">│</span>  **GOAL**                                                                                                       <span style=\"color: #000080; text-decoration-color: #000080\">│</span>\n",
       "<span style=\"color: #000080; text-decoration-color: #000080\">│</span>  Write a concise message for a user, informing them about missing required fields. Start right away without     <span style=\"color: #000080; text-decoration-color: #000080\">│</span>\n",
       "<span style=\"color: #000080; text-decoration-color: #000080\">│</span>  introduction                                                                                                   <span style=\"color: #000080; text-decoration-color: #000080\">│</span>\n",
       "<span style=\"color: #000080; text-decoration-color: #000080\">│</span>                                                                                                                 <span style=\"color: #000080; text-decoration-color: #000080\">│</span>\n",
       "<span style=\"color: #000080; text-decoration-color: #000080\">│</span>  ⚠️ **Missing Required Information**                                                                             <span style=\"color: #000080; text-decoration-color: #000080\">│</span>\n",
       "<span style=\"color: #000080; text-decoration-color: #000080\">│</span>  I cannot proceed with the {agent} request until the following required fields are provided                     <span style=\"color: #000080; text-decoration-color: #000080\">│</span>\n",
       "<span style=\"color: #000080; text-decoration-color: #000080\">│</span>                                                                                                                 <span style=\"color: #000080; text-decoration-color: #000080\">│</span>\n",
       "<span style=\"color: #000080; text-decoration-color: #000080\">│</span>  <span style=\"color: #000080; text-decoration-color: #000080; font-weight: bold\">&lt;missing_fields&gt;</span>                                                                                               <span style=\"color: #000080; text-decoration-color: #000080\">│</span>\n",
       "<span style=\"color: #000080; text-decoration-color: #000080\">│</span>  {missing_mandatory_fields}                                                                                     <span style=\"color: #000080; text-decoration-color: #000080\">│</span>\n",
       "<span style=\"color: #000080; text-decoration-color: #000080\">│</span>  <span style=\"color: #000080; text-decoration-color: #000080; font-weight: bold\">&lt;/missing_fields&gt;</span>                                                                                              <span style=\"color: #000080; text-decoration-color: #000080\">│</span>\n",
       "<span style=\"color: #000080; text-decoration-color: #000080\">│</span>                                                                                                                 <span style=\"color: #000080; text-decoration-color: #000080\">│</span>\n",
       "<span style=\"color: #000080; text-decoration-color: #000080\">│</span>  📌 **Details of Missing Fields**                                                                               <span style=\"color: #000080; text-decoration-color: #000080\">│</span>\n",
       "<span style=\"color: #000080; text-decoration-color: #000080\">│</span>  {missing_mandatory_field_details}                                                                              <span style=\"color: #000080; text-decoration-color: #000080\">│</span>\n",
       "<span style=\"color: #000080; text-decoration-color: #000080\">│</span>                                                                                                                 <span style=\"color: #000080; text-decoration-color: #000080\">│</span>\n",
       "<span style=\"color: #000080; text-decoration-color: #000080\">│</span>  **How to provide the information:**                                                                            <span style=\"color: #000080; text-decoration-color: #000080\">│</span>\n",
       "<span style=\"color: #000080; text-decoration-color: #000080\">│</span>  Please share the missing details in a in **clear, structured format**, e.g:                                    <span style=\"color: #000080; text-decoration-color: #000080\">│</span>\n",
       "<span style=\"color: #000080; text-decoration-color: #000080\">│</span>                                                                                                                 <span style=\"color: #000080; text-decoration-color: #000080\">│</span>\n",
       "<span style=\"color: #000080; text-decoration-color: #000080\">│</span>  - \"AWB/BL : ABC123456                                                                                          <span style=\"color: #000080; text-decoration-color: #000080\">│</span>\n",
       "<span style=\"color: #000080; text-decoration-color: #000080\">│</span>  - Shipment Mode: Air freight\"                                                                                  <span style=\"color: #000080; text-decoration-color: #000080\">│</span>\n",
       "<span style=\"color: #000080; text-decoration-color: #000080\">│</span>                                                                                                                 <span style=\"color: #000080; text-decoration-color: #000080\">│</span>\n",
       "<span style=\"color: #000080; text-decoration-color: #000080\">│</span>  You may provide them together in JSON-style formatting, or simply list them in your reply.                     <span style=\"color: #000080; text-decoration-color: #000080\">│</span>\n",
       "<span style=\"color: #000080; text-decoration-color: #000080\">│</span>                                                                                                                 <span style=\"color: #000080; text-decoration-color: #000080\">│</span>\n",
       "<span style=\"color: #000080; text-decoration-color: #000080\">│</span>  💡 **Tip:**                                                                                                    <span style=\"color: #000080; text-decoration-color: #000080\">│</span>\n",
       "<span style=\"color: #000080; text-decoration-color: #000080\">│</span>  If you are unsure about any of the required fields or need clarification, just let me know and I’ll guide      <span style=\"color: #000080; text-decoration-color: #000080\">│</span>\n",
       "<span style=\"color: #000080; text-decoration-color: #000080\">│</span>  you.                                                                                                           <span style=\"color: #000080; text-decoration-color: #000080\">│</span>\n",
       "<span style=\"color: #000080; text-decoration-color: #000080\">│</span>                                                                                                                 <span style=\"color: #000080; text-decoration-color: #000080\">│</span>\n",
       "<span style=\"color: #000080; text-decoration-color: #000080\">│</span>                                                                                                                 <span style=\"color: #000080; text-decoration-color: #000080\">│</span>\n",
       "<span style=\"color: #000080; text-decoration-color: #000080\">│</span>                                                                                                                 <span style=\"color: #000080; text-decoration-color: #000080\">│</span>\n",
       "<span style=\"color: #000080; text-decoration-color: #000080\">╰─────────────────────────────────────────────────────────────────────────────────────────────────────────────────╯</span>\n",
       "</pre>\n"
      ],
      "text/plain": [
       "\u001b[34m╭─\u001b[0m\u001b[34m───────────────────────────────────────\u001b[0m\u001b[34m \u001b[0m\u001b[1;32mmissing_mandatory_fields_prompt\u001b[0m\u001b[34m \u001b[0m\u001b[34m───────────────────────────────────────\u001b[0m\u001b[34m─╮\u001b[0m\n",
       "\u001b[34m│\u001b[0m                                                                                                                 \u001b[34m│\u001b[0m\n",
       "\u001b[34m│\u001b[0m                                                                                                                 \u001b[34m│\u001b[0m\n",
       "\u001b[34m│\u001b[0m  **GOAL**                                                                                                       \u001b[34m│\u001b[0m\n",
       "\u001b[34m│\u001b[0m  Write a concise message for a user, informing them about missing required fields. Start right away without     \u001b[34m│\u001b[0m\n",
       "\u001b[34m│\u001b[0m  introduction                                                                                                   \u001b[34m│\u001b[0m\n",
       "\u001b[34m│\u001b[0m                                                                                                                 \u001b[34m│\u001b[0m\n",
       "\u001b[34m│\u001b[0m  ⚠️ **Missing Required Information**                                                                             \u001b[34m│\u001b[0m\n",
       "\u001b[34m│\u001b[0m  I cannot proceed with the {agent} request until the following required fields are provided                     \u001b[34m│\u001b[0m\n",
       "\u001b[34m│\u001b[0m                                                                                                                 \u001b[34m│\u001b[0m\n",
       "\u001b[34m│\u001b[0m  \u001b[1;34m<missing_fields>\u001b[0m                                                                                               \u001b[34m│\u001b[0m\n",
       "\u001b[34m│\u001b[0m  {missing_mandatory_fields}                                                                                     \u001b[34m│\u001b[0m\n",
       "\u001b[34m│\u001b[0m  \u001b[1;34m</missing_fields>\u001b[0m                                                                                              \u001b[34m│\u001b[0m\n",
       "\u001b[34m│\u001b[0m                                                                                                                 \u001b[34m│\u001b[0m\n",
       "\u001b[34m│\u001b[0m  📌 **Details of Missing Fields**                                                                               \u001b[34m│\u001b[0m\n",
       "\u001b[34m│\u001b[0m  {missing_mandatory_field_details}                                                                              \u001b[34m│\u001b[0m\n",
       "\u001b[34m│\u001b[0m                                                                                                                 \u001b[34m│\u001b[0m\n",
       "\u001b[34m│\u001b[0m  **How to provide the information:**                                                                            \u001b[34m│\u001b[0m\n",
       "\u001b[34m│\u001b[0m  Please share the missing details in a in **clear, structured format**, e.g:                                    \u001b[34m│\u001b[0m\n",
       "\u001b[34m│\u001b[0m                                                                                                                 \u001b[34m│\u001b[0m\n",
       "\u001b[34m│\u001b[0m  - \"AWB/BL : ABC123456                                                                                          \u001b[34m│\u001b[0m\n",
       "\u001b[34m│\u001b[0m  - Shipment Mode: Air freight\"                                                                                  \u001b[34m│\u001b[0m\n",
       "\u001b[34m│\u001b[0m                                                                                                                 \u001b[34m│\u001b[0m\n",
       "\u001b[34m│\u001b[0m  You may provide them together in JSON-style formatting, or simply list them in your reply.                     \u001b[34m│\u001b[0m\n",
       "\u001b[34m│\u001b[0m                                                                                                                 \u001b[34m│\u001b[0m\n",
       "\u001b[34m│\u001b[0m  💡 **Tip:**                                                                                                    \u001b[34m│\u001b[0m\n",
       "\u001b[34m│\u001b[0m  If you are unsure about any of the required fields or need clarification, just let me know and I’ll guide      \u001b[34m│\u001b[0m\n",
       "\u001b[34m│\u001b[0m  you.                                                                                                           \u001b[34m│\u001b[0m\n",
       "\u001b[34m│\u001b[0m                                                                                                                 \u001b[34m│\u001b[0m\n",
       "\u001b[34m│\u001b[0m                                                                                                                 \u001b[34m│\u001b[0m\n",
       "\u001b[34m│\u001b[0m                                                                                                                 \u001b[34m│\u001b[0m\n",
       "\u001b[34m╰─────────────────────────────────────────────────────────────────────────────────────────────────────────────────╯\u001b[0m\n"
      ]
     },
     "metadata": {},
     "output_type": "display_data"
    }
   ],
   "source": [
    "from src.prompt import missing_mandatory_fields_prompt\n",
    "show_prompt(missing_mandatory_fields_prompt, \"missing_mandatory_fields_prompt\")"
   ]
  },
  {
   "cell_type": "code",
   "execution_count": 5,
   "id": "c3f7fbe3",
   "metadata": {},
   "outputs": [
    {
     "data": {
      "text/html": [
       "<pre style=\"white-space:pre;overflow-x:auto;line-height:normal;font-family:Menlo,'DejaVu Sans Mono',consolas,'Courier New',monospace\"><span style=\"color: #000080; text-decoration-color: #000080\">╭──────────────────────────────────────── </span><span style=\"color: #008000; text-decoration-color: #008000; font-weight: bold\">missing_optional_fields_prompt</span><span style=\"color: #000080; text-decoration-color: #000080\"> ─────────────────────────────────────────╮</span>\n",
       "<span style=\"color: #000080; text-decoration-color: #000080\">│</span>                                                                                                                 <span style=\"color: #000080; text-decoration-color: #000080\">│</span>\n",
       "<span style=\"color: #000080; text-decoration-color: #000080\">│</span>                                                                                                                 <span style=\"color: #000080; text-decoration-color: #000080\">│</span>\n",
       "<span style=\"color: #000080; text-decoration-color: #000080\">│</span>  **GOAL**                                                                                                       <span style=\"color: #000080; text-decoration-color: #000080\">│</span>\n",
       "<span style=\"color: #000080; text-decoration-color: #000080\">│</span>  Write a concise message for a user, informing them about missing optional fields. Start right away without     <span style=\"color: #000080; text-decoration-color: #000080\">│</span>\n",
       "<span style=\"color: #000080; text-decoration-color: #000080\">│</span>  introduction                                                                                                   <span style=\"color: #000080; text-decoration-color: #000080\">│</span>\n",
       "<span style=\"color: #000080; text-decoration-color: #000080\">│</span>                                                                                                                 <span style=\"color: #000080; text-decoration-color: #000080\">│</span>\n",
       "<span style=\"color: #000080; text-decoration-color: #000080\">│</span>  ℹ️ **Additional Information Inquiry**                                                                           <span style=\"color: #000080; text-decoration-color: #000080\">│</span>\n",
       "<span style=\"color: #000080; text-decoration-color: #000080\">│</span>  I can process your {agent} request with the current information, but I noticed some optional fields that       <span style=\"color: #000080; text-decoration-color: #000080\">│</span>\n",
       "<span style=\"color: #000080; text-decoration-color: #000080\">│</span>  could enhance the completeness of your record:                                                                 <span style=\"color: #000080; text-decoration-color: #000080\">│</span>\n",
       "<span style=\"color: #000080; text-decoration-color: #000080\">│</span>                                                                                                                 <span style=\"color: #000080; text-decoration-color: #000080\">│</span>\n",
       "<span style=\"color: #000080; text-decoration-color: #000080\">│</span>  <span style=\"color: #000080; text-decoration-color: #000080; font-weight: bold\">&lt;missing_fields&gt;</span>                                                                                               <span style=\"color: #000080; text-decoration-color: #000080\">│</span>\n",
       "<span style=\"color: #000080; text-decoration-color: #000080\">│</span>  {missing_optional_fields}                                                                                      <span style=\"color: #000080; text-decoration-color: #000080\">│</span>\n",
       "<span style=\"color: #000080; text-decoration-color: #000080\">│</span>  <span style=\"color: #000080; text-decoration-color: #000080; font-weight: bold\">&lt;/missing_fields&gt;</span>                                                                                              <span style=\"color: #000080; text-decoration-color: #000080\">│</span>\n",
       "<span style=\"color: #000080; text-decoration-color: #000080\">│</span>                                                                                                                 <span style=\"color: #000080; text-decoration-color: #000080\">│</span>\n",
       "<span style=\"color: #000080; text-decoration-color: #000080\">│</span>  📌 **Details of Missing Optional Fields**                                                                      <span style=\"color: #000080; text-decoration-color: #000080\">│</span>\n",
       "<span style=\"color: #000080; text-decoration-color: #000080\">│</span>  {missing_optional_field_details}                                                                               <span style=\"color: #000080; text-decoration-color: #000080\">│</span>\n",
       "<span style=\"color: #000080; text-decoration-color: #000080\">│</span>                                                                                                                 <span style=\"color: #000080; text-decoration-color: #000080\">│</span>\n",
       "<span style=\"color: #000080; text-decoration-color: #000080\">│</span>  **Your Options**                                                                                               <span style=\"color: #000080; text-decoration-color: #000080\">│</span>\n",
       "<span style=\"color: #000080; text-decoration-color: #000080\">│</span>  - ✅ **Provide the additional information** now → creates a more complete record.                              <span style=\"color: #000080; text-decoration-color: #000080\">│</span>\n",
       "<span style=\"color: #000080; text-decoration-color: #000080\">│</span>  - ⏭️ **Skip these fields** and proceed → I’ll continue processing with the current data.                        <span style=\"color: #000080; text-decoration-color: #000080\">│</span>\n",
       "<span style=\"color: #000080; text-decoration-color: #000080\">│</span>  - 🕒 **Add them later** → you can update the record once the information is available.                         <span style=\"color: #000080; text-decoration-color: #000080\">│</span>\n",
       "<span style=\"color: #000080; text-decoration-color: #000080\">│</span>                                                                                                                 <span style=\"color: #000080; text-decoration-color: #000080\">│</span>\n",
       "<span style=\"color: #000080; text-decoration-color: #000080\">│</span>  **How to Provide the optional fields**                                                                         <span style=\"color: #000080; text-decoration-color: #000080\">│</span>\n",
       "<span style=\"color: #000080; text-decoration-color: #000080\">│</span>  You can respond in any of these ways:                                                                          <span style=\"color: #000080; text-decoration-color: #000080\">│</span>\n",
       "<span style=\"color: #000080; text-decoration-color: #000080\">│</span>  - `\"Product_Temperature\": \"2-8°C cold chain\"`                                                                  <span style=\"color: #000080; text-decoration-color: #000080\">│</span>\n",
       "<span style=\"color: #000080; text-decoration-color: #000080\">│</span>  - `\"Skip optional fields and proceed\"`                                                                         <span style=\"color: #000080; text-decoration-color: #000080\">│</span>\n",
       "<span style=\"color: #000080; text-decoration-color: #000080\">│</span>  - `\"I’ll provide these later\"`                                                                                 <span style=\"color: #000080; text-decoration-color: #000080\">│</span>\n",
       "<span style=\"color: #000080; text-decoration-color: #000080\">│</span>                                                                                                                 <span style=\"color: #000080; text-decoration-color: #000080\">│</span>\n",
       "<span style=\"color: #000080; text-decoration-color: #000080\">│</span>  Would you like to provide any of this optional information, or should I proceed with the current data?         <span style=\"color: #000080; text-decoration-color: #000080\">│</span>\n",
       "<span style=\"color: #000080; text-decoration-color: #000080\">│</span>                                                                                                                 <span style=\"color: #000080; text-decoration-color: #000080\">│</span>\n",
       "<span style=\"color: #000080; text-decoration-color: #000080\">│</span>                                                                                                                 <span style=\"color: #000080; text-decoration-color: #000080\">│</span>\n",
       "<span style=\"color: #000080; text-decoration-color: #000080\">│</span>                                                                                                                 <span style=\"color: #000080; text-decoration-color: #000080\">│</span>\n",
       "<span style=\"color: #000080; text-decoration-color: #000080\">╰─────────────────────────────────────────────────────────────────────────────────────────────────────────────────╯</span>\n",
       "</pre>\n"
      ],
      "text/plain": [
       "\u001b[34m╭─\u001b[0m\u001b[34m───────────────────────────────────────\u001b[0m\u001b[34m \u001b[0m\u001b[1;32mmissing_optional_fields_prompt\u001b[0m\u001b[34m \u001b[0m\u001b[34m────────────────────────────────────────\u001b[0m\u001b[34m─╮\u001b[0m\n",
       "\u001b[34m│\u001b[0m                                                                                                                 \u001b[34m│\u001b[0m\n",
       "\u001b[34m│\u001b[0m                                                                                                                 \u001b[34m│\u001b[0m\n",
       "\u001b[34m│\u001b[0m  **GOAL**                                                                                                       \u001b[34m│\u001b[0m\n",
       "\u001b[34m│\u001b[0m  Write a concise message for a user, informing them about missing optional fields. Start right away without     \u001b[34m│\u001b[0m\n",
       "\u001b[34m│\u001b[0m  introduction                                                                                                   \u001b[34m│\u001b[0m\n",
       "\u001b[34m│\u001b[0m                                                                                                                 \u001b[34m│\u001b[0m\n",
       "\u001b[34m│\u001b[0m  ℹ️ **Additional Information Inquiry**                                                                           \u001b[34m│\u001b[0m\n",
       "\u001b[34m│\u001b[0m  I can process your {agent} request with the current information, but I noticed some optional fields that       \u001b[34m│\u001b[0m\n",
       "\u001b[34m│\u001b[0m  could enhance the completeness of your record:                                                                 \u001b[34m│\u001b[0m\n",
       "\u001b[34m│\u001b[0m                                                                                                                 \u001b[34m│\u001b[0m\n",
       "\u001b[34m│\u001b[0m  \u001b[1;34m<missing_fields>\u001b[0m                                                                                               \u001b[34m│\u001b[0m\n",
       "\u001b[34m│\u001b[0m  {missing_optional_fields}                                                                                      \u001b[34m│\u001b[0m\n",
       "\u001b[34m│\u001b[0m  \u001b[1;34m</missing_fields>\u001b[0m                                                                                              \u001b[34m│\u001b[0m\n",
       "\u001b[34m│\u001b[0m                                                                                                                 \u001b[34m│\u001b[0m\n",
       "\u001b[34m│\u001b[0m  📌 **Details of Missing Optional Fields**                                                                      \u001b[34m│\u001b[0m\n",
       "\u001b[34m│\u001b[0m  {missing_optional_field_details}                                                                               \u001b[34m│\u001b[0m\n",
       "\u001b[34m│\u001b[0m                                                                                                                 \u001b[34m│\u001b[0m\n",
       "\u001b[34m│\u001b[0m  **Your Options**                                                                                               \u001b[34m│\u001b[0m\n",
       "\u001b[34m│\u001b[0m  - ✅ **Provide the additional information** now → creates a more complete record.                              \u001b[34m│\u001b[0m\n",
       "\u001b[34m│\u001b[0m  - ⏭️ **Skip these fields** and proceed → I’ll continue processing with the current data.                        \u001b[34m│\u001b[0m\n",
       "\u001b[34m│\u001b[0m  - 🕒 **Add them later** → you can update the record once the information is available.                         \u001b[34m│\u001b[0m\n",
       "\u001b[34m│\u001b[0m                                                                                                                 \u001b[34m│\u001b[0m\n",
       "\u001b[34m│\u001b[0m  **How to Provide the optional fields**                                                                         \u001b[34m│\u001b[0m\n",
       "\u001b[34m│\u001b[0m  You can respond in any of these ways:                                                                          \u001b[34m│\u001b[0m\n",
       "\u001b[34m│\u001b[0m  - `\"Product_Temperature\": \"2-8°C cold chain\"`                                                                  \u001b[34m│\u001b[0m\n",
       "\u001b[34m│\u001b[0m  - `\"Skip optional fields and proceed\"`                                                                         \u001b[34m│\u001b[0m\n",
       "\u001b[34m│\u001b[0m  - `\"I’ll provide these later\"`                                                                                 \u001b[34m│\u001b[0m\n",
       "\u001b[34m│\u001b[0m                                                                                                                 \u001b[34m│\u001b[0m\n",
       "\u001b[34m│\u001b[0m  Would you like to provide any of this optional information, or should I proceed with the current data?         \u001b[34m│\u001b[0m\n",
       "\u001b[34m│\u001b[0m                                                                                                                 \u001b[34m│\u001b[0m\n",
       "\u001b[34m│\u001b[0m                                                                                                                 \u001b[34m│\u001b[0m\n",
       "\u001b[34m│\u001b[0m                                                                                                                 \u001b[34m│\u001b[0m\n",
       "\u001b[34m╰─────────────────────────────────────────────────────────────────────────────────────────────────────────────────╯\u001b[0m\n"
      ]
     },
     "metadata": {},
     "output_type": "display_data"
    }
   ],
   "source": [
    "from src.prompt import missing_optional_fields_prompt\n",
    "show_prompt(missing_optional_fields_prompt, \"missing_optional_fields_prompt\")"
   ]
  },
  {
   "cell_type": "code",
   "execution_count": 6,
   "id": "5582da8a",
   "metadata": {},
   "outputs": [
    {
     "data": {
      "text/html": [
       "<pre style=\"white-space:pre;overflow-x:auto;line-height:normal;font-family:Menlo,'DejaVu Sans Mono',consolas,'Courier New',monospace\"><span style=\"color: #000080; text-decoration-color: #000080\">╭─────────────────────────────────────────── </span><span style=\"color: #008000; text-decoration-color: #008000; font-weight: bold\">user_confirmation_prompt</span><span style=\"color: #000080; text-decoration-color: #000080\"> ────────────────────────────────────────────╮</span>\n",
       "<span style=\"color: #000080; text-decoration-color: #000080\">│</span>                                                                                                                 <span style=\"color: #000080; text-decoration-color: #000080\">│</span>\n",
       "<span style=\"color: #000080; text-decoration-color: #000080\">│</span>                                                                                                                 <span style=\"color: #000080; text-decoration-color: #000080\">│</span>\n",
       "<span style=\"color: #000080; text-decoration-color: #000080\">│</span>  **GOAL**                                                                                                       <span style=\"color: #000080; text-decoration-color: #000080\">│</span>\n",
       "<span style=\"color: #000080; text-decoration-color: #000080\">│</span>  Write a concise message for a user summarizing the final list of fields for confirmation. Start right away     <span style=\"color: #000080; text-decoration-color: #000080\">│</span>\n",
       "<span style=\"color: #000080; text-decoration-color: #000080\">│</span>  without introduction                                                                                           <span style=\"color: #000080; text-decoration-color: #000080\">│</span>\n",
       "<span style=\"color: #000080; text-decoration-color: #000080\">│</span>                                                                                                                 <span style=\"color: #000080; text-decoration-color: #000080\">│</span>\n",
       "<span style=\"color: #000080; text-decoration-color: #000080\">│</span>  ⚠️ **Confirmation Required**                                                                                    <span style=\"color: #000080; text-decoration-color: #000080\">│</span>\n",
       "<span style=\"color: #000080; text-decoration-color: #000080\">│</span>                                                                                                                 <span style=\"color: #000080; text-decoration-color: #000080\">│</span>\n",
       "<span style=\"color: #000080; text-decoration-color: #000080\">│</span>  Here is the collected {agent} information, including the most recent updates:                                  <span style=\"color: #000080; text-decoration-color: #000080\">│</span>\n",
       "<span style=\"color: #000080; text-decoration-color: #000080\">│</span>                                                                                                                 <span style=\"color: #000080; text-decoration-color: #000080\">│</span>\n",
       "<span style=\"color: #000080; text-decoration-color: #000080\">│</span>  <span style=\"color: #000080; text-decoration-color: #000080; font-weight: bold\">&lt;information_report&gt;</span>                                                                                           <span style=\"color: #000080; text-decoration-color: #000080\">│</span>\n",
       "<span style=\"color: #000080; text-decoration-color: #000080\">│</span>  {information_report}                                                                                           <span style=\"color: #000080; text-decoration-color: #000080\">│</span>\n",
       "<span style=\"color: #000080; text-decoration-color: #000080\">│</span>  <span style=\"color: #000080; text-decoration-color: #000080; font-weight: bold\">&lt;/information_report&gt;</span>                                                                                          <span style=\"color: #000080; text-decoration-color: #000080\">│</span>\n",
       "<span style=\"color: #000080; text-decoration-color: #000080\">│</span>                                                                                                                 <span style=\"color: #000080; text-decoration-color: #000080\">│</span>\n",
       "<span style=\"color: #000080; text-decoration-color: #000080\">│</span>  ✅ Please review and confirm if everything is correct so I can proceed with submitting the transaction.        <span style=\"color: #000080; text-decoration-color: #000080\">│</span>\n",
       "<span style=\"color: #000080; text-decoration-color: #000080\">│</span>                                                                                                                 <span style=\"color: #000080; text-decoration-color: #000080\">│</span>\n",
       "<span style=\"color: #000080; text-decoration-color: #000080\">│</span>                                                                                                                 <span style=\"color: #000080; text-decoration-color: #000080\">│</span>\n",
       "<span style=\"color: #000080; text-decoration-color: #000080\">│</span>                                                                                                                 <span style=\"color: #000080; text-decoration-color: #000080\">│</span>\n",
       "<span style=\"color: #000080; text-decoration-color: #000080\">╰─────────────────────────────────────────────────────────────────────────────────────────────────────────────────╯</span>\n",
       "</pre>\n"
      ],
      "text/plain": [
       "\u001b[34m╭─\u001b[0m\u001b[34m──────────────────────────────────────────\u001b[0m\u001b[34m \u001b[0m\u001b[1;32muser_confirmation_prompt\u001b[0m\u001b[34m \u001b[0m\u001b[34m───────────────────────────────────────────\u001b[0m\u001b[34m─╮\u001b[0m\n",
       "\u001b[34m│\u001b[0m                                                                                                                 \u001b[34m│\u001b[0m\n",
       "\u001b[34m│\u001b[0m                                                                                                                 \u001b[34m│\u001b[0m\n",
       "\u001b[34m│\u001b[0m  **GOAL**                                                                                                       \u001b[34m│\u001b[0m\n",
       "\u001b[34m│\u001b[0m  Write a concise message for a user summarizing the final list of fields for confirmation. Start right away     \u001b[34m│\u001b[0m\n",
       "\u001b[34m│\u001b[0m  without introduction                                                                                           \u001b[34m│\u001b[0m\n",
       "\u001b[34m│\u001b[0m                                                                                                                 \u001b[34m│\u001b[0m\n",
       "\u001b[34m│\u001b[0m  ⚠️ **Confirmation Required**                                                                                    \u001b[34m│\u001b[0m\n",
       "\u001b[34m│\u001b[0m                                                                                                                 \u001b[34m│\u001b[0m\n",
       "\u001b[34m│\u001b[0m  Here is the collected {agent} information, including the most recent updates:                                  \u001b[34m│\u001b[0m\n",
       "\u001b[34m│\u001b[0m                                                                                                                 \u001b[34m│\u001b[0m\n",
       "\u001b[34m│\u001b[0m  \u001b[1;34m<information_report>\u001b[0m                                                                                           \u001b[34m│\u001b[0m\n",
       "\u001b[34m│\u001b[0m  {information_report}                                                                                           \u001b[34m│\u001b[0m\n",
       "\u001b[34m│\u001b[0m  \u001b[1;34m</information_report>\u001b[0m                                                                                          \u001b[34m│\u001b[0m\n",
       "\u001b[34m│\u001b[0m                                                                                                                 \u001b[34m│\u001b[0m\n",
       "\u001b[34m│\u001b[0m  ✅ Please review and confirm if everything is correct so I can proceed with submitting the transaction.        \u001b[34m│\u001b[0m\n",
       "\u001b[34m│\u001b[0m                                                                                                                 \u001b[34m│\u001b[0m\n",
       "\u001b[34m│\u001b[0m                                                                                                                 \u001b[34m│\u001b[0m\n",
       "\u001b[34m│\u001b[0m                                                                                                                 \u001b[34m│\u001b[0m\n",
       "\u001b[34m╰─────────────────────────────────────────────────────────────────────────────────────────────────────────────────╯\u001b[0m\n"
      ]
     },
     "metadata": {},
     "output_type": "display_data"
    }
   ],
   "source": [
    "from src.prompt import user_confirmation_prompt\n",
    "show_prompt(user_confirmation_prompt, \"user_confirmation_prompt\")"
   ]
  },
  {
   "cell_type": "code",
   "execution_count": 18,
   "id": "ef613236",
   "metadata": {},
   "outputs": [
    {
     "name": "stdout",
     "output_type": "stream",
     "text": [
      "Overwriting ../src/ibl_data_source.py\n"
     ]
    }
   ],
   "source": [
    "%%writefile ../src/ibl_data_source.py\n",
    "\n",
    "\"\"\"\n",
    "   This data source represent the IBL Schema\n",
    "\"\"\"\n",
    "import json\n",
    "\n",
    "def ibl_data_source(path: str , agent: str) -> dict[str : str]:\n",
    "    try:\n",
    "        with open(path, \"r\", encoding=\"utf-8\") as config:\n",
    "            config_file = json.load(config).get(agent, [])\n",
    "    except FileNotFoundError:\n",
    "        print(\"Error: logistics_schema.json not found. Please create it.\")\n",
    "        exit()\n",
    "    return config_file"
   ]
  },
  {
   "cell_type": "code",
   "execution_count": 19,
   "id": "56d291bd",
   "metadata": {},
   "outputs": [
    {
     "name": "stdout",
     "output_type": "stream",
     "text": [
      "Overwriting ../src/logistics_schema.py\n"
     ]
    }
   ],
   "source": [
    "%%writefile ../src/logistics_schema.py\n",
    "\n",
    "\"\"\"State Definitions and Pydantic Schemas for Logistics Agent.\n",
    "\n",
    "This defines the state objects and structured schemas used for\n",
    "the Logistics Agent scoping workflow, including Logistics state management and output schemas.\n",
    "\"\"\"\n",
    "\n",
    "import operator\n",
    "from datetime import date\n",
    "from typing_extensions import Optional , List\n",
    "from pydantic import BaseModel, Field , create_model\n",
    "from src.supervisor_schema import AgentState\n",
    "from src.ibl_data_source import ibl_data_source\n",
    "\n",
    "# Load logitics fields dynamiclly\n",
    "logistics_fields = ibl_data_source(\"./IBL_SCHEMA.json\",\"logistics_agent\")\n",
    "\n",
    "# Dynamically create Pydantic model for shipment fields\n",
    "DynamicShipmentFields = create_model(\n",
    "    \"DynamicShipmentFields\",\n",
    "    **{\n",
    "        field_item[\"field\"]: (\n",
    "            Optional[field_item[\"dataType\"]],  # default type; could later map dataType\n",
    "            Field(None, description = field_item.get(\"description\", \"\"))\n",
    "        )\n",
    "        for field_item in logistics_fields\n",
    "    }\n",
    ")\n",
    "\n",
    "# ===== STRUCTURED OUTPUT SCHEMAS =====\n",
    "class LogisticsSchema(BaseModel):\n",
    "    \"\"\"Schema for Logisticis Agent.\"\"\"\n",
    "    missing_mandatory_fields: List[str] = Field(\n",
    "        description = \"Fields required by the schema that are missing from the provided data\"\n",
    "    )\n",
    "    missing_optional_fields: List[str] = Field(\n",
    "        description = \"Optional fields that are missing from the provided data\"\n",
    "    )\n",
    "    ask_for_optional_fields: bool = Field(\n",
    "        description = \"Specifies whether the user should be prompted for optional fields\",\n",
    "        default = True\n",
    "    )\n",
    "    needs_user_confirmation: bool = Field(\n",
    "        description = \"Specifies whether user confirmation is required for the current record\",\n",
    "        default = True\n",
    "    )\n",
    "    \n",
    "    shipment : DynamicShipmentFields\n",
    "\n",
    "# ===== STATE DEFINITIONS =====\n",
    "class LogisticsState(AgentState):\n",
    "    \"\"\" State for the Logistics Agent \"\"\"\n",
    "    agent_response: Optional[LogisticsSchema] = None"
   ]
  },
  {
   "cell_type": "code",
   "execution_count": 20,
   "id": "c2337738",
   "metadata": {},
   "outputs": [
    {
     "name": "stdout",
     "output_type": "stream",
     "text": [
      "Overwriting ../src/ibl_database_update.py\n"
     ]
    }
   ],
   "source": [
    "%%writefile ../src/ibl_database_update.py\n",
    "\"\"\" This code defines a tool to push records to IBL DB \"\"\"\n",
    "\n",
    "import sys\n",
    "from typing import Dict, Any\n",
    "from mcp.server.fastmcp import FastMCP\n",
    "import asyncio\n",
    "\n",
    "# Initialize FastMCP server\n",
    "mcp = FastMCP(\"db-server\")\n",
    "\n",
    "@mcp.tool()\n",
    "async def UpdateDB(record: Dict[str, Any]) -> Dict[str, Any]:\n",
    "    \"\"\"\n",
    "    Update the IBL database and confirm back.\n",
    "    \n",
    "    Args:\n",
    "        record: Record details of dictionary type.\n",
    "    \n",
    "    Returns:\n",
    "        A dictionary contains a success status and the new record\n",
    "\n",
    "    \"\"\"\n",
    "    try:\n",
    "        success = True\n",
    "        return {\n",
    "                 \"status\" : f\"{success}\",\n",
    "                 \"record\" : record\n",
    "               }\n",
    "    except Exception as e:\n",
    "        return str(e)\n",
    "\n",
    "# Main execution\n",
    "if __name__ == \"__main__\":\n",
    "    mcp.run(transport=\"stdio\")"
   ]
  },
  {
   "cell_type": "code",
   "execution_count": null,
   "id": "01926c48",
   "metadata": {},
   "outputs": [
    {
     "name": "stdout",
     "output_type": "stream",
     "text": [
      "Overwriting ../src/logistics_agent.py\n"
     ]
    }
   ],
   "source": [
    "%%writefile ../src/logistics_agent.py\n",
    "\n",
    "\"\"\"This code contains the code for the logistician agent\"\"\"\n",
    "import os\n",
    "import json\n",
    "from dotenv import load_dotenv\n",
    "from datetime import datetime\n",
    "from typing_extensions import Literal\n",
    "\n",
    "from langchain.chat_models import init_chat_model\n",
    "from langchain_core.messages import SystemMessage , ToolMessage , HumanMessage, AIMessage, get_buffer_string\n",
    "from langgraph.graph import StateGraph, START, END\n",
    "from langgraph.types import Command\n",
    "from langgraph.checkpoint.memory import InMemorySaver\n",
    "from langchain_mcp_adapters.client import MultiServerMCPClient\n",
    "from src.prompt import missing_mandatory_fields_prompt, missing_optional_fields_prompt, \\\n",
    "                        user_confirmation_prompt, logistics_agent_tasks\n",
    "from src.logistics_schema import LogisticsSchema, LogisticsState\n",
    "from src.ibl_data_source import ibl_data_source\n",
    "\n",
    "# Load environment variables\n",
    "load_dotenv()\n",
    "\n",
    "# Current Date\n",
    "def get_today_str() -> str:\n",
    "    \"\"\"Get current date in a human-readable format.\"\"\"\n",
    "    return datetime.now().strftime(\"%a %b %#d, %Y\")\n",
    "\n",
    "# ===== Import Logistics Fields (\"Mandatory\",\"Optional\") =====\n",
    "import_logistics_schema = ibl_data_source(\"./IBL_SCHEMA.json\",\"logistics_agent\")\n",
    "\n",
    "logistics_fields = [\n",
    "    item for item in import_logistics_schema\n",
    "]\n",
    "mandatory_fields = [\n",
    "    item['field'] for item in import_logistics_schema if item.get('required') is True\n",
    "]\n",
    "optional_fields = [\n",
    "    item['field'] for item in import_logistics_schema if item.get('required') is False\n",
    "]\n",
    "\n",
    "def get_selected_field_details(all_fields, missed_fields):\n",
    "    \"\"\"\n",
    "    \"\"\"\n",
    "    return [ fields for fields in all_fields if fields in missed_fields]\n",
    "\n",
    "# ===== MCP Configuration =====\n",
    "mcp_config = None\n",
    "\n",
    "try:\n",
    "    with open (\"../mcp_servers.json\" , \"r\") as mcp_file:\n",
    "        mcp_config = json.load(mcp_file)\n",
    "except FileNotFoundError:\n",
    "    print(\"Error: mcp_servers.json not found. Please create it.\")\n",
    "    exit()\n",
    "\n",
    "# Global client variable - will be initialized lazily\n",
    "_client = None\n",
    "\n",
    "def get_mcp_client():\n",
    "    \"\"\"Get or initialize MCP client lazily to avoid issues with LangGraph Platform.\"\"\"\n",
    "    global _client\n",
    "    if _client is None:\n",
    "        _client = MultiServerMCPClient(mcp_config)\n",
    "    return _client\n",
    "\n",
    "\n",
    "# Initialize model\n",
    "model = init_chat_model(model=\"openai:gpt-4.1\", temperature=0.0)\n",
    "summarize_model = model\n",
    "\n",
    "def logistics_agent(state: LogisticsState) -> Command[Literal[\"logistics_tools\", \"ConfirmWithUser\", \"CommitLogisticsTransaction\" , \"__end__\"]]:\n",
    "    \"\"\"\n",
    "       Logistics Agent assesses whether the received data is adequate to make deterministic decisions \n",
    "       about committing the data to the logistics database.\n",
    "    \"\"\"\n",
    "    # Set up structured output model\n",
    "    structured_output_model = model.with_structured_output(LogisticsSchema)\n",
    "\n",
    "    # Invoke the model\n",
    "    response = structured_output_model.invoke([\n",
    "               HumanMessage(content = logistics_agent_tasks.format(\n",
    "                                      agent_brief = state[\"agent_brief\"], \n",
    "                                      date = get_today_str(),\n",
    "                                      fields_details = logistics_fields,\n",
    "                                      mandatory_fields = mandatory_fields,\n",
    "                                      optional_fields = optional_fields\n",
    "               ))\n",
    "    ])\n",
    "    \n",
    "    agent_brief_messages = [AIMessage(content = state[\"agent_brief\"])]\n",
    "\n",
    "    if response.missing_mandatory_fields:        # missing mandatory fields\n",
    "        return Command(\n",
    "               goto=END, \n",
    "               update={\"messages\": agent_brief_messages + [model.invoke([AIMessage(content = missing_mandatory_fields_prompt.format(\n",
    "                                                                                   agent = \"Logistics\" ,\n",
    "                                                                                   missing_mandatory_fields = response.missing_mandatory_fields,\n",
    "                                                                                   missing_mandatory_field_details = get_selected_field_details(all_fields = logistics_fields,\n",
    "                                                                                                                                                missed_fields = response.missing_mandatory_fields))\n",
    "                                                     )])]}\n",
    "        )\n",
    "    elif response.missing_optional_fields and response.ask_for_optional_fields: # missing optional fields before confirmation\n",
    "        return Command(\n",
    "               goto=END, \n",
    "               update={\"messages\": agent_brief_messages + [model.invoke([AIMessage(content = missing_optional_fields_prompt.format(\n",
    "                                                                                   agent = \"Logistics\" ,\n",
    "                                                                                   missing_optional_fields = response.missing_optional_fields,\n",
    "                                                                                   missing_optional_field_details = get_selected_field_details(all_fields = logistics_fields,\n",
    "                                                                                                                                              missed_fields = response.missing_optional_fields))\n",
    "                                                     )])]}\n",
    "        )\n",
    "    elif response.needs_user_confirmation: # missing confirmation\n",
    "        return Command(\n",
    "               goto = \"ConfirmWithUser\", \n",
    "               update = {\"agent_response\" : response,\n",
    "                          \"messages\" : agent_brief_messages}\n",
    "        )\n",
    "    else: # everything is OK and confirmed\n",
    "        return Command(\n",
    "               goto = \"CommitLogisticsTransaction\", \n",
    "               update = {\"agent_response\": response , \n",
    "                         \"messages\" : agent_brief_messages}\n",
    "        )\n",
    "\n",
    "def ConfirmWithUser(state: LogisticsState) -> Command[Literal[\"__end__\"]]: \n",
    "    \"\"\" If there is anything that Logistics Agent needs to confirm with the user \"\"\"\n",
    "    # first summarize \n",
    "    # system_message = summarize_logistics_system_prompt.format(date=get_today_str())\n",
    "    # messages = [SystemMessage(content=system_message)] + state.get(\"messages\", []) + [HumanMessage(content=summarize_logistics_human_prompt)]\n",
    "    # response = summarize_model.invoke(messages)\n",
    "    # Print the summary requesting confirmation\n",
    "    return Command(\n",
    "           goto=END, \n",
    "           update={\"messages\": model.invoke([AIMessage(content = user_confirmation_prompt.format(agent = \"Logistics\", information_report = state[\"agent_response\"].model_dump()))])}\n",
    "    )\n",
    "\n",
    "def logistics_tools(state: LogisticsState):\n",
    "    \"\"\"\n",
    "        Executes all tool calls from the logistics Agent response.\n",
    "        Returns updated state with tool execution results.\n",
    "    \"\"\"\n",
    "    tool_calls = state[\"supervisor_messages\"][-1].tool_calls\n",
    "\n",
    "    tools =  []\n",
    "    tools_by_name = {}\n",
    "\n",
    "    # Execute all tool calls\n",
    "    observations = []\n",
    "    for tool_call in tool_calls:\n",
    "        tool = tools_by_name[tool_call[\"name\"]]\n",
    "        observations.append(tool.invoke(tool_call[\"args\"]))\n",
    "            \n",
    "    # Create tool message outputs\n",
    "    tool_outputs = [\n",
    "        ToolMessage(\n",
    "            content=observation,\n",
    "            name=tool_call[\"name\"],\n",
    "            tool_call_id=tool_call[\"id\"]\n",
    "        ) for observation, tool_call in zip(observations, tool_calls)\n",
    "    ]\n",
    "    \n",
    "    return {\"supervisor_messages\": tool_outputs}\n",
    "\n",
    "async def CommitLogisticsTransaction(state: LogisticsState):\n",
    "    \"\"\" Following the user's confirmation, the logistics database will be updated with the received data \"\"\"\n",
    "    \n",
    "    # Get available tools from MCP server\n",
    "    client = get_mcp_client()\n",
    "    tools = await client.get_tools()\n",
    "    tools_by_name = {tool.name: tool for tool in tools}\n",
    "\n",
    "    # Get the update database tool\n",
    "    UpdateDB = tools_by_name[\"UpdateDB\"]\n",
    "\n",
    "    # Initialize model with tool binding\n",
    "    # model_with_tools = model.bind_tools(UpdateDB)\n",
    "\n",
    "    # get the last response which includes all the filled values after confirmation\n",
    "    response = state[\"agent_response\"]\n",
    "\n",
    "    # Convert the response into dictionary and delete unnecessary fields\n",
    "    response_dict = response.model_dump()\n",
    "    response_dict = {k:v for (k,v) in response_dict.items() if k not in [\"missing_mandatory_fields\", \"missing_optional_fields\",\n",
    "                                                                         \"ask_for_optional_fields\", \"needs_user_confirmation\"]}\n",
    "    # commit the logistics transactions following the confirmation\n",
    "    confirmation_result = await UpdateDB.ainvoke({\"record\": response_dict})\n",
    "    \n",
    "    return{\n",
    "            \"messages\": [AIMessage(content=f\"{confirmation_result}\")]     # confirm back\n",
    "    }\n",
    "\n",
    "# Build the scoping workflow\n",
    "logistics_agent_builder = StateGraph(LogisticsState)\n",
    "\n",
    "# Add workflow nodes\n",
    "logistics_agent_builder.add_node(\"logistics_agent\", logistics_agent)\n",
    "logistics_agent_builder.add_node(\"logistics_tools\", logistics_tools)\n",
    "logistics_agent_builder.add_node(\"ConfirmWithUser\", ConfirmWithUser)\n",
    "logistics_agent_builder.add_node(\"CommitLogisticsTransaction\", CommitLogisticsTransaction)\n",
    "\n",
    "# Add workflow edges\n",
    "logistics_agent_builder.add_edge(START, \"logistics_agent\")\n",
    "logistics_agent_builder.add_edge(\"logistics_tools\", \"logistics_agent\")\n",
    "logistics_agent_builder.add_edge(\"ConfirmWithUser\", END)\n",
    "logistics_agent_builder.add_edge(\"CommitLogisticsTransaction\", END)\n",
    "\n",
    "# Compile the workflow\n",
    "checkpointer = InMemorySaver()\n",
    "LogisticsAgent = logistics_agent_builder.compile(checkpointer = checkpointer)"
   ]
  },
  {
   "cell_type": "code",
   "execution_count": 12,
   "id": "b9311710",
   "metadata": {},
   "outputs": [
    {
     "data": {
      "image/png": "[encoded data removed]",
      "text/plain": [
       "<IPython.core.display.Image object>"
      ]
     },
     "metadata": {},
     "output_type": "display_data"
    }
   ],
   "source": [
    "from IPython.display import Image, display\n",
    "from src.logistics_agent import LogisticsAgent\n",
    "\n",
    "# Show the agent\n",
    "display(Image(LogisticsAgent.get_graph(xray=True).draw_mermaid_png()))"
   ]
  },
  {
   "cell_type": "code",
   "execution_count": 13,
   "id": "b39b977f",
   "metadata": {},
   "outputs": [
    {
     "data": {
      "text/html": [
       "<pre style=\"white-space:pre;overflow-x:auto;line-height:normal;font-family:Menlo,'DejaVu Sans Mono',consolas,'Courier New',monospace\"><span style=\"color: #000080; text-decoration-color: #000080\">╭─────────────────────────────────────────────────── 🧑 Human ────────────────────────────────────────────────────╮</span>\n",
       "<span style=\"color: #000080; text-decoration-color: #000080\">│</span> The shipment AWB/BL is 12345                                                                                    <span style=\"color: #000080; text-decoration-color: #000080\">│</span>\n",
       "<span style=\"color: #000080; text-decoration-color: #000080\">╰─────────────────────────────────────────────────────────────────────────────────────────────────────────────────╯</span>\n",
       "</pre>\n"
      ],
      "text/plain": [
       "\u001b[34m╭─\u001b[0m\u001b[34m──────────────────────────────────────────────────\u001b[0m\u001b[34m 🧑 Human \u001b[0m\u001b[34m───────────────────────────────────────────────────\u001b[0m\u001b[34m─╮\u001b[0m\n",
       "\u001b[34m│\u001b[0m The shipment AWB/BL is 12345                                                                                    \u001b[34m│\u001b[0m\n",
       "\u001b[34m╰─────────────────────────────────────────────────────────────────────────────────────────────────────────────────╯\u001b[0m\n"
      ]
     },
     "metadata": {},
     "output_type": "display_data"
    },
    {
     "data": {
      "text/html": [
       "<pre style=\"white-space:pre;overflow-x:auto;line-height:normal;font-family:Menlo,'DejaVu Sans Mono',consolas,'Courier New',monospace\"><span style=\"color: #c0c0c0; text-decoration-color: #c0c0c0\">╭───────────────────────────────────────────────────── 📝 AI ─────────────────────────────────────────────────────╮</span>\n",
       "<span style=\"color: #c0c0c0; text-decoration-color: #c0c0c0\">│</span> The shipment AWB/BL is 12345                                                                                    <span style=\"color: #c0c0c0; text-decoration-color: #c0c0c0\">│</span>\n",
       "<span style=\"color: #c0c0c0; text-decoration-color: #c0c0c0\">╰─────────────────────────────────────────────────────────────────────────────────────────────────────────────────╯</span>\n",
       "</pre>\n"
      ],
      "text/plain": [
       "\u001b[37m╭─\u001b[0m\u001b[37m────────────────────────────────────────────────────\u001b[0m\u001b[37m 📝 AI \u001b[0m\u001b[37m────────────────────────────────────────────────────\u001b[0m\u001b[37m─╮\u001b[0m\n",
       "\u001b[37m│\u001b[0m The shipment AWB/BL is 12345                                                                                    \u001b[37m│\u001b[0m\n",
       "\u001b[37m╰─────────────────────────────────────────────────────────────────────────────────────────────────────────────────╯\u001b[0m\n"
      ]
     },
     "metadata": {},
     "output_type": "display_data"
    },
    {
     "data": {
      "text/html": [
       "<pre style=\"white-space:pre;overflow-x:auto;line-height:normal;font-family:Menlo,'DejaVu Sans Mono',consolas,'Courier New',monospace\"><span style=\"color: #c0c0c0; text-decoration-color: #c0c0c0\">╭───────────────────────────────────────────────────── 📝 AI ─────────────────────────────────────────────────────╮</span>\n",
       "<span style=\"color: #c0c0c0; text-decoration-color: #c0c0c0\">│</span> ⚠️ **Missing Required Fields**                                                                                   <span style=\"color: #c0c0c0; text-decoration-color: #c0c0c0\">│</span>\n",
       "<span style=\"color: #c0c0c0; text-decoration-color: #c0c0c0\">│</span>                                                                                                                 <span style=\"color: #c0c0c0; text-decoration-color: #c0c0c0\">│</span>\n",
       "<span style=\"color: #c0c0c0; text-decoration-color: #c0c0c0\">│</span> To proceed, please provide the following information:                                                           <span style=\"color: #c0c0c0; text-decoration-color: #c0c0c0\">│</span>\n",
       "<span style=\"color: #c0c0c0; text-decoration-color: #c0c0c0\">│</span> - AWB/BL Date                                                                                                   <span style=\"color: #c0c0c0; text-decoration-color: #c0c0c0\">│</span>\n",
       "<span style=\"color: #c0c0c0; text-decoration-color: #c0c0c0\">│</span> - Shipment Mode                                                                                                 <span style=\"color: #c0c0c0; text-decoration-color: #c0c0c0\">│</span>\n",
       "<span style=\"color: #c0c0c0; text-decoration-color: #c0c0c0\">│</span>                                                                                                                 <span style=\"color: #c0c0c0; text-decoration-color: #c0c0c0\">│</span>\n",
       "<span style=\"color: #c0c0c0; text-decoration-color: #c0c0c0\">│</span> You can reply with the details in this format:                                                                  <span style=\"color: #c0c0c0; text-decoration-color: #c0c0c0\">│</span>\n",
       "<span style=\"color: #c0c0c0; text-decoration-color: #c0c0c0\">│</span> - AWB/BL Date:                                                                                                  <span style=\"color: #c0c0c0; text-decoration-color: #c0c0c0\">│</span>\n",
       "<span style=\"color: #c0c0c0; text-decoration-color: #c0c0c0\">│</span> - Shipment Mode:                                                                                                <span style=\"color: #c0c0c0; text-decoration-color: #c0c0c0\">│</span>\n",
       "<span style=\"color: #c0c0c0; text-decoration-color: #c0c0c0\">│</span>                                                                                                                 <span style=\"color: #c0c0c0; text-decoration-color: #c0c0c0\">│</span>\n",
       "<span style=\"color: #c0c0c0; text-decoration-color: #c0c0c0\">│</span> If you need help or clarification about these fields, let me know!                                              <span style=\"color: #c0c0c0; text-decoration-color: #c0c0c0\">│</span>\n",
       "<span style=\"color: #c0c0c0; text-decoration-color: #c0c0c0\">╰─────────────────────────────────────────────────────────────────────────────────────────────────────────────────╯</span>\n",
       "</pre>\n"
      ],
      "text/plain": [
       "\u001b[37m╭─\u001b[0m\u001b[37m────────────────────────────────────────────────────\u001b[0m\u001b[37m 📝 AI \u001b[0m\u001b[37m────────────────────────────────────────────────────\u001b[0m\u001b[37m─╮\u001b[0m\n",
       "\u001b[37m│\u001b[0m ⚠️ **Missing Required Fields**                                                                                   \u001b[37m│\u001b[0m\n",
       "\u001b[37m│\u001b[0m                                                                                                                 \u001b[37m│\u001b[0m\n",
       "\u001b[37m│\u001b[0m To proceed, please provide the following information:                                                           \u001b[37m│\u001b[0m\n",
       "\u001b[37m│\u001b[0m - AWB/BL Date                                                                                                   \u001b[37m│\u001b[0m\n",
       "\u001b[37m│\u001b[0m - Shipment Mode                                                                                                 \u001b[37m│\u001b[0m\n",
       "\u001b[37m│\u001b[0m                                                                                                                 \u001b[37m│\u001b[0m\n",
       "\u001b[37m│\u001b[0m You can reply with the details in this format:                                                                  \u001b[37m│\u001b[0m\n",
       "\u001b[37m│\u001b[0m - AWB/BL Date:                                                                                                  \u001b[37m│\u001b[0m\n",
       "\u001b[37m│\u001b[0m - Shipment Mode:                                                                                                \u001b[37m│\u001b[0m\n",
       "\u001b[37m│\u001b[0m                                                                                                                 \u001b[37m│\u001b[0m\n",
       "\u001b[37m│\u001b[0m If you need help or clarification about these fields, let me know!                                              \u001b[37m│\u001b[0m\n",
       "\u001b[37m╰─────────────────────────────────────────────────────────────────────────────────────────────────────────────────╯\u001b[0m\n"
      ]
     },
     "metadata": {},
     "output_type": "display_data"
    }
   ],
   "source": [
    "from src.utils import format_message\n",
    "from langchain_core.messages import HumanMessage\n",
    "from src.logistics_agent import LogisticsAgent\n",
    "thread = {\"configurable\":{\"thread_id\":\"1\"}}\n",
    "message = \"The shipment AWB/BL is 12345 \"\n",
    "result = await LogisticsAgent.ainvoke({\"agent_brief\" : message,\n",
    "                                        \"messages\":[HumanMessage(content=message)]} , config=thread)\n",
    "format_message(result[\"messages\"])"
   ]
  },
  {
   "cell_type": "code",
   "execution_count": 14,
   "id": "21021e2f",
   "metadata": {},
   "outputs": [
    {
     "data": {
      "text/html": [
       "<pre style=\"white-space:pre;overflow-x:auto;line-height:normal;font-family:Menlo,'DejaVu Sans Mono',consolas,'Courier New',monospace\"><span style=\"color: #000080; text-decoration-color: #000080\">╭─────────────────────────────────────────────────── 🧑 Human ────────────────────────────────────────────────────╮</span>\n",
       "<span style=\"color: #000080; text-decoration-color: #000080\">│</span> The shipment AWB/BL is 12345                                                                                    <span style=\"color: #000080; text-decoration-color: #000080\">│</span>\n",
       "<span style=\"color: #000080; text-decoration-color: #000080\">╰─────────────────────────────────────────────────────────────────────────────────────────────────────────────────╯</span>\n",
       "</pre>\n"
      ],
      "text/plain": [
       "\u001b[34m╭─\u001b[0m\u001b[34m──────────────────────────────────────────────────\u001b[0m\u001b[34m 🧑 Human \u001b[0m\u001b[34m───────────────────────────────────────────────────\u001b[0m\u001b[34m─╮\u001b[0m\n",
       "\u001b[34m│\u001b[0m The shipment AWB/BL is 12345                                                                                    \u001b[34m│\u001b[0m\n",
       "\u001b[34m╰─────────────────────────────────────────────────────────────────────────────────────────────────────────────────╯\u001b[0m\n"
      ]
     },
     "metadata": {},
     "output_type": "display_data"
    },
    {
     "data": {
      "text/html": [
       "<pre style=\"white-space:pre;overflow-x:auto;line-height:normal;font-family:Menlo,'DejaVu Sans Mono',consolas,'Courier New',monospace\"><span style=\"color: #c0c0c0; text-decoration-color: #c0c0c0\">╭───────────────────────────────────────────────────── 📝 AI ─────────────────────────────────────────────────────╮</span>\n",
       "<span style=\"color: #c0c0c0; text-decoration-color: #c0c0c0\">│</span> The shipment AWB/BL is 12345                                                                                    <span style=\"color: #c0c0c0; text-decoration-color: #c0c0c0\">│</span>\n",
       "<span style=\"color: #c0c0c0; text-decoration-color: #c0c0c0\">╰─────────────────────────────────────────────────────────────────────────────────────────────────────────────────╯</span>\n",
       "</pre>\n"
      ],
      "text/plain": [
       "\u001b[37m╭─\u001b[0m\u001b[37m────────────────────────────────────────────────────\u001b[0m\u001b[37m 📝 AI \u001b[0m\u001b[37m────────────────────────────────────────────────────\u001b[0m\u001b[37m─╮\u001b[0m\n",
       "\u001b[37m│\u001b[0m The shipment AWB/BL is 12345                                                                                    \u001b[37m│\u001b[0m\n",
       "\u001b[37m╰─────────────────────────────────────────────────────────────────────────────────────────────────────────────────╯\u001b[0m\n"
      ]
     },
     "metadata": {},
     "output_type": "display_data"
    },
    {
     "data": {
      "text/html": [
       "<pre style=\"white-space:pre;overflow-x:auto;line-height:normal;font-family:Menlo,'DejaVu Sans Mono',consolas,'Courier New',monospace\"><span style=\"color: #c0c0c0; text-decoration-color: #c0c0c0\">╭───────────────────────────────────────────────────── 📝 AI ─────────────────────────────────────────────────────╮</span>\n",
       "<span style=\"color: #c0c0c0; text-decoration-color: #c0c0c0\">│</span> ⚠️ **Missing Required Fields**                                                                                   <span style=\"color: #c0c0c0; text-decoration-color: #c0c0c0\">│</span>\n",
       "<span style=\"color: #c0c0c0; text-decoration-color: #c0c0c0\">│</span>                                                                                                                 <span style=\"color: #c0c0c0; text-decoration-color: #c0c0c0\">│</span>\n",
       "<span style=\"color: #c0c0c0; text-decoration-color: #c0c0c0\">│</span> To proceed, please provide the following information:                                                           <span style=\"color: #c0c0c0; text-decoration-color: #c0c0c0\">│</span>\n",
       "<span style=\"color: #c0c0c0; text-decoration-color: #c0c0c0\">│</span> - AWB/BL Date                                                                                                   <span style=\"color: #c0c0c0; text-decoration-color: #c0c0c0\">│</span>\n",
       "<span style=\"color: #c0c0c0; text-decoration-color: #c0c0c0\">│</span> - Shipment Mode                                                                                                 <span style=\"color: #c0c0c0; text-decoration-color: #c0c0c0\">│</span>\n",
       "<span style=\"color: #c0c0c0; text-decoration-color: #c0c0c0\">│</span>                                                                                                                 <span style=\"color: #c0c0c0; text-decoration-color: #c0c0c0\">│</span>\n",
       "<span style=\"color: #c0c0c0; text-decoration-color: #c0c0c0\">│</span> You can reply with the details in this format:                                                                  <span style=\"color: #c0c0c0; text-decoration-color: #c0c0c0\">│</span>\n",
       "<span style=\"color: #c0c0c0; text-decoration-color: #c0c0c0\">│</span> - AWB/BL Date:                                                                                                  <span style=\"color: #c0c0c0; text-decoration-color: #c0c0c0\">│</span>\n",
       "<span style=\"color: #c0c0c0; text-decoration-color: #c0c0c0\">│</span> - Shipment Mode:                                                                                                <span style=\"color: #c0c0c0; text-decoration-color: #c0c0c0\">│</span>\n",
       "<span style=\"color: #c0c0c0; text-decoration-color: #c0c0c0\">│</span>                                                                                                                 <span style=\"color: #c0c0c0; text-decoration-color: #c0c0c0\">│</span>\n",
       "<span style=\"color: #c0c0c0; text-decoration-color: #c0c0c0\">│</span> If you need help or clarification about these fields, let me know!                                              <span style=\"color: #c0c0c0; text-decoration-color: #c0c0c0\">│</span>\n",
       "<span style=\"color: #c0c0c0; text-decoration-color: #c0c0c0\">╰─────────────────────────────────────────────────────────────────────────────────────────────────────────────────╯</span>\n",
       "</pre>\n"
      ],
      "text/plain": [
       "\u001b[37m╭─\u001b[0m\u001b[37m────────────────────────────────────────────────────\u001b[0m\u001b[37m 📝 AI \u001b[0m\u001b[37m────────────────────────────────────────────────────\u001b[0m\u001b[37m─╮\u001b[0m\n",
       "\u001b[37m│\u001b[0m ⚠️ **Missing Required Fields**                                                                                   \u001b[37m│\u001b[0m\n",
       "\u001b[37m│\u001b[0m                                                                                                                 \u001b[37m│\u001b[0m\n",
       "\u001b[37m│\u001b[0m To proceed, please provide the following information:                                                           \u001b[37m│\u001b[0m\n",
       "\u001b[37m│\u001b[0m - AWB/BL Date                                                                                                   \u001b[37m│\u001b[0m\n",
       "\u001b[37m│\u001b[0m - Shipment Mode                                                                                                 \u001b[37m│\u001b[0m\n",
       "\u001b[37m│\u001b[0m                                                                                                                 \u001b[37m│\u001b[0m\n",
       "\u001b[37m│\u001b[0m You can reply with the details in this format:                                                                  \u001b[37m│\u001b[0m\n",
       "\u001b[37m│\u001b[0m - AWB/BL Date:                                                                                                  \u001b[37m│\u001b[0m\n",
       "\u001b[37m│\u001b[0m - Shipment Mode:                                                                                                \u001b[37m│\u001b[0m\n",
       "\u001b[37m│\u001b[0m                                                                                                                 \u001b[37m│\u001b[0m\n",
       "\u001b[37m│\u001b[0m If you need help or clarification about these fields, let me know!                                              \u001b[37m│\u001b[0m\n",
       "\u001b[37m╰─────────────────────────────────────────────────────────────────────────────────────────────────────────────────╯\u001b[0m\n"
      ]
     },
     "metadata": {},
     "output_type": "display_data"
    },
    {
     "data": {
      "text/html": [
       "<pre style=\"white-space:pre;overflow-x:auto;line-height:normal;font-family:Menlo,'DejaVu Sans Mono',consolas,'Courier New',monospace\"><span style=\"color: #000080; text-decoration-color: #000080\">╭─────────────────────────────────────────────────── 🧑 Human ────────────────────────────────────────────────────╮</span>\n",
       "<span style=\"color: #000080; text-decoration-color: #000080\">│</span> Well the AWB/BL is 12345 and Shipment Mode Air.                                                                 <span style=\"color: #000080; text-decoration-color: #000080\">│</span>\n",
       "<span style=\"color: #000080; text-decoration-color: #000080\">╰─────────────────────────────────────────────────────────────────────────────────────────────────────────────────╯</span>\n",
       "</pre>\n"
      ],
      "text/plain": [
       "\u001b[34m╭─\u001b[0m\u001b[34m──────────────────────────────────────────────────\u001b[0m\u001b[34m 🧑 Human \u001b[0m\u001b[34m───────────────────────────────────────────────────\u001b[0m\u001b[34m─╮\u001b[0m\n",
       "\u001b[34m│\u001b[0m Well the AWB/BL is 12345 and Shipment Mode Air.                                                                 \u001b[34m│\u001b[0m\n",
       "\u001b[34m╰─────────────────────────────────────────────────────────────────────────────────────────────────────────────────╯\u001b[0m\n"
      ]
     },
     "metadata": {},
     "output_type": "display_data"
    },
    {
     "data": {
      "text/html": [
       "<pre style=\"white-space:pre;overflow-x:auto;line-height:normal;font-family:Menlo,'DejaVu Sans Mono',consolas,'Courier New',monospace\"><span style=\"color: #c0c0c0; text-decoration-color: #c0c0c0\">╭───────────────────────────────────────────────────── 📝 AI ─────────────────────────────────────────────────────╮</span>\n",
       "<span style=\"color: #c0c0c0; text-decoration-color: #c0c0c0\">│</span> Well the AWB/BL is 12345 and Shipment Mode Air.                                                                 <span style=\"color: #c0c0c0; text-decoration-color: #c0c0c0\">│</span>\n",
       "<span style=\"color: #c0c0c0; text-decoration-color: #c0c0c0\">╰─────────────────────────────────────────────────────────────────────────────────────────────────────────────────╯</span>\n",
       "</pre>\n"
      ],
      "text/plain": [
       "\u001b[37m╭─\u001b[0m\u001b[37m────────────────────────────────────────────────────\u001b[0m\u001b[37m 📝 AI \u001b[0m\u001b[37m────────────────────────────────────────────────────\u001b[0m\u001b[37m─╮\u001b[0m\n",
       "\u001b[37m│\u001b[0m Well the AWB/BL is 12345 and Shipment Mode Air.                                                                 \u001b[37m│\u001b[0m\n",
       "\u001b[37m╰─────────────────────────────────────────────────────────────────────────────────────────────────────────────────╯\u001b[0m\n"
      ]
     },
     "metadata": {},
     "output_type": "display_data"
    },
    {
     "data": {
      "text/html": [
       "<pre style=\"white-space:pre;overflow-x:auto;line-height:normal;font-family:Menlo,'DejaVu Sans Mono',consolas,'Courier New',monospace\"><span style=\"color: #c0c0c0; text-decoration-color: #c0c0c0\">╭───────────────────────────────────────────────────── 📝 AI ─────────────────────────────────────────────────────╮</span>\n",
       "<span style=\"color: #c0c0c0; text-decoration-color: #c0c0c0\">│</span> ⚠️ **Missing Required Field:**                                                                                   <span style=\"color: #c0c0c0; text-decoration-color: #c0c0c0\">│</span>\n",
       "<span style=\"color: #c0c0c0; text-decoration-color: #c0c0c0\">│</span> - AWB/BL Date                                                                                                   <span style=\"color: #c0c0c0; text-decoration-color: #c0c0c0\">│</span>\n",
       "<span style=\"color: #c0c0c0; text-decoration-color: #c0c0c0\">│</span>                                                                                                                 <span style=\"color: #c0c0c0; text-decoration-color: #c0c0c0\">│</span>\n",
       "<span style=\"color: #c0c0c0; text-decoration-color: #c0c0c0\">│</span> Please provide the missing information so we can proceed with your request. If you need help or clarification,  <span style=\"color: #c0c0c0; text-decoration-color: #c0c0c0\">│</span>\n",
       "<span style=\"color: #c0c0c0; text-decoration-color: #c0c0c0\">│</span> let me know!                                                                                                    <span style=\"color: #c0c0c0; text-decoration-color: #c0c0c0\">│</span>\n",
       "<span style=\"color: #c0c0c0; text-decoration-color: #c0c0c0\">╰─────────────────────────────────────────────────────────────────────────────────────────────────────────────────╯</span>\n",
       "</pre>\n"
      ],
      "text/plain": [
       "\u001b[37m╭─\u001b[0m\u001b[37m────────────────────────────────────────────────────\u001b[0m\u001b[37m 📝 AI \u001b[0m\u001b[37m────────────────────────────────────────────────────\u001b[0m\u001b[37m─╮\u001b[0m\n",
       "\u001b[37m│\u001b[0m ⚠️ **Missing Required Field:**                                                                                   \u001b[37m│\u001b[0m\n",
       "\u001b[37m│\u001b[0m - AWB/BL Date                                                                                                   \u001b[37m│\u001b[0m\n",
       "\u001b[37m│\u001b[0m                                                                                                                 \u001b[37m│\u001b[0m\n",
       "\u001b[37m│\u001b[0m Please provide the missing information so we can proceed with your request. If you need help or clarification,  \u001b[37m│\u001b[0m\n",
       "\u001b[37m│\u001b[0m let me know!                                                                                                    \u001b[37m│\u001b[0m\n",
       "\u001b[37m╰─────────────────────────────────────────────────────────────────────────────────────────────────────────────────╯\u001b[0m\n"
      ]
     },
     "metadata": {},
     "output_type": "display_data"
    }
   ],
   "source": [
    "message = \"Well the AWB/BL is 12345 and Shipment Mode Air.\"\n",
    "result = await LogisticsAgent.ainvoke({\"agent_brief\" : message,\n",
    "                                \"messages\":[HumanMessage(content=message)]} , config=thread)\n",
    "format_message(result[\"messages\"])"
   ]
  },
  {
   "cell_type": "code",
   "execution_count": 15,
   "id": "0158e6fc",
   "metadata": {},
   "outputs": [
    {
     "data": {
      "text/html": [
       "<pre style=\"white-space:pre;overflow-x:auto;line-height:normal;font-family:Menlo,'DejaVu Sans Mono',consolas,'Courier New',monospace\"><span style=\"color: #000080; text-decoration-color: #000080\">╭─────────────────────────────────────────────────── 🧑 Human ────────────────────────────────────────────────────╮</span>\n",
       "<span style=\"color: #000080; text-decoration-color: #000080\">│</span> The shipment AWB/BL is 12345                                                                                    <span style=\"color: #000080; text-decoration-color: #000080\">│</span>\n",
       "<span style=\"color: #000080; text-decoration-color: #000080\">╰─────────────────────────────────────────────────────────────────────────────────────────────────────────────────╯</span>\n",
       "</pre>\n"
      ],
      "text/plain": [
       "\u001b[34m╭─\u001b[0m\u001b[34m──────────────────────────────────────────────────\u001b[0m\u001b[34m 🧑 Human \u001b[0m\u001b[34m───────────────────────────────────────────────────\u001b[0m\u001b[34m─╮\u001b[0m\n",
       "\u001b[34m│\u001b[0m The shipment AWB/BL is 12345                                                                                    \u001b[34m│\u001b[0m\n",
       "\u001b[34m╰─────────────────────────────────────────────────────────────────────────────────────────────────────────────────╯\u001b[0m\n"
      ]
     },
     "metadata": {},
     "output_type": "display_data"
    },
    {
     "data": {
      "text/html": [
       "<pre style=\"white-space:pre;overflow-x:auto;line-height:normal;font-family:Menlo,'DejaVu Sans Mono',consolas,'Courier New',monospace\"><span style=\"color: #c0c0c0; text-decoration-color: #c0c0c0\">╭───────────────────────────────────────────────────── 📝 AI ─────────────────────────────────────────────────────╮</span>\n",
       "<span style=\"color: #c0c0c0; text-decoration-color: #c0c0c0\">│</span> The shipment AWB/BL is 12345                                                                                    <span style=\"color: #c0c0c0; text-decoration-color: #c0c0c0\">│</span>\n",
       "<span style=\"color: #c0c0c0; text-decoration-color: #c0c0c0\">╰─────────────────────────────────────────────────────────────────────────────────────────────────────────────────╯</span>\n",
       "</pre>\n"
      ],
      "text/plain": [
       "\u001b[37m╭─\u001b[0m\u001b[37m────────────────────────────────────────────────────\u001b[0m\u001b[37m 📝 AI \u001b[0m\u001b[37m────────────────────────────────────────────────────\u001b[0m\u001b[37m─╮\u001b[0m\n",
       "\u001b[37m│\u001b[0m The shipment AWB/BL is 12345                                                                                    \u001b[37m│\u001b[0m\n",
       "\u001b[37m╰─────────────────────────────────────────────────────────────────────────────────────────────────────────────────╯\u001b[0m\n"
      ]
     },
     "metadata": {},
     "output_type": "display_data"
    },
    {
     "data": {
      "text/html": [
       "<pre style=\"white-space:pre;overflow-x:auto;line-height:normal;font-family:Menlo,'DejaVu Sans Mono',consolas,'Courier New',monospace\"><span style=\"color: #c0c0c0; text-decoration-color: #c0c0c0\">╭───────────────────────────────────────────────────── 📝 AI ─────────────────────────────────────────────────────╮</span>\n",
       "<span style=\"color: #c0c0c0; text-decoration-color: #c0c0c0\">│</span> ⚠️ **Missing Required Fields**                                                                                   <span style=\"color: #c0c0c0; text-decoration-color: #c0c0c0\">│</span>\n",
       "<span style=\"color: #c0c0c0; text-decoration-color: #c0c0c0\">│</span>                                                                                                                 <span style=\"color: #c0c0c0; text-decoration-color: #c0c0c0\">│</span>\n",
       "<span style=\"color: #c0c0c0; text-decoration-color: #c0c0c0\">│</span> To proceed, please provide the following information:                                                           <span style=\"color: #c0c0c0; text-decoration-color: #c0c0c0\">│</span>\n",
       "<span style=\"color: #c0c0c0; text-decoration-color: #c0c0c0\">│</span> - AWB/BL Date                                                                                                   <span style=\"color: #c0c0c0; text-decoration-color: #c0c0c0\">│</span>\n",
       "<span style=\"color: #c0c0c0; text-decoration-color: #c0c0c0\">│</span> - Shipment Mode                                                                                                 <span style=\"color: #c0c0c0; text-decoration-color: #c0c0c0\">│</span>\n",
       "<span style=\"color: #c0c0c0; text-decoration-color: #c0c0c0\">│</span>                                                                                                                 <span style=\"color: #c0c0c0; text-decoration-color: #c0c0c0\">│</span>\n",
       "<span style=\"color: #c0c0c0; text-decoration-color: #c0c0c0\">│</span> You can reply with the details in this format:                                                                  <span style=\"color: #c0c0c0; text-decoration-color: #c0c0c0\">│</span>\n",
       "<span style=\"color: #c0c0c0; text-decoration-color: #c0c0c0\">│</span> - AWB/BL Date:                                                                                                  <span style=\"color: #c0c0c0; text-decoration-color: #c0c0c0\">│</span>\n",
       "<span style=\"color: #c0c0c0; text-decoration-color: #c0c0c0\">│</span> - Shipment Mode:                                                                                                <span style=\"color: #c0c0c0; text-decoration-color: #c0c0c0\">│</span>\n",
       "<span style=\"color: #c0c0c0; text-decoration-color: #c0c0c0\">│</span>                                                                                                                 <span style=\"color: #c0c0c0; text-decoration-color: #c0c0c0\">│</span>\n",
       "<span style=\"color: #c0c0c0; text-decoration-color: #c0c0c0\">│</span> If you need help or clarification about these fields, let me know!                                              <span style=\"color: #c0c0c0; text-decoration-color: #c0c0c0\">│</span>\n",
       "<span style=\"color: #c0c0c0; text-decoration-color: #c0c0c0\">╰─────────────────────────────────────────────────────────────────────────────────────────────────────────────────╯</span>\n",
       "</pre>\n"
      ],
      "text/plain": [
       "\u001b[37m╭─\u001b[0m\u001b[37m────────────────────────────────────────────────────\u001b[0m\u001b[37m 📝 AI \u001b[0m\u001b[37m────────────────────────────────────────────────────\u001b[0m\u001b[37m─╮\u001b[0m\n",
       "\u001b[37m│\u001b[0m ⚠️ **Missing Required Fields**                                                                                   \u001b[37m│\u001b[0m\n",
       "\u001b[37m│\u001b[0m                                                                                                                 \u001b[37m│\u001b[0m\n",
       "\u001b[37m│\u001b[0m To proceed, please provide the following information:                                                           \u001b[37m│\u001b[0m\n",
       "\u001b[37m│\u001b[0m - AWB/BL Date                                                                                                   \u001b[37m│\u001b[0m\n",
       "\u001b[37m│\u001b[0m - Shipment Mode                                                                                                 \u001b[37m│\u001b[0m\n",
       "\u001b[37m│\u001b[0m                                                                                                                 \u001b[37m│\u001b[0m\n",
       "\u001b[37m│\u001b[0m You can reply with the details in this format:                                                                  \u001b[37m│\u001b[0m\n",
       "\u001b[37m│\u001b[0m - AWB/BL Date:                                                                                                  \u001b[37m│\u001b[0m\n",
       "\u001b[37m│\u001b[0m - Shipment Mode:                                                                                                \u001b[37m│\u001b[0m\n",
       "\u001b[37m│\u001b[0m                                                                                                                 \u001b[37m│\u001b[0m\n",
       "\u001b[37m│\u001b[0m If you need help or clarification about these fields, let me know!                                              \u001b[37m│\u001b[0m\n",
       "\u001b[37m╰─────────────────────────────────────────────────────────────────────────────────────────────────────────────────╯\u001b[0m\n"
      ]
     },
     "metadata": {},
     "output_type": "display_data"
    },
    {
     "data": {
      "text/html": [
       "<pre style=\"white-space:pre;overflow-x:auto;line-height:normal;font-family:Menlo,'DejaVu Sans Mono',consolas,'Courier New',monospace\"><span style=\"color: #000080; text-decoration-color: #000080\">╭─────────────────────────────────────────────────── 🧑 Human ────────────────────────────────────────────────────╮</span>\n",
       "<span style=\"color: #000080; text-decoration-color: #000080\">│</span> Well the AWB/BL is 12345 and Shipment Mode Air.                                                                 <span style=\"color: #000080; text-decoration-color: #000080\">│</span>\n",
       "<span style=\"color: #000080; text-decoration-color: #000080\">╰─────────────────────────────────────────────────────────────────────────────────────────────────────────────────╯</span>\n",
       "</pre>\n"
      ],
      "text/plain": [
       "\u001b[34m╭─\u001b[0m\u001b[34m──────────────────────────────────────────────────\u001b[0m\u001b[34m 🧑 Human \u001b[0m\u001b[34m───────────────────────────────────────────────────\u001b[0m\u001b[34m─╮\u001b[0m\n",
       "\u001b[34m│\u001b[0m Well the AWB/BL is 12345 and Shipment Mode Air.                                                                 \u001b[34m│\u001b[0m\n",
       "\u001b[34m╰─────────────────────────────────────────────────────────────────────────────────────────────────────────────────╯\u001b[0m\n"
      ]
     },
     "metadata": {},
     "output_type": "display_data"
    },
    {
     "data": {
      "text/html": [
       "<pre style=\"white-space:pre;overflow-x:auto;line-height:normal;font-family:Menlo,'DejaVu Sans Mono',consolas,'Courier New',monospace\"><span style=\"color: #c0c0c0; text-decoration-color: #c0c0c0\">╭───────────────────────────────────────────────────── 📝 AI ─────────────────────────────────────────────────────╮</span>\n",
       "<span style=\"color: #c0c0c0; text-decoration-color: #c0c0c0\">│</span> Well the AWB/BL is 12345 and Shipment Mode Air.                                                                 <span style=\"color: #c0c0c0; text-decoration-color: #c0c0c0\">│</span>\n",
       "<span style=\"color: #c0c0c0; text-decoration-color: #c0c0c0\">╰─────────────────────────────────────────────────────────────────────────────────────────────────────────────────╯</span>\n",
       "</pre>\n"
      ],
      "text/plain": [
       "\u001b[37m╭─\u001b[0m\u001b[37m────────────────────────────────────────────────────\u001b[0m\u001b[37m 📝 AI \u001b[0m\u001b[37m────────────────────────────────────────────────────\u001b[0m\u001b[37m─╮\u001b[0m\n",
       "\u001b[37m│\u001b[0m Well the AWB/BL is 12345 and Shipment Mode Air.                                                                 \u001b[37m│\u001b[0m\n",
       "\u001b[37m╰─────────────────────────────────────────────────────────────────────────────────────────────────────────────────╯\u001b[0m\n"
      ]
     },
     "metadata": {},
     "output_type": "display_data"
    },
    {
     "data": {
      "text/html": [
       "<pre style=\"white-space:pre;overflow-x:auto;line-height:normal;font-family:Menlo,'DejaVu Sans Mono',consolas,'Courier New',monospace\"><span style=\"color: #c0c0c0; text-decoration-color: #c0c0c0\">╭───────────────────────────────────────────────────── 📝 AI ─────────────────────────────────────────────────────╮</span>\n",
       "<span style=\"color: #c0c0c0; text-decoration-color: #c0c0c0\">│</span> ⚠️ **Missing Required Field:**                                                                                   <span style=\"color: #c0c0c0; text-decoration-color: #c0c0c0\">│</span>\n",
       "<span style=\"color: #c0c0c0; text-decoration-color: #c0c0c0\">│</span> - AWB/BL Date                                                                                                   <span style=\"color: #c0c0c0; text-decoration-color: #c0c0c0\">│</span>\n",
       "<span style=\"color: #c0c0c0; text-decoration-color: #c0c0c0\">│</span>                                                                                                                 <span style=\"color: #c0c0c0; text-decoration-color: #c0c0c0\">│</span>\n",
       "<span style=\"color: #c0c0c0; text-decoration-color: #c0c0c0\">│</span> Please provide the missing information so we can proceed with your request. If you need help or clarification,  <span style=\"color: #c0c0c0; text-decoration-color: #c0c0c0\">│</span>\n",
       "<span style=\"color: #c0c0c0; text-decoration-color: #c0c0c0\">│</span> let me know!                                                                                                    <span style=\"color: #c0c0c0; text-decoration-color: #c0c0c0\">│</span>\n",
       "<span style=\"color: #c0c0c0; text-decoration-color: #c0c0c0\">╰─────────────────────────────────────────────────────────────────────────────────────────────────────────────────╯</span>\n",
       "</pre>\n"
      ],
      "text/plain": [
       "\u001b[37m╭─\u001b[0m\u001b[37m────────────────────────────────────────────────────\u001b[0m\u001b[37m 📝 AI \u001b[0m\u001b[37m────────────────────────────────────────────────────\u001b[0m\u001b[37m─╮\u001b[0m\n",
       "\u001b[37m│\u001b[0m ⚠️ **Missing Required Field:**                                                                                   \u001b[37m│\u001b[0m\n",
       "\u001b[37m│\u001b[0m - AWB/BL Date                                                                                                   \u001b[37m│\u001b[0m\n",
       "\u001b[37m│\u001b[0m                                                                                                                 \u001b[37m│\u001b[0m\n",
       "\u001b[37m│\u001b[0m Please provide the missing information so we can proceed with your request. If you need help or clarification,  \u001b[37m│\u001b[0m\n",
       "\u001b[37m│\u001b[0m let me know!                                                                                                    \u001b[37m│\u001b[0m\n",
       "\u001b[37m╰─────────────────────────────────────────────────────────────────────────────────────────────────────────────────╯\u001b[0m\n"
      ]
     },
     "metadata": {},
     "output_type": "display_data"
    },
    {
     "data": {
      "text/html": [
       "<pre style=\"white-space:pre;overflow-x:auto;line-height:normal;font-family:Menlo,'DejaVu Sans Mono',consolas,'Courier New',monospace\"><span style=\"color: #000080; text-decoration-color: #000080\">╭─────────────────────────────────────────────────── 🧑 Human ────────────────────────────────────────────────────╮</span>\n",
       "<span style=\"color: #000080; text-decoration-color: #000080\">│</span> Well the AWB/BL is 12345, Shipment Mode Air and AWB/BL Date is 2025-09-30                                       <span style=\"color: #000080; text-decoration-color: #000080\">│</span>\n",
       "<span style=\"color: #000080; text-decoration-color: #000080\">╰─────────────────────────────────────────────────────────────────────────────────────────────────────────────────╯</span>\n",
       "</pre>\n"
      ],
      "text/plain": [
       "\u001b[34m╭─\u001b[0m\u001b[34m──────────────────────────────────────────────────\u001b[0m\u001b[34m 🧑 Human \u001b[0m\u001b[34m───────────────────────────────────────────────────\u001b[0m\u001b[34m─╮\u001b[0m\n",
       "\u001b[34m│\u001b[0m Well the AWB/BL is 12345, Shipment Mode Air and AWB/BL Date is 2025-09-30                                       \u001b[34m│\u001b[0m\n",
       "\u001b[34m╰─────────────────────────────────────────────────────────────────────────────────────────────────────────────────╯\u001b[0m\n"
      ]
     },
     "metadata": {},
     "output_type": "display_data"
    },
    {
     "data": {
      "text/html": [
       "<pre style=\"white-space:pre;overflow-x:auto;line-height:normal;font-family:Menlo,'DejaVu Sans Mono',consolas,'Courier New',monospace\"><span style=\"color: #c0c0c0; text-decoration-color: #c0c0c0\">╭───────────────────────────────────────────────────── 📝 AI ─────────────────────────────────────────────────────╮</span>\n",
       "<span style=\"color: #c0c0c0; text-decoration-color: #c0c0c0\">│</span> Well the AWB/BL is 12345, Shipment Mode Air and AWB/BL Date is 2025-09-30                                       <span style=\"color: #c0c0c0; text-decoration-color: #c0c0c0\">│</span>\n",
       "<span style=\"color: #c0c0c0; text-decoration-color: #c0c0c0\">╰─────────────────────────────────────────────────────────────────────────────────────────────────────────────────╯</span>\n",
       "</pre>\n"
      ],
      "text/plain": [
       "\u001b[37m╭─\u001b[0m\u001b[37m────────────────────────────────────────────────────\u001b[0m\u001b[37m 📝 AI \u001b[0m\u001b[37m────────────────────────────────────────────────────\u001b[0m\u001b[37m─╮\u001b[0m\n",
       "\u001b[37m│\u001b[0m Well the AWB/BL is 12345, Shipment Mode Air and AWB/BL Date is 2025-09-30                                       \u001b[37m│\u001b[0m\n",
       "\u001b[37m╰─────────────────────────────────────────────────────────────────────────────────────────────────────────────────╯\u001b[0m\n"
      ]
     },
     "metadata": {},
     "output_type": "display_data"
    },
    {
     "data": {
      "text/html": [
       "<pre style=\"white-space:pre;overflow-x:auto;line-height:normal;font-family:Menlo,'DejaVu Sans Mono',consolas,'Courier New',monospace\"><span style=\"color: #c0c0c0; text-decoration-color: #c0c0c0\">╭───────────────────────────────────────────────────── 📝 AI ─────────────────────────────────────────────────────╮</span>\n",
       "<span style=\"color: #c0c0c0; text-decoration-color: #c0c0c0\">│</span> Some optional fields are missing from your submission: Forwarder, Product Temperature, Packing, Shipping Temp,  <span style=\"color: #c0c0c0; text-decoration-color: #c0c0c0\">│</span>\n",
       "<span style=\"color: #c0c0c0; text-decoration-color: #c0c0c0\">│</span> Gel Pack Expiry Date, Handover to Clearance, Aggregation, Notified FF Date, Green light - Date, Logistic        <span style=\"color: #c0c0c0; text-decoration-color: #c0c0c0\">│</span>\n",
       "<span style=\"color: #c0c0c0; text-decoration-color: #c0c0c0\">│</span> Comment, Remark, and ASN Importation Date.                                                                      <span style=\"color: #c0c0c0; text-decoration-color: #c0c0c0\">│</span>\n",
       "<span style=\"color: #c0c0c0; text-decoration-color: #c0c0c0\">│</span>                                                                                                                 <span style=\"color: #c0c0c0; text-decoration-color: #c0c0c0\">│</span>\n",
       "<span style=\"color: #c0c0c0; text-decoration-color: #c0c0c0\">│</span> You can proceed without them, or provide any of these details now to complete your record. Let me know how      <span style=\"color: #c0c0c0; text-decoration-color: #c0c0c0\">│</span>\n",
       "<span style=\"color: #c0c0c0; text-decoration-color: #c0c0c0\">│</span> you’d like to continue!                                                                                         <span style=\"color: #c0c0c0; text-decoration-color: #c0c0c0\">│</span>\n",
       "<span style=\"color: #c0c0c0; text-decoration-color: #c0c0c0\">╰─────────────────────────────────────────────────────────────────────────────────────────────────────────────────╯</span>\n",
       "</pre>\n"
      ],
      "text/plain": [
       "\u001b[37m╭─\u001b[0m\u001b[37m────────────────────────────────────────────────────\u001b[0m\u001b[37m 📝 AI \u001b[0m\u001b[37m────────────────────────────────────────────────────\u001b[0m\u001b[37m─╮\u001b[0m\n",
       "\u001b[37m│\u001b[0m Some optional fields are missing from your submission: Forwarder, Product Temperature, Packing, Shipping Temp,  \u001b[37m│\u001b[0m\n",
       "\u001b[37m│\u001b[0m Gel Pack Expiry Date, Handover to Clearance, Aggregation, Notified FF Date, Green light - Date, Logistic        \u001b[37m│\u001b[0m\n",
       "\u001b[37m│\u001b[0m Comment, Remark, and ASN Importation Date.                                                                      \u001b[37m│\u001b[0m\n",
       "\u001b[37m│\u001b[0m                                                                                                                 \u001b[37m│\u001b[0m\n",
       "\u001b[37m│\u001b[0m You can proceed without them, or provide any of these details now to complete your record. Let me know how      \u001b[37m│\u001b[0m\n",
       "\u001b[37m│\u001b[0m you’d like to continue!                                                                                         \u001b[37m│\u001b[0m\n",
       "\u001b[37m╰─────────────────────────────────────────────────────────────────────────────────────────────────────────────────╯\u001b[0m\n"
      ]
     },
     "metadata": {},
     "output_type": "display_data"
    }
   ],
   "source": [
    "message = \"Well the AWB/BL is 12345, Shipment Mode Air and AWB/BL Date is 2025-09-30\"\n",
    "result = await LogisticsAgent.ainvoke({\"agent_brief\" : message,\n",
    "                                \"messages\":[HumanMessage(content=message)]} , config=thread)\n",
    "format_message(result[\"messages\"])"
   ]
  },
  {
   "cell_type": "code",
   "execution_count": 16,
   "id": "29e88080",
   "metadata": {},
   "outputs": [
    {
     "data": {
      "text/html": [
       "<pre style=\"white-space:pre;overflow-x:auto;line-height:normal;font-family:Menlo,'DejaVu Sans Mono',consolas,'Courier New',monospace\"><span style=\"color: #000080; text-decoration-color: #000080\">╭─────────────────────────────────────────────────── 🧑 Human ────────────────────────────────────────────────────╮</span>\n",
       "<span style=\"color: #000080; text-decoration-color: #000080\">│</span> The shipment AWB/BL is 12345                                                                                    <span style=\"color: #000080; text-decoration-color: #000080\">│</span>\n",
       "<span style=\"color: #000080; text-decoration-color: #000080\">╰─────────────────────────────────────────────────────────────────────────────────────────────────────────────────╯</span>\n",
       "</pre>\n"
      ],
      "text/plain": [
       "\u001b[34m╭─\u001b[0m\u001b[34m──────────────────────────────────────────────────\u001b[0m\u001b[34m 🧑 Human \u001b[0m\u001b[34m───────────────────────────────────────────────────\u001b[0m\u001b[34m─╮\u001b[0m\n",
       "\u001b[34m│\u001b[0m The shipment AWB/BL is 12345                                                                                    \u001b[34m│\u001b[0m\n",
       "\u001b[34m╰─────────────────────────────────────────────────────────────────────────────────────────────────────────────────╯\u001b[0m\n"
      ]
     },
     "metadata": {},
     "output_type": "display_data"
    },
    {
     "data": {
      "text/html": [
       "<pre style=\"white-space:pre;overflow-x:auto;line-height:normal;font-family:Menlo,'DejaVu Sans Mono',consolas,'Courier New',monospace\"><span style=\"color: #c0c0c0; text-decoration-color: #c0c0c0\">╭───────────────────────────────────────────────────── 📝 AI ─────────────────────────────────────────────────────╮</span>\n",
       "<span style=\"color: #c0c0c0; text-decoration-color: #c0c0c0\">│</span> The shipment AWB/BL is 12345                                                                                    <span style=\"color: #c0c0c0; text-decoration-color: #c0c0c0\">│</span>\n",
       "<span style=\"color: #c0c0c0; text-decoration-color: #c0c0c0\">╰─────────────────────────────────────────────────────────────────────────────────────────────────────────────────╯</span>\n",
       "</pre>\n"
      ],
      "text/plain": [
       "\u001b[37m╭─\u001b[0m\u001b[37m────────────────────────────────────────────────────\u001b[0m\u001b[37m 📝 AI \u001b[0m\u001b[37m────────────────────────────────────────────────────\u001b[0m\u001b[37m─╮\u001b[0m\n",
       "\u001b[37m│\u001b[0m The shipment AWB/BL is 12345                                                                                    \u001b[37m│\u001b[0m\n",
       "\u001b[37m╰─────────────────────────────────────────────────────────────────────────────────────────────────────────────────╯\u001b[0m\n"
      ]
     },
     "metadata": {},
     "output_type": "display_data"
    },
    {
     "data": {
      "text/html": [
       "<pre style=\"white-space:pre;overflow-x:auto;line-height:normal;font-family:Menlo,'DejaVu Sans Mono',consolas,'Courier New',monospace\"><span style=\"color: #c0c0c0; text-decoration-color: #c0c0c0\">╭───────────────────────────────────────────────────── 📝 AI ─────────────────────────────────────────────────────╮</span>\n",
       "<span style=\"color: #c0c0c0; text-decoration-color: #c0c0c0\">│</span> ⚠️ **Missing Required Fields**                                                                                   <span style=\"color: #c0c0c0; text-decoration-color: #c0c0c0\">│</span>\n",
       "<span style=\"color: #c0c0c0; text-decoration-color: #c0c0c0\">│</span>                                                                                                                 <span style=\"color: #c0c0c0; text-decoration-color: #c0c0c0\">│</span>\n",
       "<span style=\"color: #c0c0c0; text-decoration-color: #c0c0c0\">│</span> To proceed, please provide the following information:                                                           <span style=\"color: #c0c0c0; text-decoration-color: #c0c0c0\">│</span>\n",
       "<span style=\"color: #c0c0c0; text-decoration-color: #c0c0c0\">│</span> - AWB/BL Date                                                                                                   <span style=\"color: #c0c0c0; text-decoration-color: #c0c0c0\">│</span>\n",
       "<span style=\"color: #c0c0c0; text-decoration-color: #c0c0c0\">│</span> - Shipment Mode                                                                                                 <span style=\"color: #c0c0c0; text-decoration-color: #c0c0c0\">│</span>\n",
       "<span style=\"color: #c0c0c0; text-decoration-color: #c0c0c0\">│</span>                                                                                                                 <span style=\"color: #c0c0c0; text-decoration-color: #c0c0c0\">│</span>\n",
       "<span style=\"color: #c0c0c0; text-decoration-color: #c0c0c0\">│</span> You can reply with the details in this format:                                                                  <span style=\"color: #c0c0c0; text-decoration-color: #c0c0c0\">│</span>\n",
       "<span style=\"color: #c0c0c0; text-decoration-color: #c0c0c0\">│</span> - AWB/BL Date:                                                                                                  <span style=\"color: #c0c0c0; text-decoration-color: #c0c0c0\">│</span>\n",
       "<span style=\"color: #c0c0c0; text-decoration-color: #c0c0c0\">│</span> - Shipment Mode:                                                                                                <span style=\"color: #c0c0c0; text-decoration-color: #c0c0c0\">│</span>\n",
       "<span style=\"color: #c0c0c0; text-decoration-color: #c0c0c0\">│</span>                                                                                                                 <span style=\"color: #c0c0c0; text-decoration-color: #c0c0c0\">│</span>\n",
       "<span style=\"color: #c0c0c0; text-decoration-color: #c0c0c0\">│</span> If you need help or clarification about these fields, let me know!                                              <span style=\"color: #c0c0c0; text-decoration-color: #c0c0c0\">│</span>\n",
       "<span style=\"color: #c0c0c0; text-decoration-color: #c0c0c0\">╰─────────────────────────────────────────────────────────────────────────────────────────────────────────────────╯</span>\n",
       "</pre>\n"
      ],
      "text/plain": [
       "\u001b[37m╭─\u001b[0m\u001b[37m────────────────────────────────────────────────────\u001b[0m\u001b[37m 📝 AI \u001b[0m\u001b[37m────────────────────────────────────────────────────\u001b[0m\u001b[37m─╮\u001b[0m\n",
       "\u001b[37m│\u001b[0m ⚠️ **Missing Required Fields**                                                                                   \u001b[37m│\u001b[0m\n",
       "\u001b[37m│\u001b[0m                                                                                                                 \u001b[37m│\u001b[0m\n",
       "\u001b[37m│\u001b[0m To proceed, please provide the following information:                                                           \u001b[37m│\u001b[0m\n",
       "\u001b[37m│\u001b[0m - AWB/BL Date                                                                                                   \u001b[37m│\u001b[0m\n",
       "\u001b[37m│\u001b[0m - Shipment Mode                                                                                                 \u001b[37m│\u001b[0m\n",
       "\u001b[37m│\u001b[0m                                                                                                                 \u001b[37m│\u001b[0m\n",
       "\u001b[37m│\u001b[0m You can reply with the details in this format:                                                                  \u001b[37m│\u001b[0m\n",
       "\u001b[37m│\u001b[0m - AWB/BL Date:                                                                                                  \u001b[37m│\u001b[0m\n",
       "\u001b[37m│\u001b[0m - Shipment Mode:                                                                                                \u001b[37m│\u001b[0m\n",
       "\u001b[37m│\u001b[0m                                                                                                                 \u001b[37m│\u001b[0m\n",
       "\u001b[37m│\u001b[0m If you need help or clarification about these fields, let me know!                                              \u001b[37m│\u001b[0m\n",
       "\u001b[37m╰─────────────────────────────────────────────────────────────────────────────────────────────────────────────────╯\u001b[0m\n"
      ]
     },
     "metadata": {},
     "output_type": "display_data"
    },
    {
     "data": {
      "text/html": [
       "<pre style=\"white-space:pre;overflow-x:auto;line-height:normal;font-family:Menlo,'DejaVu Sans Mono',consolas,'Courier New',monospace\"><span style=\"color: #000080; text-decoration-color: #000080\">╭─────────────────────────────────────────────────── 🧑 Human ────────────────────────────────────────────────────╮</span>\n",
       "<span style=\"color: #000080; text-decoration-color: #000080\">│</span> Well the AWB/BL is 12345 and Shipment Mode Air.                                                                 <span style=\"color: #000080; text-decoration-color: #000080\">│</span>\n",
       "<span style=\"color: #000080; text-decoration-color: #000080\">╰─────────────────────────────────────────────────────────────────────────────────────────────────────────────────╯</span>\n",
       "</pre>\n"
      ],
      "text/plain": [
       "\u001b[34m╭─\u001b[0m\u001b[34m──────────────────────────────────────────────────\u001b[0m\u001b[34m 🧑 Human \u001b[0m\u001b[34m───────────────────────────────────────────────────\u001b[0m\u001b[34m─╮\u001b[0m\n",
       "\u001b[34m│\u001b[0m Well the AWB/BL is 12345 and Shipment Mode Air.                                                                 \u001b[34m│\u001b[0m\n",
       "\u001b[34m╰─────────────────────────────────────────────────────────────────────────────────────────────────────────────────╯\u001b[0m\n"
      ]
     },
     "metadata": {},
     "output_type": "display_data"
    },
    {
     "data": {
      "text/html": [
       "<pre style=\"white-space:pre;overflow-x:auto;line-height:normal;font-family:Menlo,'DejaVu Sans Mono',consolas,'Courier New',monospace\"><span style=\"color: #c0c0c0; text-decoration-color: #c0c0c0\">╭───────────────────────────────────────────────────── 📝 AI ─────────────────────────────────────────────────────╮</span>\n",
       "<span style=\"color: #c0c0c0; text-decoration-color: #c0c0c0\">│</span> Well the AWB/BL is 12345 and Shipment Mode Air.                                                                 <span style=\"color: #c0c0c0; text-decoration-color: #c0c0c0\">│</span>\n",
       "<span style=\"color: #c0c0c0; text-decoration-color: #c0c0c0\">╰─────────────────────────────────────────────────────────────────────────────────────────────────────────────────╯</span>\n",
       "</pre>\n"
      ],
      "text/plain": [
       "\u001b[37m╭─\u001b[0m\u001b[37m────────────────────────────────────────────────────\u001b[0m\u001b[37m 📝 AI \u001b[0m\u001b[37m────────────────────────────────────────────────────\u001b[0m\u001b[37m─╮\u001b[0m\n",
       "\u001b[37m│\u001b[0m Well the AWB/BL is 12345 and Shipment Mode Air.                                                                 \u001b[37m│\u001b[0m\n",
       "\u001b[37m╰─────────────────────────────────────────────────────────────────────────────────────────────────────────────────╯\u001b[0m\n"
      ]
     },
     "metadata": {},
     "output_type": "display_data"
    },
    {
     "data": {
      "text/html": [
       "<pre style=\"white-space:pre;overflow-x:auto;line-height:normal;font-family:Menlo,'DejaVu Sans Mono',consolas,'Courier New',monospace\"><span style=\"color: #c0c0c0; text-decoration-color: #c0c0c0\">╭───────────────────────────────────────────────────── 📝 AI ─────────────────────────────────────────────────────╮</span>\n",
       "<span style=\"color: #c0c0c0; text-decoration-color: #c0c0c0\">│</span> ⚠️ **Missing Required Field:**                                                                                   <span style=\"color: #c0c0c0; text-decoration-color: #c0c0c0\">│</span>\n",
       "<span style=\"color: #c0c0c0; text-decoration-color: #c0c0c0\">│</span> - AWB/BL Date                                                                                                   <span style=\"color: #c0c0c0; text-decoration-color: #c0c0c0\">│</span>\n",
       "<span style=\"color: #c0c0c0; text-decoration-color: #c0c0c0\">│</span>                                                                                                                 <span style=\"color: #c0c0c0; text-decoration-color: #c0c0c0\">│</span>\n",
       "<span style=\"color: #c0c0c0; text-decoration-color: #c0c0c0\">│</span> Please provide the missing information so we can proceed with your request. If you need help or clarification,  <span style=\"color: #c0c0c0; text-decoration-color: #c0c0c0\">│</span>\n",
       "<span style=\"color: #c0c0c0; text-decoration-color: #c0c0c0\">│</span> let me know!                                                                                                    <span style=\"color: #c0c0c0; text-decoration-color: #c0c0c0\">│</span>\n",
       "<span style=\"color: #c0c0c0; text-decoration-color: #c0c0c0\">╰─────────────────────────────────────────────────────────────────────────────────────────────────────────────────╯</span>\n",
       "</pre>\n"
      ],
      "text/plain": [
       "\u001b[37m╭─\u001b[0m\u001b[37m────────────────────────────────────────────────────\u001b[0m\u001b[37m 📝 AI \u001b[0m\u001b[37m────────────────────────────────────────────────────\u001b[0m\u001b[37m─╮\u001b[0m\n",
       "\u001b[37m│\u001b[0m ⚠️ **Missing Required Field:**                                                                                   \u001b[37m│\u001b[0m\n",
       "\u001b[37m│\u001b[0m - AWB/BL Date                                                                                                   \u001b[37m│\u001b[0m\n",
       "\u001b[37m│\u001b[0m                                                                                                                 \u001b[37m│\u001b[0m\n",
       "\u001b[37m│\u001b[0m Please provide the missing information so we can proceed with your request. If you need help or clarification,  \u001b[37m│\u001b[0m\n",
       "\u001b[37m│\u001b[0m let me know!                                                                                                    \u001b[37m│\u001b[0m\n",
       "\u001b[37m╰─────────────────────────────────────────────────────────────────────────────────────────────────────────────────╯\u001b[0m\n"
      ]
     },
     "metadata": {},
     "output_type": "display_data"
    },
    {
     "data": {
      "text/html": [
       "<pre style=\"white-space:pre;overflow-x:auto;line-height:normal;font-family:Menlo,'DejaVu Sans Mono',consolas,'Courier New',monospace\"><span style=\"color: #000080; text-decoration-color: #000080\">╭─────────────────────────────────────────────────── 🧑 Human ────────────────────────────────────────────────────╮</span>\n",
       "<span style=\"color: #000080; text-decoration-color: #000080\">│</span> Well the AWB/BL is 12345, Shipment Mode Air and AWB/BL Date is 2025-09-30                                       <span style=\"color: #000080; text-decoration-color: #000080\">│</span>\n",
       "<span style=\"color: #000080; text-decoration-color: #000080\">╰─────────────────────────────────────────────────────────────────────────────────────────────────────────────────╯</span>\n",
       "</pre>\n"
      ],
      "text/plain": [
       "\u001b[34m╭─\u001b[0m\u001b[34m──────────────────────────────────────────────────\u001b[0m\u001b[34m 🧑 Human \u001b[0m\u001b[34m───────────────────────────────────────────────────\u001b[0m\u001b[34m─╮\u001b[0m\n",
       "\u001b[34m│\u001b[0m Well the AWB/BL is 12345, Shipment Mode Air and AWB/BL Date is 2025-09-30                                       \u001b[34m│\u001b[0m\n",
       "\u001b[34m╰─────────────────────────────────────────────────────────────────────────────────────────────────────────────────╯\u001b[0m\n"
      ]
     },
     "metadata": {},
     "output_type": "display_data"
    },
    {
     "data": {
      "text/html": [
       "<pre style=\"white-space:pre;overflow-x:auto;line-height:normal;font-family:Menlo,'DejaVu Sans Mono',consolas,'Courier New',monospace\"><span style=\"color: #c0c0c0; text-decoration-color: #c0c0c0\">╭───────────────────────────────────────────────────── 📝 AI ─────────────────────────────────────────────────────╮</span>\n",
       "<span style=\"color: #c0c0c0; text-decoration-color: #c0c0c0\">│</span> Well the AWB/BL is 12345, Shipment Mode Air and AWB/BL Date is 2025-09-30                                       <span style=\"color: #c0c0c0; text-decoration-color: #c0c0c0\">│</span>\n",
       "<span style=\"color: #c0c0c0; text-decoration-color: #c0c0c0\">╰─────────────────────────────────────────────────────────────────────────────────────────────────────────────────╯</span>\n",
       "</pre>\n"
      ],
      "text/plain": [
       "\u001b[37m╭─\u001b[0m\u001b[37m────────────────────────────────────────────────────\u001b[0m\u001b[37m 📝 AI \u001b[0m\u001b[37m────────────────────────────────────────────────────\u001b[0m\u001b[37m─╮\u001b[0m\n",
       "\u001b[37m│\u001b[0m Well the AWB/BL is 12345, Shipment Mode Air and AWB/BL Date is 2025-09-30                                       \u001b[37m│\u001b[0m\n",
       "\u001b[37m╰─────────────────────────────────────────────────────────────────────────────────────────────────────────────────╯\u001b[0m\n"
      ]
     },
     "metadata": {},
     "output_type": "display_data"
    },
    {
     "data": {
      "text/html": [
       "<pre style=\"white-space:pre;overflow-x:auto;line-height:normal;font-family:Menlo,'DejaVu Sans Mono',consolas,'Courier New',monospace\"><span style=\"color: #c0c0c0; text-decoration-color: #c0c0c0\">╭───────────────────────────────────────────────────── 📝 AI ─────────────────────────────────────────────────────╮</span>\n",
       "<span style=\"color: #c0c0c0; text-decoration-color: #c0c0c0\">│</span> Some optional fields are missing from your submission: Forwarder, Product Temperature, Packing, Shipping Temp,  <span style=\"color: #c0c0c0; text-decoration-color: #c0c0c0\">│</span>\n",
       "<span style=\"color: #c0c0c0; text-decoration-color: #c0c0c0\">│</span> Gel Pack Expiry Date, Handover to Clearance, Aggregation, Notified FF Date, Green light - Date, Logistic        <span style=\"color: #c0c0c0; text-decoration-color: #c0c0c0\">│</span>\n",
       "<span style=\"color: #c0c0c0; text-decoration-color: #c0c0c0\">│</span> Comment, Remark, and ASN Importation Date.                                                                      <span style=\"color: #c0c0c0; text-decoration-color: #c0c0c0\">│</span>\n",
       "<span style=\"color: #c0c0c0; text-decoration-color: #c0c0c0\">│</span>                                                                                                                 <span style=\"color: #c0c0c0; text-decoration-color: #c0c0c0\">│</span>\n",
       "<span style=\"color: #c0c0c0; text-decoration-color: #c0c0c0\">│</span> You can proceed without them, or provide any of these details now to complete your record. Let me know how      <span style=\"color: #c0c0c0; text-decoration-color: #c0c0c0\">│</span>\n",
       "<span style=\"color: #c0c0c0; text-decoration-color: #c0c0c0\">│</span> you’d like to continue!                                                                                         <span style=\"color: #c0c0c0; text-decoration-color: #c0c0c0\">│</span>\n",
       "<span style=\"color: #c0c0c0; text-decoration-color: #c0c0c0\">╰─────────────────────────────────────────────────────────────────────────────────────────────────────────────────╯</span>\n",
       "</pre>\n"
      ],
      "text/plain": [
       "\u001b[37m╭─\u001b[0m\u001b[37m────────────────────────────────────────────────────\u001b[0m\u001b[37m 📝 AI \u001b[0m\u001b[37m────────────────────────────────────────────────────\u001b[0m\u001b[37m─╮\u001b[0m\n",
       "\u001b[37m│\u001b[0m Some optional fields are missing from your submission: Forwarder, Product Temperature, Packing, Shipping Temp,  \u001b[37m│\u001b[0m\n",
       "\u001b[37m│\u001b[0m Gel Pack Expiry Date, Handover to Clearance, Aggregation, Notified FF Date, Green light - Date, Logistic        \u001b[37m│\u001b[0m\n",
       "\u001b[37m│\u001b[0m Comment, Remark, and ASN Importation Date.                                                                      \u001b[37m│\u001b[0m\n",
       "\u001b[37m│\u001b[0m                                                                                                                 \u001b[37m│\u001b[0m\n",
       "\u001b[37m│\u001b[0m You can proceed without them, or provide any of these details now to complete your record. Let me know how      \u001b[37m│\u001b[0m\n",
       "\u001b[37m│\u001b[0m you’d like to continue!                                                                                         \u001b[37m│\u001b[0m\n",
       "\u001b[37m╰─────────────────────────────────────────────────────────────────────────────────────────────────────────────────╯\u001b[0m\n"
      ]
     },
     "metadata": {},
     "output_type": "display_data"
    },
    {
     "data": {
      "text/html": [
       "<pre style=\"white-space:pre;overflow-x:auto;line-height:normal;font-family:Menlo,'DejaVu Sans Mono',consolas,'Courier New',monospace\"><span style=\"color: #000080; text-decoration-color: #000080\">╭─────────────────────────────────────────────────── 🧑 Human ────────────────────────────────────────────────────╮</span>\n",
       "<span style=\"color: #000080; text-decoration-color: #000080\">│</span> Well the AWB/BL is 12345 , Shipment Mode Air and AWB/BL Date is 2025-09-30. skip the optional fields            <span style=\"color: #000080; text-decoration-color: #000080\">│</span>\n",
       "<span style=\"color: #000080; text-decoration-color: #000080\">╰─────────────────────────────────────────────────────────────────────────────────────────────────────────────────╯</span>\n",
       "</pre>\n"
      ],
      "text/plain": [
       "\u001b[34m╭─\u001b[0m\u001b[34m──────────────────────────────────────────────────\u001b[0m\u001b[34m 🧑 Human \u001b[0m\u001b[34m───────────────────────────────────────────────────\u001b[0m\u001b[34m─╮\u001b[0m\n",
       "\u001b[34m│\u001b[0m Well the AWB/BL is 12345 , Shipment Mode Air and AWB/BL Date is 2025-09-30. skip the optional fields            \u001b[34m│\u001b[0m\n",
       "\u001b[34m╰─────────────────────────────────────────────────────────────────────────────────────────────────────────────────╯\u001b[0m\n"
      ]
     },
     "metadata": {},
     "output_type": "display_data"
    },
    {
     "data": {
      "text/html": [
       "<pre style=\"white-space:pre;overflow-x:auto;line-height:normal;font-family:Menlo,'DejaVu Sans Mono',consolas,'Courier New',monospace\"><span style=\"color: #c0c0c0; text-decoration-color: #c0c0c0\">╭───────────────────────────────────────────────────── 📝 AI ─────────────────────────────────────────────────────╮</span>\n",
       "<span style=\"color: #c0c0c0; text-decoration-color: #c0c0c0\">│</span> Well the AWB/BL is 12345 , Shipment Mode Air and AWB/BL Date is 2025-09-30. skip the optional fields            <span style=\"color: #c0c0c0; text-decoration-color: #c0c0c0\">│</span>\n",
       "<span style=\"color: #c0c0c0; text-decoration-color: #c0c0c0\">╰─────────────────────────────────────────────────────────────────────────────────────────────────────────────────╯</span>\n",
       "</pre>\n"
      ],
      "text/plain": [
       "\u001b[37m╭─\u001b[0m\u001b[37m────────────────────────────────────────────────────\u001b[0m\u001b[37m 📝 AI \u001b[0m\u001b[37m────────────────────────────────────────────────────\u001b[0m\u001b[37m─╮\u001b[0m\n",
       "\u001b[37m│\u001b[0m Well the AWB/BL is 12345 , Shipment Mode Air and AWB/BL Date is 2025-09-30. skip the optional fields            \u001b[37m│\u001b[0m\n",
       "\u001b[37m╰─────────────────────────────────────────────────────────────────────────────────────────────────────────────────╯\u001b[0m\n"
      ]
     },
     "metadata": {},
     "output_type": "display_data"
    },
    {
     "data": {
      "text/html": [
       "<pre style=\"white-space:pre;overflow-x:auto;line-height:normal;font-family:Menlo,'DejaVu Sans Mono',consolas,'Courier New',monospace\"><span style=\"color: #c0c0c0; text-decoration-color: #c0c0c0\">╭───────────────────────────────────────────────────── 📝 AI ─────────────────────────────────────────────────────╮</span>\n",
       "<span style=\"color: #c0c0c0; text-decoration-color: #c0c0c0\">│</span> Here is the final list of fields for your confirmation:                                                         <span style=\"color: #c0c0c0; text-decoration-color: #c0c0c0\">│</span>\n",
       "<span style=\"color: #c0c0c0; text-decoration-color: #c0c0c0\">│</span>                                                                                                                 <span style=\"color: #c0c0c0; text-decoration-color: #c0c0c0\">│</span>\n",
       "<span style=\"color: #c0c0c0; text-decoration-color: #c0c0c0\">│</span> **Provided:**                                                                                                   <span style=\"color: #c0c0c0; text-decoration-color: #c0c0c0\">│</span>\n",
       "<span style=\"color: #c0c0c0; text-decoration-color: #c0c0c0\">│</span> - AWB/BL: 12345                                                                                                 <span style=\"color: #c0c0c0; text-decoration-color: #c0c0c0\">│</span>\n",
       "<span style=\"color: #c0c0c0; text-decoration-color: #c0c0c0\">│</span> - AWB/BL Date: 2025-09-30                                                                                       <span style=\"color: #c0c0c0; text-decoration-color: #c0c0c0\">│</span>\n",
       "<span style=\"color: #c0c0c0; text-decoration-color: #c0c0c0\">│</span> - Shipment Mode: Air                                                                                            <span style=\"color: #c0c0c0; text-decoration-color: #c0c0c0\">│</span>\n",
       "<span style=\"color: #c0c0c0; text-decoration-color: #c0c0c0\">│</span>                                                                                                                 <span style=\"color: #c0c0c0; text-decoration-color: #c0c0c0\">│</span>\n",
       "<span style=\"color: #c0c0c0; text-decoration-color: #c0c0c0\">│</span> **Missing (optional):**                                                                                         <span style=\"color: #c0c0c0; text-decoration-color: #c0c0c0\">│</span>\n",
       "<span style=\"color: #c0c0c0; text-decoration-color: #c0c0c0\">│</span> - Forwarder                                                                                                     <span style=\"color: #c0c0c0; text-decoration-color: #c0c0c0\">│</span>\n",
       "<span style=\"color: #c0c0c0; text-decoration-color: #c0c0c0\">│</span> - Incoterm                                                                                                      <span style=\"color: #c0c0c0; text-decoration-color: #c0c0c0\">│</span>\n",
       "<span style=\"color: #c0c0c0; text-decoration-color: #c0c0c0\">│</span> - Product Temperature                                                                                           <span style=\"color: #c0c0c0; text-decoration-color: #c0c0c0\">│</span>\n",
       "<span style=\"color: #c0c0c0; text-decoration-color: #c0c0c0\">│</span> - Packing                                                                                                       <span style=\"color: #c0c0c0; text-decoration-color: #c0c0c0\">│</span>\n",
       "<span style=\"color: #c0c0c0; text-decoration-color: #c0c0c0\">│</span> - Shipping Temp                                                                                                 <span style=\"color: #c0c0c0; text-decoration-color: #c0c0c0\">│</span>\n",
       "<span style=\"color: #c0c0c0; text-decoration-color: #c0c0c0\">│</span> - Gel Pack Expiry Date                                                                                          <span style=\"color: #c0c0c0; text-decoration-color: #c0c0c0\">│</span>\n",
       "<span style=\"color: #c0c0c0; text-decoration-color: #c0c0c0\">│</span> - Handover to Clearance                                                                                         <span style=\"color: #c0c0c0; text-decoration-color: #c0c0c0\">│</span>\n",
       "<span style=\"color: #c0c0c0; text-decoration-color: #c0c0c0\">│</span> - Aggregation                                                                                                   <span style=\"color: #c0c0c0; text-decoration-color: #c0c0c0\">│</span>\n",
       "<span style=\"color: #c0c0c0; text-decoration-color: #c0c0c0\">│</span> - Notified FF Date                                                                                              <span style=\"color: #c0c0c0; text-decoration-color: #c0c0c0\">│</span>\n",
       "<span style=\"color: #c0c0c0; text-decoration-color: #c0c0c0\">│</span> - Green light - Date                                                                                            <span style=\"color: #c0c0c0; text-decoration-color: #c0c0c0\">│</span>\n",
       "<span style=\"color: #c0c0c0; text-decoration-color: #c0c0c0\">│</span> - Logistic Comment                                                                                              <span style=\"color: #c0c0c0; text-decoration-color: #c0c0c0\">│</span>\n",
       "<span style=\"color: #c0c0c0; text-decoration-color: #c0c0c0\">│</span> - Remark                                                                                                        <span style=\"color: #c0c0c0; text-decoration-color: #c0c0c0\">│</span>\n",
       "<span style=\"color: #c0c0c0; text-decoration-color: #c0c0c0\">│</span> - ASN Importation Date                                                                                          <span style=\"color: #c0c0c0; text-decoration-color: #c0c0c0\">│</span>\n",
       "<span style=\"color: #c0c0c0; text-decoration-color: #c0c0c0\">│</span>                                                                                                                 <span style=\"color: #c0c0c0; text-decoration-color: #c0c0c0\">│</span>\n",
       "<span style=\"color: #c0c0c0; text-decoration-color: #c0c0c0\">│</span> No mandatory fields are missing.                                                                                <span style=\"color: #c0c0c0; text-decoration-color: #c0c0c0\">│</span>\n",
       "<span style=\"color: #c0c0c0; text-decoration-color: #c0c0c0\">│</span>                                                                                                                 <span style=\"color: #c0c0c0; text-decoration-color: #c0c0c0\">│</span>\n",
       "<span style=\"color: #c0c0c0; text-decoration-color: #c0c0c0\">│</span> Please confirm if this information is correct so I can proceed.                                                 <span style=\"color: #c0c0c0; text-decoration-color: #c0c0c0\">│</span>\n",
       "<span style=\"color: #c0c0c0; text-decoration-color: #c0c0c0\">╰─────────────────────────────────────────────────────────────────────────────────────────────────────────────────╯</span>\n",
       "</pre>\n"
      ],
      "text/plain": [
       "\u001b[37m╭─\u001b[0m\u001b[37m────────────────────────────────────────────────────\u001b[0m\u001b[37m 📝 AI \u001b[0m\u001b[37m────────────────────────────────────────────────────\u001b[0m\u001b[37m─╮\u001b[0m\n",
       "\u001b[37m│\u001b[0m Here is the final list of fields for your confirmation:                                                         \u001b[37m│\u001b[0m\n",
       "\u001b[37m│\u001b[0m                                                                                                                 \u001b[37m│\u001b[0m\n",
       "\u001b[37m│\u001b[0m **Provided:**                                                                                                   \u001b[37m│\u001b[0m\n",
       "\u001b[37m│\u001b[0m - AWB/BL: 12345                                                                                                 \u001b[37m│\u001b[0m\n",
       "\u001b[37m│\u001b[0m - AWB/BL Date: 2025-09-30                                                                                       \u001b[37m│\u001b[0m\n",
       "\u001b[37m│\u001b[0m - Shipment Mode: Air                                                                                            \u001b[37m│\u001b[0m\n",
       "\u001b[37m│\u001b[0m                                                                                                                 \u001b[37m│\u001b[0m\n",
       "\u001b[37m│\u001b[0m **Missing (optional):**                                                                                         \u001b[37m│\u001b[0m\n",
       "\u001b[37m│\u001b[0m - Forwarder                                                                                                     \u001b[37m│\u001b[0m\n",
       "\u001b[37m│\u001b[0m - Incoterm                                                                                                      \u001b[37m│\u001b[0m\n",
       "\u001b[37m│\u001b[0m - Product Temperature                                                                                           \u001b[37m│\u001b[0m\n",
       "\u001b[37m│\u001b[0m - Packing                                                                                                       \u001b[37m│\u001b[0m\n",
       "\u001b[37m│\u001b[0m - Shipping Temp                                                                                                 \u001b[37m│\u001b[0m\n",
       "\u001b[37m│\u001b[0m - Gel Pack Expiry Date                                                                                          \u001b[37m│\u001b[0m\n",
       "\u001b[37m│\u001b[0m - Handover to Clearance                                                                                         \u001b[37m│\u001b[0m\n",
       "\u001b[37m│\u001b[0m - Aggregation                                                                                                   \u001b[37m│\u001b[0m\n",
       "\u001b[37m│\u001b[0m - Notified FF Date                                                                                              \u001b[37m│\u001b[0m\n",
       "\u001b[37m│\u001b[0m - Green light - Date                                                                                            \u001b[37m│\u001b[0m\n",
       "\u001b[37m│\u001b[0m - Logistic Comment                                                                                              \u001b[37m│\u001b[0m\n",
       "\u001b[37m│\u001b[0m - Remark                                                                                                        \u001b[37m│\u001b[0m\n",
       "\u001b[37m│\u001b[0m - ASN Importation Date                                                                                          \u001b[37m│\u001b[0m\n",
       "\u001b[37m│\u001b[0m                                                                                                                 \u001b[37m│\u001b[0m\n",
       "\u001b[37m│\u001b[0m No mandatory fields are missing.                                                                                \u001b[37m│\u001b[0m\n",
       "\u001b[37m│\u001b[0m                                                                                                                 \u001b[37m│\u001b[0m\n",
       "\u001b[37m│\u001b[0m Please confirm if this information is correct so I can proceed.                                                 \u001b[37m│\u001b[0m\n",
       "\u001b[37m╰─────────────────────────────────────────────────────────────────────────────────────────────────────────────────╯\u001b[0m\n"
      ]
     },
     "metadata": {},
     "output_type": "display_data"
    }
   ],
   "source": [
    "message = \"Well the AWB/BL is 12345 , Shipment Mode Air and AWB/BL Date is 2025-09-30. skip the optional fields\"\n",
    "result = await LogisticsAgent.ainvoke({\"agent_brief\" : message,\n",
    "                                       \"messages\":[HumanMessage(content=message)]} , config=thread)\n",
    "format_message(result[\"messages\"])"
   ]
  },
  {
   "cell_type": "code",
   "execution_count": 17,
   "id": "8ece3a72",
   "metadata": {},
   "outputs": [
    {
     "ename": "UnsupportedOperation",
     "evalue": "fileno",
     "output_type": "error",
     "traceback": [
      "\u001b[31m---------------------------------------------------------------------------\u001b[39m",
      "\u001b[31mNotImplementedError\u001b[39m                       Traceback (most recent call last)",
      "\u001b[36mFile \u001b[39m\u001b[32mc:\\Users\\kamalmo\\Desktop\\AI\\InboundLogisticSystem\\MultiAgentInboundLogistic\\.venv\\Lib\\site-packages\\mcp\\os\\win32\\utilities.py:169\u001b[39m, in \u001b[36mcreate_windows_process\u001b[39m\u001b[34m(command, args, env, errlog, cwd)\u001b[39m\n\u001b[32m    167\u001b[39m \u001b[38;5;28;01mtry\u001b[39;00m:\n\u001b[32m    168\u001b[39m     \u001b[38;5;66;03m# First try using anyio with Windows-specific flags to hide console window\u001b[39;00m\n\u001b[32m--> \u001b[39m\u001b[32m169\u001b[39m     process = \u001b[38;5;28;01mawait\u001b[39;00m anyio.open_process(\n\u001b[32m    170\u001b[39m         [command, *args],\n\u001b[32m    171\u001b[39m         env=env,\n\u001b[32m    172\u001b[39m         \u001b[38;5;66;03m# Ensure we don't create console windows for each process\u001b[39;00m\n\u001b[32m    173\u001b[39m         creationflags=subprocess.CREATE_NO_WINDOW  \u001b[38;5;66;03m# type: ignore\u001b[39;00m\n\u001b[32m    174\u001b[39m         \u001b[38;5;28;01mif\u001b[39;00m \u001b[38;5;28mhasattr\u001b[39m(subprocess, \u001b[33m\"\u001b[39m\u001b[33mCREATE_NO_WINDOW\u001b[39m\u001b[33m\"\u001b[39m)\n\u001b[32m    175\u001b[39m         \u001b[38;5;28;01melse\u001b[39;00m \u001b[32m0\u001b[39m,\n\u001b[32m    176\u001b[39m         stderr=errlog,\n\u001b[32m    177\u001b[39m         cwd=cwd,\n\u001b[32m    178\u001b[39m     )\n\u001b[32m    179\u001b[39m \u001b[38;5;28;01mexcept\u001b[39;00m \u001b[38;5;167;01mNotImplementedError\u001b[39;00m:\n\u001b[32m    180\u001b[39m     \u001b[38;5;66;03m# If Windows doesn't support async subprocess creation, use fallback\u001b[39;00m\n",
      "\u001b[36mFile \u001b[39m\u001b[32mc:\\Users\\kamalmo\\Desktop\\AI\\InboundLogisticSystem\\MultiAgentInboundLogistic\\.venv\\Lib\\site-packages\\anyio\\_core\\_subprocesses.py:190\u001b[39m, in \u001b[36mopen_process\u001b[39m\u001b[34m(command, stdin, stdout, stderr, cwd, env, startupinfo, creationflags, start_new_session, pass_fds, user, group, extra_groups, umask)\u001b[39m\n\u001b[32m    188\u001b[39m     kwargs[\u001b[33m\"\u001b[39m\u001b[33mumask\u001b[39m\u001b[33m\"\u001b[39m] = umask\n\u001b[32m--> \u001b[39m\u001b[32m190\u001b[39m \u001b[38;5;28;01mreturn\u001b[39;00m \u001b[38;5;28;01mawait\u001b[39;00m get_async_backend().open_process(\n\u001b[32m    191\u001b[39m     command,\n\u001b[32m    192\u001b[39m     stdin=stdin,\n\u001b[32m    193\u001b[39m     stdout=stdout,\n\u001b[32m    194\u001b[39m     stderr=stderr,\n\u001b[32m    195\u001b[39m     cwd=cwd,\n\u001b[32m    196\u001b[39m     env=env,\n\u001b[32m    197\u001b[39m     startupinfo=startupinfo,\n\u001b[32m    198\u001b[39m     creationflags=creationflags,\n\u001b[32m    199\u001b[39m     start_new_session=start_new_session,\n\u001b[32m    200\u001b[39m     pass_fds=pass_fds,\n\u001b[32m    201\u001b[39m     **kwargs,\n\u001b[32m    202\u001b[39m )\n",
      "\u001b[36mFile \u001b[39m\u001b[32mc:\\Users\\kamalmo\\Desktop\\AI\\InboundLogisticSystem\\MultiAgentInboundLogistic\\.venv\\Lib\\site-packages\\anyio\\_backends\\_asyncio.py:2567\u001b[39m, in \u001b[36mAsyncIOBackend.open_process\u001b[39m\u001b[34m(cls, command, stdin, stdout, stderr, **kwargs)\u001b[39m\n\u001b[32m   2566\u001b[39m \u001b[38;5;28;01melse\u001b[39;00m:\n\u001b[32m-> \u001b[39m\u001b[32m2567\u001b[39m     process = \u001b[38;5;28;01mawait\u001b[39;00m asyncio.create_subprocess_exec(\n\u001b[32m   2568\u001b[39m         *command,\n\u001b[32m   2569\u001b[39m         stdin=stdin,\n\u001b[32m   2570\u001b[39m         stdout=stdout,\n\u001b[32m   2571\u001b[39m         stderr=stderr,\n\u001b[32m   2572\u001b[39m         **kwargs,\n\u001b[32m   2573\u001b[39m     )\n\u001b[32m   2575\u001b[39m stdin_stream = StreamWriterWrapper(process.stdin) \u001b[38;5;28;01mif\u001b[39;00m process.stdin \u001b[38;5;28;01melse\u001b[39;00m \u001b[38;5;28;01mNone\u001b[39;00m\n",
      "\u001b[36mFile \u001b[39m\u001b[32m~\\AppData\\Local\\anaconda3\\Lib\\asyncio\\subprocess.py:224\u001b[39m, in \u001b[36mcreate_subprocess_exec\u001b[39m\u001b[34m(program, stdin, stdout, stderr, limit, *args, **kwds)\u001b[39m\n\u001b[32m    222\u001b[39m protocol_factory = \u001b[38;5;28;01mlambda\u001b[39;00m: SubprocessStreamProtocol(limit=limit,\n\u001b[32m    223\u001b[39m                                                     loop=loop)\n\u001b[32m--> \u001b[39m\u001b[32m224\u001b[39m transport, protocol = \u001b[38;5;28;01mawait\u001b[39;00m loop.subprocess_exec(\n\u001b[32m    225\u001b[39m     protocol_factory,\n\u001b[32m    226\u001b[39m     program, *args,\n\u001b[32m    227\u001b[39m     stdin=stdin, stdout=stdout,\n\u001b[32m    228\u001b[39m     stderr=stderr, **kwds)\n\u001b[32m    229\u001b[39m \u001b[38;5;28;01mreturn\u001b[39;00m Process(transport, protocol, loop)\n",
      "\u001b[36mFile \u001b[39m\u001b[32m~\\AppData\\Local\\anaconda3\\Lib\\asyncio\\base_events.py:1743\u001b[39m, in \u001b[36mBaseEventLoop.subprocess_exec\u001b[39m\u001b[34m(self, protocol_factory, program, stdin, stdout, stderr, universal_newlines, shell, bufsize, encoding, errors, text, *args, **kwargs)\u001b[39m\n\u001b[32m   1742\u001b[39m     \u001b[38;5;28mself\u001b[39m._log_subprocess(debug_log, stdin, stdout, stderr)\n\u001b[32m-> \u001b[39m\u001b[32m1743\u001b[39m transport = \u001b[38;5;28;01mawait\u001b[39;00m \u001b[38;5;28mself\u001b[39m._make_subprocess_transport(\n\u001b[32m   1744\u001b[39m     protocol, popen_args, \u001b[38;5;28;01mFalse\u001b[39;00m, stdin, stdout, stderr,\n\u001b[32m   1745\u001b[39m     bufsize, **kwargs)\n\u001b[32m   1746\u001b[39m \u001b[38;5;28;01mif\u001b[39;00m \u001b[38;5;28mself\u001b[39m._debug \u001b[38;5;129;01mand\u001b[39;00m debug_log \u001b[38;5;129;01mis\u001b[39;00m \u001b[38;5;129;01mnot\u001b[39;00m \u001b[38;5;28;01mNone\u001b[39;00m:\n",
      "\u001b[36mFile \u001b[39m\u001b[32m~\\AppData\\Local\\anaconda3\\Lib\\asyncio\\base_events.py:524\u001b[39m, in \u001b[36mBaseEventLoop._make_subprocess_transport\u001b[39m\u001b[34m(self, protocol, args, shell, stdin, stdout, stderr, bufsize, extra, **kwargs)\u001b[39m\n\u001b[32m    523\u001b[39m \u001b[38;5;250m\u001b[39m\u001b[33;03m\"\"\"Create subprocess transport.\"\"\"\u001b[39;00m\n\u001b[32m--> \u001b[39m\u001b[32m524\u001b[39m \u001b[38;5;28;01mraise\u001b[39;00m \u001b[38;5;167;01mNotImplementedError\u001b[39;00m\n",
      "\u001b[31mNotImplementedError\u001b[39m: ",
      "\nDuring handling of the above exception, another exception occurred:\n",
      "\u001b[31mUnsupportedOperation\u001b[39m                      Traceback (most recent call last)",
      "\u001b[36mFile \u001b[39m\u001b[32mc:\\Users\\kamalmo\\Desktop\\AI\\InboundLogisticSystem\\MultiAgentInboundLogistic\\.venv\\Lib\\site-packages\\mcp\\os\\win32\\utilities.py:209\u001b[39m, in \u001b[36m_create_windows_fallback_process\u001b[39m\u001b[34m(command, args, env, errlog, cwd)\u001b[39m\n\u001b[32m    207\u001b[39m \u001b[38;5;28;01mtry\u001b[39;00m:\n\u001b[32m    208\u001b[39m     \u001b[38;5;66;03m# Try launching with creationflags to avoid opening a new console window\u001b[39;00m\n\u001b[32m--> \u001b[39m\u001b[32m209\u001b[39m     popen_obj = \u001b[43msubprocess\u001b[49m\u001b[43m.\u001b[49m\u001b[43mPopen\u001b[49m\u001b[43m(\u001b[49m\n\u001b[32m    210\u001b[39m \u001b[43m        \u001b[49m\u001b[43m[\u001b[49m\u001b[43mcommand\u001b[49m\u001b[43m,\u001b[49m\u001b[43m \u001b[49m\u001b[43m*\u001b[49m\u001b[43margs\u001b[49m\u001b[43m]\u001b[49m\u001b[43m,\u001b[49m\n\u001b[32m    211\u001b[39m \u001b[43m        \u001b[49m\u001b[43mstdin\u001b[49m\u001b[43m=\u001b[49m\u001b[43msubprocess\u001b[49m\u001b[43m.\u001b[49m\u001b[43mPIPE\u001b[49m\u001b[43m,\u001b[49m\n\u001b[32m    212\u001b[39m \u001b[43m        \u001b[49m\u001b[43mstdout\u001b[49m\u001b[43m=\u001b[49m\u001b[43msubprocess\u001b[49m\u001b[43m.\u001b[49m\u001b[43mPIPE\u001b[49m\u001b[43m,\u001b[49m\n\u001b[32m    213\u001b[39m \u001b[43m        \u001b[49m\u001b[43mstderr\u001b[49m\u001b[43m=\u001b[49m\u001b[43merrlog\u001b[49m\u001b[43m,\u001b[49m\n\u001b[32m    214\u001b[39m \u001b[43m        \u001b[49m\u001b[43menv\u001b[49m\u001b[43m=\u001b[49m\u001b[43menv\u001b[49m\u001b[43m,\u001b[49m\n\u001b[32m    215\u001b[39m \u001b[43m        \u001b[49m\u001b[43mcwd\u001b[49m\u001b[43m=\u001b[49m\u001b[43mcwd\u001b[49m\u001b[43m,\u001b[49m\n\u001b[32m    216\u001b[39m \u001b[43m        \u001b[49m\u001b[43mbufsize\u001b[49m\u001b[43m=\u001b[49m\u001b[32;43m0\u001b[39;49m\u001b[43m,\u001b[49m\u001b[43m  \u001b[49m\u001b[38;5;66;43;03m# Unbuffered output\u001b[39;49;00m\n\u001b[32m    217\u001b[39m \u001b[43m        \u001b[49m\u001b[43mcreationflags\u001b[49m\u001b[43m=\u001b[49m\u001b[38;5;28;43mgetattr\u001b[39;49m\u001b[43m(\u001b[49m\u001b[43msubprocess\u001b[49m\u001b[43m,\u001b[49m\u001b[43m \u001b[49m\u001b[33;43m\"\u001b[39;49m\u001b[33;43mCREATE_NO_WINDOW\u001b[39;49m\u001b[33;43m\"\u001b[39;49m\u001b[43m,\u001b[49m\u001b[43m \u001b[49m\u001b[32;43m0\u001b[39;49m\u001b[43m)\u001b[49m\u001b[43m,\u001b[49m\n\u001b[32m    218\u001b[39m \u001b[43m    \u001b[49m\u001b[43m)\u001b[49m\n\u001b[32m    219\u001b[39m \u001b[38;5;28;01mexcept\u001b[39;00m \u001b[38;5;167;01mException\u001b[39;00m:\n\u001b[32m    220\u001b[39m     \u001b[38;5;66;03m# If creationflags failed, fallback without them\u001b[39;00m\n",
      "\u001b[36mFile \u001b[39m\u001b[32m~\\AppData\\Local\\anaconda3\\Lib\\subprocess.py:992\u001b[39m, in \u001b[36mPopen.__init__\u001b[39m\u001b[34m(self, args, bufsize, executable, stdin, stdout, stderr, preexec_fn, close_fds, shell, cwd, env, universal_newlines, startupinfo, creationflags, restore_signals, start_new_session, pass_fds, user, group, extra_groups, encoding, errors, text, umask, pipesize, process_group)\u001b[39m\n\u001b[32m    975\u001b[39m \u001b[38;5;66;03m# Input and output objects. The general principle is like\u001b[39;00m\n\u001b[32m    976\u001b[39m \u001b[38;5;66;03m# this:\u001b[39;00m\n\u001b[32m    977\u001b[39m \u001b[38;5;66;03m#\u001b[39;00m\n\u001b[32m   (...)\u001b[39m\u001b[32m    987\u001b[39m \u001b[38;5;66;03m# are -1 when not using PIPEs. The child objects are -1\u001b[39;00m\n\u001b[32m    988\u001b[39m \u001b[38;5;66;03m# when not redirecting.\u001b[39;00m\n\u001b[32m    990\u001b[39m (p2cread, p2cwrite,\n\u001b[32m    991\u001b[39m  c2pread, c2pwrite,\n\u001b[32m--> \u001b[39m\u001b[32m992\u001b[39m  errread, errwrite) = \u001b[38;5;28;43mself\u001b[39;49m\u001b[43m.\u001b[49m\u001b[43m_get_handles\u001b[49m\u001b[43m(\u001b[49m\u001b[43mstdin\u001b[49m\u001b[43m,\u001b[49m\u001b[43m \u001b[49m\u001b[43mstdout\u001b[49m\u001b[43m,\u001b[49m\u001b[43m \u001b[49m\u001b[43mstderr\u001b[49m\u001b[43m)\u001b[49m\n\u001b[32m    994\u001b[39m \u001b[38;5;66;03m# From here on, raising exceptions may cause file descriptor leakage\u001b[39;00m\n\u001b[32m    995\u001b[39m \n\u001b[32m    996\u001b[39m \u001b[38;5;66;03m# We wrap OS handles *before* launching the child, otherwise a\u001b[39;00m\n\u001b[32m    997\u001b[39m \u001b[38;5;66;03m# quickly terminating child could make our fds unwrappable\u001b[39;00m\n\u001b[32m    998\u001b[39m \u001b[38;5;66;03m# (see #8458).\u001b[39;00m\n",
      "\u001b[36mFile \u001b[39m\u001b[32m~\\AppData\\Local\\anaconda3\\Lib\\subprocess.py:1406\u001b[39m, in \u001b[36mPopen._get_handles\u001b[39m\u001b[34m(self, stdin, stdout, stderr)\u001b[39m\n\u001b[32m   1404\u001b[39m \u001b[38;5;28;01melse\u001b[39;00m:\n\u001b[32m   1405\u001b[39m     \u001b[38;5;66;03m# Assuming file-like object\u001b[39;00m\n\u001b[32m-> \u001b[39m\u001b[32m1406\u001b[39m     errwrite = msvcrt.get_osfhandle(\u001b[43mstderr\u001b[49m\u001b[43m.\u001b[49m\u001b[43mfileno\u001b[49m\u001b[43m(\u001b[49m\u001b[43m)\u001b[49m)\n\u001b[32m   1407\u001b[39m errwrite = \u001b[38;5;28mself\u001b[39m._make_inheritable(errwrite)\n",
      "\u001b[36mFile \u001b[39m\u001b[32mc:\\Users\\kamalmo\\Desktop\\AI\\InboundLogisticSystem\\MultiAgentInboundLogistic\\.venv\\Lib\\site-packages\\ipykernel\\iostream.py:371\u001b[39m, in \u001b[36mOutStream.fileno\u001b[39m\u001b[34m(self)\u001b[39m\n\u001b[32m    370\u001b[39m msg = \u001b[33m\"\u001b[39m\u001b[33mfileno\u001b[39m\u001b[33m\"\u001b[39m\n\u001b[32m--> \u001b[39m\u001b[32m371\u001b[39m \u001b[38;5;28;01mraise\u001b[39;00m io.UnsupportedOperation(msg)\n",
      "\u001b[31mUnsupportedOperation\u001b[39m: fileno",
      "\nDuring handling of the above exception, another exception occurred:\n",
      "\u001b[31mUnsupportedOperation\u001b[39m                      Traceback (most recent call last)",
      "\u001b[36mCell\u001b[39m\u001b[36m \u001b[39m\u001b[32mIn[17]\u001b[39m\u001b[32m, line 2\u001b[39m\n\u001b[32m      1\u001b[39m message = \u001b[33m\"\u001b[39m\u001b[33mWell the AWB/BL is 12345, Shipment Mode Air and AWB/BL Date is 2025-09-30. skip the optional fields. I am confirming\u001b[39m\u001b[33m\"\u001b[39m\n\u001b[32m----> \u001b[39m\u001b[32m2\u001b[39m result = \u001b[38;5;28;01mawait\u001b[39;00m LogisticsAgent.ainvoke({\u001b[33m\"\u001b[39m\u001b[33magent_brief\u001b[39m\u001b[33m\"\u001b[39m : message,\n\u001b[32m      3\u001b[39m                                        \u001b[33m\"\u001b[39m\u001b[33mmessages\u001b[39m\u001b[33m\"\u001b[39m:[HumanMessage(content=message)]} , config=thread)\n\u001b[32m      4\u001b[39m format_message(result[\u001b[33m\"\u001b[39m\u001b[33mmessages\u001b[39m\u001b[33m\"\u001b[39m])\n",
      "\u001b[36mFile \u001b[39m\u001b[32mc:\\Users\\kamalmo\\Desktop\\AI\\InboundLogisticSystem\\MultiAgentInboundLogistic\\.venv\\Lib\\site-packages\\langgraph\\pregel\\main.py:3112\u001b[39m, in \u001b[36mPregel.ainvoke\u001b[39m\u001b[34m(self, input, config, context, stream_mode, print_mode, output_keys, interrupt_before, interrupt_after, durability, **kwargs)\u001b[39m\n\u001b[32m   3109\u001b[39m chunks: \u001b[38;5;28mlist\u001b[39m[\u001b[38;5;28mdict\u001b[39m[\u001b[38;5;28mstr\u001b[39m, Any] | Any] = []\n\u001b[32m   3110\u001b[39m interrupts: \u001b[38;5;28mlist\u001b[39m[Interrupt] = []\n\u001b[32m-> \u001b[39m\u001b[32m3112\u001b[39m \u001b[38;5;28;01masync\u001b[39;00m \u001b[38;5;28;01mfor\u001b[39;00m chunk \u001b[38;5;129;01min\u001b[39;00m \u001b[38;5;28mself\u001b[39m.astream(\n\u001b[32m   3113\u001b[39m     \u001b[38;5;28minput\u001b[39m,\n\u001b[32m   3114\u001b[39m     config,\n\u001b[32m   3115\u001b[39m     context=context,\n\u001b[32m   3116\u001b[39m     stream_mode=[\u001b[33m\"\u001b[39m\u001b[33mupdates\u001b[39m\u001b[33m\"\u001b[39m, \u001b[33m\"\u001b[39m\u001b[33mvalues\u001b[39m\u001b[33m\"\u001b[39m]\n\u001b[32m   3117\u001b[39m     \u001b[38;5;28;01mif\u001b[39;00m stream_mode == \u001b[33m\"\u001b[39m\u001b[33mvalues\u001b[39m\u001b[33m\"\u001b[39m\n\u001b[32m   3118\u001b[39m     \u001b[38;5;28;01melse\u001b[39;00m stream_mode,\n\u001b[32m   3119\u001b[39m     print_mode=print_mode,\n\u001b[32m   3120\u001b[39m     output_keys=output_keys,\n\u001b[32m   3121\u001b[39m     interrupt_before=interrupt_before,\n\u001b[32m   3122\u001b[39m     interrupt_after=interrupt_after,\n\u001b[32m   3123\u001b[39m     durability=durability,\n\u001b[32m   3124\u001b[39m     **kwargs,\n\u001b[32m   3125\u001b[39m ):\n\u001b[32m   3126\u001b[39m     \u001b[38;5;28;01mif\u001b[39;00m stream_mode == \u001b[33m\"\u001b[39m\u001b[33mvalues\u001b[39m\u001b[33m\"\u001b[39m:\n\u001b[32m   3127\u001b[39m         \u001b[38;5;28;01mif\u001b[39;00m \u001b[38;5;28mlen\u001b[39m(chunk) == \u001b[32m2\u001b[39m:\n",
      "\u001b[36mFile \u001b[39m\u001b[32mc:\\Users\\kamalmo\\Desktop\\AI\\InboundLogisticSystem\\MultiAgentInboundLogistic\\.venv\\Lib\\site-packages\\langgraph\\pregel\\main.py:2939\u001b[39m, in \u001b[36mPregel.astream\u001b[39m\u001b[34m(self, input, config, context, stream_mode, print_mode, output_keys, interrupt_before, interrupt_after, durability, subgraphs, debug, **kwargs)\u001b[39m\n\u001b[32m   2937\u001b[39m \u001b[38;5;28;01mfor\u001b[39;00m task \u001b[38;5;129;01min\u001b[39;00m \u001b[38;5;28;01mawait\u001b[39;00m loop.amatch_cached_writes():\n\u001b[32m   2938\u001b[39m     loop.output_writes(task.id, task.writes, cached=\u001b[38;5;28;01mTrue\u001b[39;00m)\n\u001b[32m-> \u001b[39m\u001b[32m2939\u001b[39m \u001b[38;5;28;01masync\u001b[39;00m \u001b[38;5;28;01mfor\u001b[39;00m _ \u001b[38;5;129;01min\u001b[39;00m runner.atick(\n\u001b[32m   2940\u001b[39m     [t \u001b[38;5;28;01mfor\u001b[39;00m t \u001b[38;5;129;01min\u001b[39;00m loop.tasks.values() \u001b[38;5;28;01mif\u001b[39;00m \u001b[38;5;129;01mnot\u001b[39;00m t.writes],\n\u001b[32m   2941\u001b[39m     timeout=\u001b[38;5;28mself\u001b[39m.step_timeout,\n\u001b[32m   2942\u001b[39m     get_waiter=get_waiter,\n\u001b[32m   2943\u001b[39m     schedule_task=loop.aaccept_push,\n\u001b[32m   2944\u001b[39m ):\n\u001b[32m   2945\u001b[39m     \u001b[38;5;66;03m# emit output\u001b[39;00m\n\u001b[32m   2946\u001b[39m     \u001b[38;5;28;01mfor\u001b[39;00m o \u001b[38;5;129;01min\u001b[39;00m _output(\n\u001b[32m   2947\u001b[39m         stream_mode,\n\u001b[32m   2948\u001b[39m         print_mode,\n\u001b[32m   (...)\u001b[39m\u001b[32m   2951\u001b[39m         asyncio.QueueEmpty,\n\u001b[32m   2952\u001b[39m     ):\n\u001b[32m   2953\u001b[39m         \u001b[38;5;28;01myield\u001b[39;00m o\n",
      "\u001b[36mFile \u001b[39m\u001b[32mc:\\Users\\kamalmo\\Desktop\\AI\\InboundLogisticSystem\\MultiAgentInboundLogistic\\.venv\\Lib\\site-packages\\langgraph\\pregel\\_runner.py:295\u001b[39m, in \u001b[36mPregelRunner.atick\u001b[39m\u001b[34m(self, tasks, reraise, timeout, retry_policy, get_waiter, schedule_task)\u001b[39m\n\u001b[32m    293\u001b[39m t = tasks[\u001b[32m0\u001b[39m]\n\u001b[32m    294\u001b[39m \u001b[38;5;28;01mtry\u001b[39;00m:\n\u001b[32m--> \u001b[39m\u001b[32m295\u001b[39m     \u001b[38;5;28;01mawait\u001b[39;00m arun_with_retry(\n\u001b[32m    296\u001b[39m         t,\n\u001b[32m    297\u001b[39m         retry_policy,\n\u001b[32m    298\u001b[39m         stream=\u001b[38;5;28mself\u001b[39m.use_astream,\n\u001b[32m    299\u001b[39m         configurable={\n\u001b[32m    300\u001b[39m             CONFIG_KEY_CALL: partial(\n\u001b[32m    301\u001b[39m                 _acall,\n\u001b[32m    302\u001b[39m                 weakref.ref(t),\n\u001b[32m    303\u001b[39m                 stream=\u001b[38;5;28mself\u001b[39m.use_astream,\n\u001b[32m    304\u001b[39m                 retry_policy=retry_policy,\n\u001b[32m    305\u001b[39m                 futures=weakref.ref(futures),\n\u001b[32m    306\u001b[39m                 schedule_task=schedule_task,\n\u001b[32m    307\u001b[39m                 submit=\u001b[38;5;28mself\u001b[39m.submit,\n\u001b[32m    308\u001b[39m                 loop=loop,\n\u001b[32m    309\u001b[39m             ),\n\u001b[32m    310\u001b[39m         },\n\u001b[32m    311\u001b[39m     )\n\u001b[32m    312\u001b[39m     \u001b[38;5;28mself\u001b[39m.commit(t, \u001b[38;5;28;01mNone\u001b[39;00m)\n\u001b[32m    313\u001b[39m \u001b[38;5;28;01mexcept\u001b[39;00m \u001b[38;5;167;01mException\u001b[39;00m \u001b[38;5;28;01mas\u001b[39;00m exc:\n",
      "\u001b[36mFile \u001b[39m\u001b[32mc:\\Users\\kamalmo\\Desktop\\AI\\InboundLogisticSystem\\MultiAgentInboundLogistic\\.venv\\Lib\\site-packages\\langgraph\\pregel\\_retry.py:137\u001b[39m, in \u001b[36marun_with_retry\u001b[39m\u001b[34m(task, retry_policy, stream, match_cached_writes, configurable)\u001b[39m\n\u001b[32m    135\u001b[39m         \u001b[38;5;28;01mbreak\u001b[39;00m\n\u001b[32m    136\u001b[39m     \u001b[38;5;28;01melse\u001b[39;00m:\n\u001b[32m--> \u001b[39m\u001b[32m137\u001b[39m         \u001b[38;5;28;01mreturn\u001b[39;00m \u001b[38;5;28;01mawait\u001b[39;00m task.proc.ainvoke(task.input, config)\n\u001b[32m    138\u001b[39m \u001b[38;5;28;01mexcept\u001b[39;00m ParentCommand \u001b[38;5;28;01mas\u001b[39;00m exc:\n\u001b[32m    139\u001b[39m     ns: \u001b[38;5;28mstr\u001b[39m = config[CONF][CONFIG_KEY_CHECKPOINT_NS]\n",
      "\u001b[36mFile \u001b[39m\u001b[32mc:\\Users\\kamalmo\\Desktop\\AI\\InboundLogisticSystem\\MultiAgentInboundLogistic\\.venv\\Lib\\site-packages\\langgraph\\_internal\\_runnable.py:706\u001b[39m, in \u001b[36mRunnableSeq.ainvoke\u001b[39m\u001b[34m(self, input, config, **kwargs)\u001b[39m\n\u001b[32m    704\u001b[39m     \u001b[38;5;66;03m# run in context\u001b[39;00m\n\u001b[32m    705\u001b[39m     \u001b[38;5;28;01mwith\u001b[39;00m set_config_context(config, run) \u001b[38;5;28;01mas\u001b[39;00m context:\n\u001b[32m--> \u001b[39m\u001b[32m706\u001b[39m         \u001b[38;5;28minput\u001b[39m = \u001b[38;5;28;01mawait\u001b[39;00m asyncio.create_task(\n\u001b[32m    707\u001b[39m             step.ainvoke(\u001b[38;5;28minput\u001b[39m, config, **kwargs), context=context\n\u001b[32m    708\u001b[39m         )\n\u001b[32m    709\u001b[39m \u001b[38;5;28;01melse\u001b[39;00m:\n\u001b[32m    710\u001b[39m     \u001b[38;5;28minput\u001b[39m = \u001b[38;5;28;01mawait\u001b[39;00m step.ainvoke(\u001b[38;5;28minput\u001b[39m, config, **kwargs)\n",
      "\u001b[36mFile \u001b[39m\u001b[32mc:\\Users\\kamalmo\\Desktop\\AI\\InboundLogisticSystem\\MultiAgentInboundLogistic\\.venv\\Lib\\site-packages\\langgraph\\_internal\\_runnable.py:474\u001b[39m, in \u001b[36mRunnableCallable.ainvoke\u001b[39m\u001b[34m(self, input, config, **kwargs)\u001b[39m\n\u001b[32m    472\u001b[39m         \u001b[38;5;28;01mawait\u001b[39;00m run_manager.on_chain_end(ret)\n\u001b[32m    473\u001b[39m \u001b[38;5;28;01melse\u001b[39;00m:\n\u001b[32m--> \u001b[39m\u001b[32m474\u001b[39m     ret = \u001b[38;5;28;01mawait\u001b[39;00m \u001b[38;5;28mself\u001b[39m.afunc(*args, **kwargs)\n\u001b[32m    475\u001b[39m \u001b[38;5;28;01mif\u001b[39;00m \u001b[38;5;28mself\u001b[39m.recurse \u001b[38;5;129;01mand\u001b[39;00m \u001b[38;5;28misinstance\u001b[39m(ret, Runnable):\n\u001b[32m    476\u001b[39m     \u001b[38;5;28;01mreturn\u001b[39;00m \u001b[38;5;28;01mawait\u001b[39;00m ret.ainvoke(\u001b[38;5;28minput\u001b[39m, config)\n",
      "\u001b[36mFile \u001b[39m\u001b[32mc:\\Users\\kamalmo\\Desktop\\AI\\InboundLogisticSystem\\MultiAgentInboundLogistic\\notebooks\\..\\src\\logistics_agent.py:162\u001b[39m, in \u001b[36mCommitLogisticsTransaction\u001b[39m\u001b[34m(state)\u001b[39m\n\u001b[32m    160\u001b[39m \u001b[38;5;66;03m# Get available tools from MCP server\u001b[39;00m\n\u001b[32m    161\u001b[39m client = get_mcp_client()\n\u001b[32m--> \u001b[39m\u001b[32m162\u001b[39m tools = \u001b[38;5;28;01mawait\u001b[39;00m client.get_tools()\n\u001b[32m    163\u001b[39m tools_by_name = {tool.name: tool \u001b[38;5;28;01mfor\u001b[39;00m tool \u001b[38;5;129;01min\u001b[39;00m tools}\n\u001b[32m    165\u001b[39m \u001b[38;5;66;03m# Get the update database tool\u001b[39;00m\n",
      "\u001b[36mFile \u001b[39m\u001b[32mc:\\Users\\kamalmo\\Desktop\\AI\\InboundLogisticSystem\\MultiAgentInboundLogistic\\.venv\\Lib\\site-packages\\langchain_mcp_adapters\\client.py:142\u001b[39m, in \u001b[36mMultiServerMCPClient.get_tools\u001b[39m\u001b[34m(self, server_name)\u001b[39m\n\u001b[32m    140\u001b[39m     load_mcp_tool_task = asyncio.create_task(load_mcp_tools(\u001b[38;5;28;01mNone\u001b[39;00m, connection=connection))\n\u001b[32m    141\u001b[39m     load_mcp_tool_tasks.append(load_mcp_tool_task)\n\u001b[32m--> \u001b[39m\u001b[32m142\u001b[39m tools_list = \u001b[38;5;28;01mawait\u001b[39;00m asyncio.gather(*load_mcp_tool_tasks)\n\u001b[32m    143\u001b[39m \u001b[38;5;28;01mfor\u001b[39;00m tools \u001b[38;5;129;01min\u001b[39;00m tools_list:\n\u001b[32m    144\u001b[39m     all_tools.extend(tools)\n",
      "\u001b[36mFile \u001b[39m\u001b[32mc:\\Users\\kamalmo\\Desktop\\AI\\InboundLogisticSystem\\MultiAgentInboundLogistic\\.venv\\Lib\\site-packages\\langchain_mcp_adapters\\tools.py:168\u001b[39m, in \u001b[36mload_mcp_tools\u001b[39m\u001b[34m(session, connection)\u001b[39m\n\u001b[32m    164\u001b[39m     \u001b[38;5;28;01mraise\u001b[39;00m \u001b[38;5;167;01mValueError\u001b[39;00m(msg)\n\u001b[32m    166\u001b[39m \u001b[38;5;28;01mif\u001b[39;00m session \u001b[38;5;129;01mis\u001b[39;00m \u001b[38;5;28;01mNone\u001b[39;00m:\n\u001b[32m    167\u001b[39m     \u001b[38;5;66;03m# If a session is not provided, we will create one on the fly\u001b[39;00m\n\u001b[32m--> \u001b[39m\u001b[32m168\u001b[39m     \u001b[38;5;28;01masync\u001b[39;00m \u001b[38;5;28;01mwith\u001b[39;00m create_session(connection) \u001b[38;5;28;01mas\u001b[39;00m tool_session:\n\u001b[32m    169\u001b[39m         \u001b[38;5;28;01mawait\u001b[39;00m tool_session.initialize()\n\u001b[32m    170\u001b[39m         tools = \u001b[38;5;28;01mawait\u001b[39;00m _list_all_tools(tool_session)\n",
      "\u001b[36mFile \u001b[39m\u001b[32m~\\AppData\\Local\\anaconda3\\Lib\\contextlib.py:210\u001b[39m, in \u001b[36m_AsyncGeneratorContextManager.__aenter__\u001b[39m\u001b[34m(self)\u001b[39m\n\u001b[32m    208\u001b[39m \u001b[38;5;28;01mdel\u001b[39;00m \u001b[38;5;28mself\u001b[39m.args, \u001b[38;5;28mself\u001b[39m.kwds, \u001b[38;5;28mself\u001b[39m.func\n\u001b[32m    209\u001b[39m \u001b[38;5;28;01mtry\u001b[39;00m:\n\u001b[32m--> \u001b[39m\u001b[32m210\u001b[39m     \u001b[38;5;28;01mreturn\u001b[39;00m \u001b[38;5;28;01mawait\u001b[39;00m anext(\u001b[38;5;28mself\u001b[39m.gen)\n\u001b[32m    211\u001b[39m \u001b[38;5;28;01mexcept\u001b[39;00m \u001b[38;5;167;01mStopAsyncIteration\u001b[39;00m:\n\u001b[32m    212\u001b[39m     \u001b[38;5;28;01mraise\u001b[39;00m \u001b[38;5;167;01mRuntimeError\u001b[39;00m(\u001b[33m\"\u001b[39m\u001b[33mgenerator didn\u001b[39m\u001b[33m'\u001b[39m\u001b[33mt yield\u001b[39m\u001b[33m\"\u001b[39m) \u001b[38;5;28;01mfrom\u001b[39;00m\u001b[38;5;250m \u001b[39m\u001b[38;5;28;01mNone\u001b[39;00m\n",
      "\u001b[36mFile \u001b[39m\u001b[32mc:\\Users\\kamalmo\\Desktop\\AI\\InboundLogisticSystem\\MultiAgentInboundLogistic\\.venv\\Lib\\site-packages\\langchain_mcp_adapters\\sessions.py:394\u001b[39m, in \u001b[36mcreate_session\u001b[39m\u001b[34m(connection)\u001b[39m\n\u001b[32m    392\u001b[39m         msg = \u001b[33m\"\u001b[39m\u001b[33m'\u001b[39m\u001b[33margs\u001b[39m\u001b[33m'\u001b[39m\u001b[33m parameter is required for stdio connection\u001b[39m\u001b[33m\"\u001b[39m\n\u001b[32m    393\u001b[39m         \u001b[38;5;28;01mraise\u001b[39;00m \u001b[38;5;167;01mValueError\u001b[39;00m(msg)\n\u001b[32m--> \u001b[39m\u001b[32m394\u001b[39m     \u001b[38;5;28;01masync\u001b[39;00m \u001b[38;5;28;01mwith\u001b[39;00m _create_stdio_session(**params) \u001b[38;5;28;01mas\u001b[39;00m session:\n\u001b[32m    395\u001b[39m         \u001b[38;5;28;01myield\u001b[39;00m session\n\u001b[32m    396\u001b[39m \u001b[38;5;28;01melif\u001b[39;00m transport == \u001b[33m\"\u001b[39m\u001b[33mwebsocket\u001b[39m\u001b[33m\"\u001b[39m:\n",
      "\u001b[36mFile \u001b[39m\u001b[32m~\\AppData\\Local\\anaconda3\\Lib\\contextlib.py:210\u001b[39m, in \u001b[36m_AsyncGeneratorContextManager.__aenter__\u001b[39m\u001b[34m(self)\u001b[39m\n\u001b[32m    208\u001b[39m \u001b[38;5;28;01mdel\u001b[39;00m \u001b[38;5;28mself\u001b[39m.args, \u001b[38;5;28mself\u001b[39m.kwds, \u001b[38;5;28mself\u001b[39m.func\n\u001b[32m    209\u001b[39m \u001b[38;5;28;01mtry\u001b[39;00m:\n\u001b[32m--> \u001b[39m\u001b[32m210\u001b[39m     \u001b[38;5;28;01mreturn\u001b[39;00m \u001b[38;5;28;01mawait\u001b[39;00m anext(\u001b[38;5;28mself\u001b[39m.gen)\n\u001b[32m    211\u001b[39m \u001b[38;5;28;01mexcept\u001b[39;00m \u001b[38;5;167;01mStopAsyncIteration\u001b[39;00m:\n\u001b[32m    212\u001b[39m     \u001b[38;5;28;01mraise\u001b[39;00m \u001b[38;5;167;01mRuntimeError\u001b[39;00m(\u001b[33m\"\u001b[39m\u001b[33mgenerator didn\u001b[39m\u001b[33m'\u001b[39m\u001b[33mt yield\u001b[39m\u001b[33m\"\u001b[39m) \u001b[38;5;28;01mfrom\u001b[39;00m\u001b[38;5;250m \u001b[39m\u001b[38;5;28;01mNone\u001b[39;00m\n",
      "\u001b[36mFile \u001b[39m\u001b[32mc:\\Users\\kamalmo\\Desktop\\AI\\InboundLogisticSystem\\MultiAgentInboundLogistic\\.venv\\Lib\\site-packages\\langchain_mcp_adapters\\sessions.py:221\u001b[39m, in \u001b[36m_create_stdio_session\u001b[39m\u001b[34m(command, args, env, cwd, encoding, encoding_error_handler, session_kwargs)\u001b[39m\n\u001b[32m    210\u001b[39m server_params = StdioServerParameters(\n\u001b[32m    211\u001b[39m     command=command,\n\u001b[32m    212\u001b[39m     args=args,\n\u001b[32m   (...)\u001b[39m\u001b[32m    216\u001b[39m     encoding_error_handler=encoding_error_handler,\n\u001b[32m    217\u001b[39m )\n\u001b[32m    219\u001b[39m \u001b[38;5;66;03m# Create and store the connection\u001b[39;00m\n\u001b[32m    220\u001b[39m \u001b[38;5;28;01masync\u001b[39;00m \u001b[38;5;28;01mwith\u001b[39;00m (\n\u001b[32m--> \u001b[39m\u001b[32m221\u001b[39m     stdio_client(server_params) \u001b[38;5;28;01mas\u001b[39;00m (read, write),\n\u001b[32m    222\u001b[39m     ClientSession(read, write, **(session_kwargs \u001b[38;5;129;01mor\u001b[39;00m {})) \u001b[38;5;28;01mas\u001b[39;00m session,\n\u001b[32m    223\u001b[39m ):\n\u001b[32m    224\u001b[39m     \u001b[38;5;28;01myield\u001b[39;00m session\n",
      "\u001b[36mFile \u001b[39m\u001b[32m~\\AppData\\Local\\anaconda3\\Lib\\contextlib.py:210\u001b[39m, in \u001b[36m_AsyncGeneratorContextManager.__aenter__\u001b[39m\u001b[34m(self)\u001b[39m\n\u001b[32m    208\u001b[39m \u001b[38;5;28;01mdel\u001b[39;00m \u001b[38;5;28mself\u001b[39m.args, \u001b[38;5;28mself\u001b[39m.kwds, \u001b[38;5;28mself\u001b[39m.func\n\u001b[32m    209\u001b[39m \u001b[38;5;28;01mtry\u001b[39;00m:\n\u001b[32m--> \u001b[39m\u001b[32m210\u001b[39m     \u001b[38;5;28;01mreturn\u001b[39;00m \u001b[38;5;28;01mawait\u001b[39;00m anext(\u001b[38;5;28mself\u001b[39m.gen)\n\u001b[32m    211\u001b[39m \u001b[38;5;28;01mexcept\u001b[39;00m \u001b[38;5;167;01mStopAsyncIteration\u001b[39;00m:\n\u001b[32m    212\u001b[39m     \u001b[38;5;28;01mraise\u001b[39;00m \u001b[38;5;167;01mRuntimeError\u001b[39;00m(\u001b[33m\"\u001b[39m\u001b[33mgenerator didn\u001b[39m\u001b[33m'\u001b[39m\u001b[33mt yield\u001b[39m\u001b[33m\"\u001b[39m) \u001b[38;5;28;01mfrom\u001b[39;00m\u001b[38;5;250m \u001b[39m\u001b[38;5;28;01mNone\u001b[39;00m\n",
      "\u001b[36mFile \u001b[39m\u001b[32mc:\\Users\\kamalmo\\Desktop\\AI\\InboundLogisticSystem\\MultiAgentInboundLogistic\\.venv\\Lib\\site-packages\\mcp\\client\\stdio\\__init__.py:124\u001b[39m, in \u001b[36mstdio_client\u001b[39m\u001b[34m(server, errlog)\u001b[39m\n\u001b[32m    121\u001b[39m     command = _get_executable_command(server.command)\n\u001b[32m    123\u001b[39m     \u001b[38;5;66;03m# Open process with stderr piped for capture\u001b[39;00m\n\u001b[32m--> \u001b[39m\u001b[32m124\u001b[39m     process = \u001b[38;5;28;01mawait\u001b[39;00m _create_platform_compatible_process(\n\u001b[32m    125\u001b[39m         command=command,\n\u001b[32m    126\u001b[39m         args=server.args,\n\u001b[32m    127\u001b[39m         env=({**get_default_environment(), **server.env} \u001b[38;5;28;01mif\u001b[39;00m server.env \u001b[38;5;129;01mis\u001b[39;00m \u001b[38;5;129;01mnot\u001b[39;00m \u001b[38;5;28;01mNone\u001b[39;00m \u001b[38;5;28;01melse\u001b[39;00m get_default_environment()),\n\u001b[32m    128\u001b[39m         errlog=errlog,\n\u001b[32m    129\u001b[39m         cwd=server.cwd,\n\u001b[32m    130\u001b[39m     )\n\u001b[32m    131\u001b[39m \u001b[38;5;28;01mexcept\u001b[39;00m \u001b[38;5;167;01mOSError\u001b[39;00m:\n\u001b[32m    132\u001b[39m     \u001b[38;5;66;03m# Clean up streams if process creation fails\u001b[39;00m\n\u001b[32m    133\u001b[39m     \u001b[38;5;28;01mawait\u001b[39;00m read_stream.aclose()\n",
      "\u001b[36mFile \u001b[39m\u001b[32mc:\\Users\\kamalmo\\Desktop\\AI\\InboundLogisticSystem\\MultiAgentInboundLogistic\\.venv\\Lib\\site-packages\\mcp\\client\\stdio\\__init__.py:248\u001b[39m, in \u001b[36m_create_platform_compatible_process\u001b[39m\u001b[34m(command, args, env, errlog, cwd)\u001b[39m\n\u001b[32m    241\u001b[39m \u001b[38;5;250m\u001b[39m\u001b[33;03m\"\"\"\u001b[39;00m\n\u001b[32m    242\u001b[39m \u001b[33;03mCreates a subprocess in a platform-compatible way.\u001b[39;00m\n\u001b[32m    243\u001b[39m \n\u001b[32m    244\u001b[39m \u001b[33;03mUnix: Creates process in a new session/process group for killpg support\u001b[39;00m\n\u001b[32m    245\u001b[39m \u001b[33;03mWindows: Creates process in a Job Object for reliable child termination\u001b[39;00m\n\u001b[32m    246\u001b[39m \u001b[33;03m\"\"\"\u001b[39;00m\n\u001b[32m    247\u001b[39m \u001b[38;5;28;01mif\u001b[39;00m sys.platform == \u001b[33m\"\u001b[39m\u001b[33mwin32\u001b[39m\u001b[33m\"\u001b[39m:\n\u001b[32m--> \u001b[39m\u001b[32m248\u001b[39m     process = \u001b[38;5;28;01mawait\u001b[39;00m create_windows_process(command, args, env, errlog, cwd)\n\u001b[32m    249\u001b[39m \u001b[38;5;28;01melse\u001b[39;00m:\n\u001b[32m    250\u001b[39m     process = \u001b[38;5;28;01mawait\u001b[39;00m anyio.open_process(\n\u001b[32m    251\u001b[39m         [command, *args],\n\u001b[32m    252\u001b[39m         env=env,\n\u001b[32m   (...)\u001b[39m\u001b[32m    255\u001b[39m         start_new_session=\u001b[38;5;28;01mTrue\u001b[39;00m,\n\u001b[32m    256\u001b[39m     )\n",
      "\u001b[36mFile \u001b[39m\u001b[32mc:\\Users\\kamalmo\\Desktop\\AI\\InboundLogisticSystem\\MultiAgentInboundLogistic\\.venv\\Lib\\site-packages\\mcp\\os\\win32\\utilities.py:181\u001b[39m, in \u001b[36mcreate_windows_process\u001b[39m\u001b[34m(command, args, env, errlog, cwd)\u001b[39m\n\u001b[32m    169\u001b[39m     process = \u001b[38;5;28;01mawait\u001b[39;00m anyio.open_process(\n\u001b[32m    170\u001b[39m         [command, *args],\n\u001b[32m    171\u001b[39m         env=env,\n\u001b[32m   (...)\u001b[39m\u001b[32m    177\u001b[39m         cwd=cwd,\n\u001b[32m    178\u001b[39m     )\n\u001b[32m    179\u001b[39m \u001b[38;5;28;01mexcept\u001b[39;00m \u001b[38;5;167;01mNotImplementedError\u001b[39;00m:\n\u001b[32m    180\u001b[39m     \u001b[38;5;66;03m# If Windows doesn't support async subprocess creation, use fallback\u001b[39;00m\n\u001b[32m--> \u001b[39m\u001b[32m181\u001b[39m     process = \u001b[38;5;28;01mawait\u001b[39;00m _create_windows_fallback_process(command, args, env, errlog, cwd)\n\u001b[32m    182\u001b[39m \u001b[38;5;28;01mexcept\u001b[39;00m \u001b[38;5;167;01mException\u001b[39;00m:\n\u001b[32m    183\u001b[39m     \u001b[38;5;66;03m# Try again without creation flags\u001b[39;00m\n\u001b[32m    184\u001b[39m     process = \u001b[38;5;28;01mawait\u001b[39;00m anyio.open_process(\n\u001b[32m    185\u001b[39m         [command, *args],\n\u001b[32m    186\u001b[39m         env=env,\n\u001b[32m    187\u001b[39m         stderr=errlog,\n\u001b[32m    188\u001b[39m         cwd=cwd,\n\u001b[32m    189\u001b[39m     )\n",
      "\u001b[36mFile \u001b[39m\u001b[32mc:\\Users\\kamalmo\\Desktop\\AI\\InboundLogisticSystem\\MultiAgentInboundLogistic\\.venv\\Lib\\site-packages\\mcp\\os\\win32\\utilities.py:221\u001b[39m, in \u001b[36m_create_windows_fallback_process\u001b[39m\u001b[34m(command, args, env, errlog, cwd)\u001b[39m\n\u001b[32m    209\u001b[39m     popen_obj = subprocess.Popen(\n\u001b[32m    210\u001b[39m         [command, *args],\n\u001b[32m    211\u001b[39m         stdin=subprocess.PIPE,\n\u001b[32m   (...)\u001b[39m\u001b[32m    217\u001b[39m         creationflags=\u001b[38;5;28mgetattr\u001b[39m(subprocess, \u001b[33m\"\u001b[39m\u001b[33mCREATE_NO_WINDOW\u001b[39m\u001b[33m\"\u001b[39m, \u001b[32m0\u001b[39m),\n\u001b[32m    218\u001b[39m     )\n\u001b[32m    219\u001b[39m \u001b[38;5;28;01mexcept\u001b[39;00m \u001b[38;5;167;01mException\u001b[39;00m:\n\u001b[32m    220\u001b[39m     \u001b[38;5;66;03m# If creationflags failed, fallback without them\u001b[39;00m\n\u001b[32m--> \u001b[39m\u001b[32m221\u001b[39m     popen_obj = \u001b[43msubprocess\u001b[49m\u001b[43m.\u001b[49m\u001b[43mPopen\u001b[49m\u001b[43m(\u001b[49m\n\u001b[32m    222\u001b[39m \u001b[43m        \u001b[49m\u001b[43m[\u001b[49m\u001b[43mcommand\u001b[49m\u001b[43m,\u001b[49m\u001b[43m \u001b[49m\u001b[43m*\u001b[49m\u001b[43margs\u001b[49m\u001b[43m]\u001b[49m\u001b[43m,\u001b[49m\n\u001b[32m    223\u001b[39m \u001b[43m        \u001b[49m\u001b[43mstdin\u001b[49m\u001b[43m=\u001b[49m\u001b[43msubprocess\u001b[49m\u001b[43m.\u001b[49m\u001b[43mPIPE\u001b[49m\u001b[43m,\u001b[49m\n\u001b[32m    224\u001b[39m \u001b[43m        \u001b[49m\u001b[43mstdout\u001b[49m\u001b[43m=\u001b[49m\u001b[43msubprocess\u001b[49m\u001b[43m.\u001b[49m\u001b[43mPIPE\u001b[49m\u001b[43m,\u001b[49m\n\u001b[32m    225\u001b[39m \u001b[43m        \u001b[49m\u001b[43mstderr\u001b[49m\u001b[43m=\u001b[49m\u001b[43merrlog\u001b[49m\u001b[43m,\u001b[49m\n\u001b[32m    226\u001b[39m \u001b[43m        \u001b[49m\u001b[43menv\u001b[49m\u001b[43m=\u001b[49m\u001b[43menv\u001b[49m\u001b[43m,\u001b[49m\n\u001b[32m    227\u001b[39m \u001b[43m        \u001b[49m\u001b[43mcwd\u001b[49m\u001b[43m=\u001b[49m\u001b[43mcwd\u001b[49m\u001b[43m,\u001b[49m\n\u001b[32m    228\u001b[39m \u001b[43m        \u001b[49m\u001b[43mbufsize\u001b[49m\u001b[43m=\u001b[49m\u001b[32;43m0\u001b[39;49m\u001b[43m,\u001b[49m\n\u001b[32m    229\u001b[39m \u001b[43m    \u001b[49m\u001b[43m)\u001b[49m\n\u001b[32m    230\u001b[39m \u001b[38;5;28;01mreturn\u001b[39;00m FallbackProcess(popen_obj)\n",
      "\u001b[36mFile \u001b[39m\u001b[32m~\\AppData\\Local\\anaconda3\\Lib\\subprocess.py:992\u001b[39m, in \u001b[36mPopen.__init__\u001b[39m\u001b[34m(self, args, bufsize, executable, stdin, stdout, stderr, preexec_fn, close_fds, shell, cwd, env, universal_newlines, startupinfo, creationflags, restore_signals, start_new_session, pass_fds, user, group, extra_groups, encoding, errors, text, umask, pipesize, process_group)\u001b[39m\n\u001b[32m    973\u001b[39m         \u001b[38;5;28;01mraise\u001b[39;00m \u001b[38;5;167;01mValueError\u001b[39;00m(\u001b[33mf\u001b[39m\u001b[33m\"\u001b[39m\u001b[33mUser ID cannot be negative, got \u001b[39m\u001b[38;5;132;01m{\u001b[39;00muid\u001b[38;5;132;01m}\u001b[39;00m\u001b[33m\"\u001b[39m)\n\u001b[32m    975\u001b[39m \u001b[38;5;66;03m# Input and output objects. The general principle is like\u001b[39;00m\n\u001b[32m    976\u001b[39m \u001b[38;5;66;03m# this:\u001b[39;00m\n\u001b[32m    977\u001b[39m \u001b[38;5;66;03m#\u001b[39;00m\n\u001b[32m   (...)\u001b[39m\u001b[32m    987\u001b[39m \u001b[38;5;66;03m# are -1 when not using PIPEs. The child objects are -1\u001b[39;00m\n\u001b[32m    988\u001b[39m \u001b[38;5;66;03m# when not redirecting.\u001b[39;00m\n\u001b[32m    990\u001b[39m (p2cread, p2cwrite,\n\u001b[32m    991\u001b[39m  c2pread, c2pwrite,\n\u001b[32m--> \u001b[39m\u001b[32m992\u001b[39m  errread, errwrite) = \u001b[38;5;28;43mself\u001b[39;49m\u001b[43m.\u001b[49m\u001b[43m_get_handles\u001b[49m\u001b[43m(\u001b[49m\u001b[43mstdin\u001b[49m\u001b[43m,\u001b[49m\u001b[43m \u001b[49m\u001b[43mstdout\u001b[49m\u001b[43m,\u001b[49m\u001b[43m \u001b[49m\u001b[43mstderr\u001b[49m\u001b[43m)\u001b[49m\n\u001b[32m    994\u001b[39m \u001b[38;5;66;03m# From here on, raising exceptions may cause file descriptor leakage\u001b[39;00m\n\u001b[32m    995\u001b[39m \n\u001b[32m    996\u001b[39m \u001b[38;5;66;03m# We wrap OS handles *before* launching the child, otherwise a\u001b[39;00m\n\u001b[32m    997\u001b[39m \u001b[38;5;66;03m# quickly terminating child could make our fds unwrappable\u001b[39;00m\n\u001b[32m    998\u001b[39m \u001b[38;5;66;03m# (see #8458).\u001b[39;00m\n\u001b[32m   1000\u001b[39m \u001b[38;5;28;01mif\u001b[39;00m _mswindows:\n",
      "\u001b[36mFile \u001b[39m\u001b[32m~\\AppData\\Local\\anaconda3\\Lib\\subprocess.py:1406\u001b[39m, in \u001b[36mPopen._get_handles\u001b[39m\u001b[34m(self, stdin, stdout, stderr)\u001b[39m\n\u001b[32m   1403\u001b[39m         errwrite = msvcrt.get_osfhandle(stderr)\n\u001b[32m   1404\u001b[39m     \u001b[38;5;28;01melse\u001b[39;00m:\n\u001b[32m   1405\u001b[39m         \u001b[38;5;66;03m# Assuming file-like object\u001b[39;00m\n\u001b[32m-> \u001b[39m\u001b[32m1406\u001b[39m         errwrite = msvcrt.get_osfhandle(\u001b[43mstderr\u001b[49m\u001b[43m.\u001b[49m\u001b[43mfileno\u001b[49m\u001b[43m(\u001b[49m\u001b[43m)\u001b[49m)\n\u001b[32m   1407\u001b[39m     errwrite = \u001b[38;5;28mself\u001b[39m._make_inheritable(errwrite)\n\u001b[32m   1409\u001b[39m \u001b[38;5;28;01mreturn\u001b[39;00m (p2cread, p2cwrite,\n\u001b[32m   1410\u001b[39m         c2pread, c2pwrite,\n\u001b[32m   1411\u001b[39m         errread, errwrite)\n",
      "\u001b[36mFile \u001b[39m\u001b[32mc:\\Users\\kamalmo\\Desktop\\AI\\InboundLogisticSystem\\MultiAgentInboundLogistic\\.venv\\Lib\\site-packages\\ipykernel\\iostream.py:371\u001b[39m, in \u001b[36mOutStream.fileno\u001b[39m\u001b[34m(self)\u001b[39m\n\u001b[32m    369\u001b[39m     \u001b[38;5;28;01mreturn\u001b[39;00m \u001b[38;5;28mself\u001b[39m._original_stdstream_copy\n\u001b[32m    370\u001b[39m msg = \u001b[33m\"\u001b[39m\u001b[33mfileno\u001b[39m\u001b[33m\"\u001b[39m\n\u001b[32m--> \u001b[39m\u001b[32m371\u001b[39m \u001b[38;5;28;01mraise\u001b[39;00m io.UnsupportedOperation(msg)\n",
      "\u001b[31mUnsupportedOperation\u001b[39m: fileno",
      "During task with name 'CommitLogisticsTransaction' and id '441e156b-6ea5-770d-4f1c-d0b46233924d'"
     ]
    }
   ],
   "source": [
    "message = \"Well the AWB/BL is 12345, Shipment Mode Air and AWB/BL Date is 2025-09-30. skip the optional fields. I am confirming\"\n",
    "result = await LogisticsAgent.ainvoke({\"agent_brief\" : message,\n",
    "                                       \"messages\":[HumanMessage(content=message)]} , config=thread)\n",
    "format_message(result[\"messages\"])"
   ]
  }
 ],
 "metadata": {
  "kernelspec": {
   "display_name": "MultiAgentInboundLogistic",
   "language": "python",
   "name": "python3"
  },
  "language_info": {
   "codemirror_mode": {
    "name": "ipython",
    "version": 3
   },
   "file_extension": ".py",
   "mimetype": "text/x-python",
   "name": "python",
   "nbconvert_exporter": "python",
   "pygments_lexer": "ipython3",
   "version": "3.12.7"
  }
 },
 "nbformat": 4,
 "nbformat_minor": 5
}
