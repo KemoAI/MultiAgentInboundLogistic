{
 "cells": [
  {
   "cell_type": "code",
   "execution_count": 1,
   "id": "14d4611c",
   "metadata": {},
   "outputs": [],
   "source": [
    "# Load environment variables and set up auto-reload\n",
    "from dotenv import load_dotenv\n",
    "load_dotenv()\n",
    "\n",
    "%load_ext autoreload\n",
    "%autoreload"
   ]
  },
  {
   "cell_type": "code",
   "execution_count": 2,
   "id": "e6b14e85",
   "metadata": {},
   "outputs": [],
   "source": [
    "import sys\n",
    "sys.path.append('../')"
   ]
  },
  {
   "cell_type": "code",
   "execution_count": 3,
   "id": "ac1a6ab0",
   "metadata": {},
   "outputs": [
    {
     "name": "stderr",
     "output_type": "stream",
     "text": [
      "c:\\Users\\kamalmo\\Desktop\\AI\\InboundLogisticSystem\\MultiAgentInboundLogistic\\.venv\\Lib\\site-packages\\tqdm\\auto.py:21: TqdmWarning: IProgress not found. Please update jupyter and ipywidgets. See https://ipywidgets.readthedocs.io/en/stable/user_install.html\n",
      "  from .autonotebook import tqdm as notebook_tqdm\n",
      "None of PyTorch, TensorFlow >= 2.0, or Flax have been found. Models won't be available and only tokenizers, configuration and file/data utilities can be used.\n"
     ]
    },
    {
     "data": {
      "text/html": [
       "<pre style=\"white-space:pre;overflow-x:auto;line-height:normal;font-family:Menlo,'DejaVu Sans Mono',consolas,'Courier New',monospace\"><span style=\"color: #000080; text-decoration-color: #000080\">╭─────────────────────────────────── </span><span style=\"color: #008000; text-decoration-color: #008000; font-weight: bold\">supervisor_decision_to_route_to_subagents</span><span style=\"color: #000080; text-decoration-color: #000080\"> ───────────────────────────────────╮</span>\n",
       "<span style=\"color: #000080; text-decoration-color: #000080\">│</span>                                                                                                                 <span style=\"color: #000080; text-decoration-color: #000080\">│</span>\n",
       "<span style=\"color: #000080; text-decoration-color: #000080\">│</span>                                                                                                                 <span style=\"color: #000080; text-decoration-color: #000080\">│</span>\n",
       "<span style=\"color: #000080; text-decoration-color: #000080\">│</span>  These are the inbound logistics Data received so far:                                                          <span style=\"color: #000080; text-decoration-color: #000080\">│</span>\n",
       "<span style=\"color: #000080; text-decoration-color: #000080\">│</span>  <span style=\"color: #000080; text-decoration-color: #000080; font-weight: bold\">&lt;message&gt;</span>                                                                                                      <span style=\"color: #000080; text-decoration-color: #000080\">│</span>\n",
       "<span style=\"color: #000080; text-decoration-color: #000080\">│</span>  {message}                                                                                                      <span style=\"color: #000080; text-decoration-color: #000080\">│</span>\n",
       "<span style=\"color: #000080; text-decoration-color: #000080\">│</span>  <span style=\"color: #000080; text-decoration-color: #000080; font-weight: bold\">&lt;/message&gt;</span>                                                                                                     <span style=\"color: #000080; text-decoration-color: #000080\">│</span>\n",
       "<span style=\"color: #000080; text-decoration-color: #000080\">│</span>                                                                                                                 <span style=\"color: #000080; text-decoration-color: #000080\">│</span>\n",
       "<span style=\"color: #000080; text-decoration-color: #000080\">│</span>  Today's date is {date}.                                                                                        <span style=\"color: #000080; text-decoration-color: #000080\">│</span>\n",
       "<span style=\"color: #000080; text-decoration-color: #000080\">│</span>                                                                                                                 <span style=\"color: #000080; text-decoration-color: #000080\">│</span>\n",
       "<span style=\"color: #000080; text-decoration-color: #000080\">│</span>  Your role is to act as the Supervisor Agent in the Inbound Logistics system.                                   <span style=\"color: #000080; text-decoration-color: #000080\">│</span>\n",
       "<span style=\"color: #000080; text-decoration-color: #000080\">│</span>  Your responsibilities are:                                                                                     <span style=\"color: #000080; text-decoration-color: #000080\">│</span>\n",
       "<span style=\"color: #000080; text-decoration-color: #000080\">│</span>  1. Assess the data provided by the user.                                                                       <span style=\"color: #000080; text-decoration-color: #000080\">│</span>\n",
       "<span style=\"color: #000080; text-decoration-color: #000080\">│</span>  2. Decide whether the task should be delegated to:                                                             <span style=\"color: #000080; text-decoration-color: #000080\">│</span>\n",
       "<span style=\"color: #000080; text-decoration-color: #000080\">│</span>     - `logistics_agent` → if the request relates to the following fields: {logistics_fields}. **Ensure any      <span style=\"color: #000080; text-decoration-color: #000080\">│</span>\n",
       "<span style=\"color: #000080; text-decoration-color: #000080\">│</span>  provided data adheres to their `dataType` and `seededValues`, if provided.**                                   <span style=\"color: #000080; text-decoration-color: #000080\">│</span>\n",
       "<span style=\"color: #000080; text-decoration-color: #000080\">│</span>     - `forwarder_agent` → if the request relates to the following fields: {forwarder_fields}. **Ensure any      <span style=\"color: #000080; text-decoration-color: #000080\">│</span>\n",
       "<span style=\"color: #000080; text-decoration-color: #000080\">│</span>  provided data adheres to their `dataType` and `seededValues`, if provided.**                                   <span style=\"color: #000080; text-decoration-color: #000080\">│</span>\n",
       "<span style=\"color: #000080; text-decoration-color: #000080\">│</span>  3. If the request is ambiguous or missing critical details, ask the user a **clarifying question** before      <span style=\"color: #000080; text-decoration-color: #000080\">│</span>\n",
       "<span style=\"color: #000080; text-decoration-color: #000080\">│</span>  assigning the task.                                                                                            <span style=\"color: #000080; text-decoration-color: #000080\">│</span>\n",
       "<span style=\"color: #000080; text-decoration-color: #000080\">│</span>  4. **Do not enforce field entry yourself — instead, delegate field-specific responsibilities to the            <span style=\"color: #000080; text-decoration-color: #000080\">│</span>\n",
       "<span style=\"color: #000080; text-decoration-color: #000080\">│</span>  appropriate sub-agent (`logistics_agent` or `forwarder_agent`) based on {logistics_fields} and                 <span style=\"color: #000080; text-decoration-color: #000080\">│</span>\n",
       "<span style=\"color: #000080; text-decoration-color: #000080\">│</span>  {forwarder_fields}.**                                                                                          <span style=\"color: #000080; text-decoration-color: #000080\">│</span>\n",
       "<span style=\"color: #000080; text-decoration-color: #000080\">│</span>                                                                                                                 <span style=\"color: #000080; text-decoration-color: #000080\">│</span>\n",
       "<span style=\"color: #000080; text-decoration-color: #000080\">│</span>  Guidelines for asking clarification:                                                                           <span style=\"color: #000080; text-decoration-color: #000080\">│</span>\n",
       "<span style=\"color: #000080; text-decoration-color: #000080\">│</span>  - Only ask if **absolutely necessary**.                                                                        <span style=\"color: #000080; text-decoration-color: #000080\">│</span>\n",
       "<span style=\"color: #000080; text-decoration-color: #000080\">│</span>  - Keep questions **concise and structured**. Use bullet points or lists if multiple clarifications are         <span style=\"color: #000080; text-decoration-color: #000080\">│</span>\n",
       "<span style=\"color: #000080; text-decoration-color: #000080\">│</span>  needed.                                                                                                        <span style=\"color: #000080; text-decoration-color: #000080\">│</span>\n",
       "<span style=\"color: #000080; text-decoration-color: #000080\">│</span>  - Do not repeat questions if the information is already provided.                                              <span style=\"color: #000080; text-decoration-color: #000080\">│</span>\n",
       "<span style=\"color: #000080; text-decoration-color: #000080\">│</span>                                                                                                                 <span style=\"color: #000080; text-decoration-color: #000080\">│</span>\n",
       "<span style=\"color: #000080; text-decoration-color: #000080\">│</span>  Respond in **valid JSON format** with these exact keys:                                                        <span style=\"color: #000080; text-decoration-color: #000080\">│</span>\n",
       "<span style=\"color: #000080; text-decoration-color: #000080\">│</span>  - `\"question\"` : \"<span style=\"color: #000080; text-decoration-color: #000080; font-weight: bold\">&lt;clarifying question used with &lt;delegate_to=clarify_with_user&gt;</span> if necessary information is   <span style=\"color: #000080; text-decoration-color: #000080\">│</span>\n",
       "<span style=\"color: #000080; text-decoration-color: #000080\">│</span>  needed, otherwise empty&gt;\"                                                                                      <span style=\"color: #000080; text-decoration-color: #000080\">│</span>\n",
       "<span style=\"color: #000080; text-decoration-color: #000080\">│</span>  - `\"delegate_to\"` : \"logistics_agent\" | \"forwarder_agent\" | \"supervisor_tools\" | \"clarify_with_user\"           <span style=\"color: #000080; text-decoration-color: #000080\">│</span>\n",
       "<span style=\"color: #000080; text-decoration-color: #000080\">│</span>  - `\"agent_brief\"`: \"<span style=\"color: #000080; text-decoration-color: #000080; font-weight: bold\">&lt;acknowledgement message confirming the task assignment to the chosen agent. The brief </span>    <span style=\"color: #000080; text-decoration-color: #000080\">│</span>\n",
       "<span style=\"color: #000080; text-decoration-color: #000080\">│</span>  <span style=\"color: #000080; text-decoration-color: #000080; font-weight: bold\">MUST contain all extracted key-value data, any direct user questions, and the confirmation/skip status based </span>  <span style=\"color: #000080; text-decoration-color: #000080\">│</span>\n",
       "<span style=\"color: #000080; text-decoration-color: #000080\">│</span>  <span style=\"color: #000080; text-decoration-color: #000080; font-weight: bold\">ONLY on the user's most recent message.&gt;</span>\"                                                                      <span style=\"color: #000080; text-decoration-color: #000080\">│</span>\n",
       "<span style=\"color: #000080; text-decoration-color: #000080\">│</span>                                                                                                                 <span style=\"color: #000080; text-decoration-color: #000080\">│</span>\n",
       "<span style=\"color: #000080; text-decoration-color: #000080\">│</span>  Behavior:                                                                                                      <span style=\"color: #000080; text-decoration-color: #000080\">│</span>\n",
       "<span style=\"color: #000080; text-decoration-color: #000080\">│</span>  - If clarification is needed → return:                                                                         <span style=\"color: #000080; text-decoration-color: #000080\">│</span>\n",
       "<span style=\"color: #000080; text-decoration-color: #000080\">│</span>    - `\"question\": \"<span style=\"color: #000080; text-decoration-color: #000080; font-weight: bold\">&lt;your clarifying question&gt;</span>\"`                                                                 <span style=\"color: #000080; text-decoration-color: #000080\">│</span>\n",
       "<span style=\"color: #000080; text-decoration-color: #000080\">│</span>    - `\"delegate_to\": \"clarify_with_user\"`                                                                       <span style=\"color: #000080; text-decoration-color: #000080\">│</span>\n",
       "<span style=\"color: #000080; text-decoration-color: #000080\">│</span>    - `\"agent_brief\": \"\"`                                                                                        <span style=\"color: #000080; text-decoration-color: #000080\">│</span>\n",
       "<span style=\"color: #000080; text-decoration-color: #000080\">│</span>                                                                                                                 <span style=\"color: #000080; text-decoration-color: #000080\">│</span>\n",
       "<span style=\"color: #000080; text-decoration-color: #000080\">│</span>  - If no clarification is needed → return:                                                                      <span style=\"color: #000080; text-decoration-color: #000080\">│</span>\n",
       "<span style=\"color: #000080; text-decoration-color: #000080\">│</span>    - `\"question\": \"\"`                                                                                           <span style=\"color: #000080; text-decoration-color: #000080\">│</span>\n",
       "<span style=\"color: #000080; text-decoration-color: #000080\">│</span>    - `\"delegate_to\": \"<span style=\"color: #000080; text-decoration-color: #000080; font-weight: bold\">&lt;the chosen agent other than clarify_with_user&gt;</span>\"`                                         <span style=\"color: #000080; text-decoration-color: #000080\">│</span>\n",
       "<span style=\"color: #000080; text-decoration-color: #000080\">│</span>    - `\"agent_brief\": \"<span style=\"color: #000080; text-decoration-color: #000080; font-weight: bold\">&lt;acknowledgement message confirming the task assignment to the chosen agent. **You MUST </span>  <span style=\"color: #000080; text-decoration-color: #000080\">│</span>\n",
       "<span style=\"color: #000080; text-decoration-color: #000080\">│</span>  <span style=\"color: #000080; text-decoration-color: #000080; font-weight: bold\">include all extracted key-value data from the user's input in this brief.** If the user's latest message is a</span>  <span style=\"color: #000080; text-decoration-color: #000080\">│</span>\n",
       "<span style=\"color: #000080; text-decoration-color: #000080\">│</span>  <span style=\"color: #000080; text-decoration-color: #000080; font-weight: bold\">question, explicitly include the question. Only state that the data is 'confirmed' if the user's *most </span>        <span style=\"color: #000080; text-decoration-color: #000080\">│</span>\n",
       "<span style=\"color: #000080; text-decoration-color: #000080\">│</span>  <span style=\"color: #000080; text-decoration-color: #000080; font-weight: bold\">recent* message contains explicit confirmation language&gt;</span>\"`                                                     <span style=\"color: #000080; text-decoration-color: #000080\">│</span>\n",
       "<span style=\"color: #000080; text-decoration-color: #000080\">│</span>                                                                                                                 <span style=\"color: #000080; text-decoration-color: #000080\">│</span>\n",
       "<span style=\"color: #000080; text-decoration-color: #000080\">│</span>  Keep the verification message professional and concise, e.g.,                                                  <span style=\"color: #000080; text-decoration-color: #000080\">│</span>\n",
       "<span style=\"color: #000080; text-decoration-color: #000080\">│</span>  - `\"Based on the provided details, I will assign this task to the Freight Forwarder Agent for for further      <span style=\"color: #000080; text-decoration-color: #000080\">│</span>\n",
       "<span style=\"color: #000080; text-decoration-color: #000080\">│</span>  handling.\"`                                                                                                    <span style=\"color: #000080; text-decoration-color: #000080\">│</span>\n",
       "<span style=\"color: #000080; text-decoration-color: #000080\">│</span>  - `\"The input data **AWB/BL** relates to the Logistic Department, so I will assign it to the Logistician       <span style=\"color: #000080; text-decoration-color: #000080\">│</span>\n",
       "<span style=\"color: #000080; text-decoration-color: #000080\">│</span>  Agent for further handling.\"                                                                                   <span style=\"color: #000080; text-decoration-color: #000080\">│</span>\n",
       "<span style=\"color: #000080; text-decoration-color: #000080\">│</span>                                                                                                                 <span style=\"color: #000080; text-decoration-color: #000080\">│</span>\n",
       "<span style=\"color: #000080; text-decoration-color: #000080\">│</span>                                                                                                                 <span style=\"color: #000080; text-decoration-color: #000080\">│</span>\n",
       "<span style=\"color: #000080; text-decoration-color: #000080\">│</span>                                                                                                                 <span style=\"color: #000080; text-decoration-color: #000080\">│</span>\n",
       "<span style=\"color: #000080; text-decoration-color: #000080\">╰─────────────────────────────────────────────────────────────────────────────────────────────────────────────────╯</span>\n",
       "</pre>\n"
      ],
      "text/plain": [
       "\u001b[34m╭─\u001b[0m\u001b[34m──────────────────────────────────\u001b[0m\u001b[34m \u001b[0m\u001b[1;32msupervisor_decision_to_route_to_subagents\u001b[0m\u001b[34m \u001b[0m\u001b[34m──────────────────────────────────\u001b[0m\u001b[34m─╮\u001b[0m\n",
       "\u001b[34m│\u001b[0m                                                                                                                 \u001b[34m│\u001b[0m\n",
       "\u001b[34m│\u001b[0m                                                                                                                 \u001b[34m│\u001b[0m\n",
       "\u001b[34m│\u001b[0m  These are the inbound logistics Data received so far:                                                          \u001b[34m│\u001b[0m\n",
       "\u001b[34m│\u001b[0m  \u001b[1;34m<message>\u001b[0m                                                                                                      \u001b[34m│\u001b[0m\n",
       "\u001b[34m│\u001b[0m  {message}                                                                                                      \u001b[34m│\u001b[0m\n",
       "\u001b[34m│\u001b[0m  \u001b[1;34m</message>\u001b[0m                                                                                                     \u001b[34m│\u001b[0m\n",
       "\u001b[34m│\u001b[0m                                                                                                                 \u001b[34m│\u001b[0m\n",
       "\u001b[34m│\u001b[0m  Today's date is {date}.                                                                                        \u001b[34m│\u001b[0m\n",
       "\u001b[34m│\u001b[0m                                                                                                                 \u001b[34m│\u001b[0m\n",
       "\u001b[34m│\u001b[0m  Your role is to act as the Supervisor Agent in the Inbound Logistics system.                                   \u001b[34m│\u001b[0m\n",
       "\u001b[34m│\u001b[0m  Your responsibilities are:                                                                                     \u001b[34m│\u001b[0m\n",
       "\u001b[34m│\u001b[0m  1. Assess the data provided by the user.                                                                       \u001b[34m│\u001b[0m\n",
       "\u001b[34m│\u001b[0m  2. Decide whether the task should be delegated to:                                                             \u001b[34m│\u001b[0m\n",
       "\u001b[34m│\u001b[0m     - `logistics_agent` → if the request relates to the following fields: {logistics_fields}. **Ensure any      \u001b[34m│\u001b[0m\n",
       "\u001b[34m│\u001b[0m  provided data adheres to their `dataType` and `seededValues`, if provided.**                                   \u001b[34m│\u001b[0m\n",
       "\u001b[34m│\u001b[0m     - `forwarder_agent` → if the request relates to the following fields: {forwarder_fields}. **Ensure any      \u001b[34m│\u001b[0m\n",
       "\u001b[34m│\u001b[0m  provided data adheres to their `dataType` and `seededValues`, if provided.**                                   \u001b[34m│\u001b[0m\n",
       "\u001b[34m│\u001b[0m  3. If the request is ambiguous or missing critical details, ask the user a **clarifying question** before      \u001b[34m│\u001b[0m\n",
       "\u001b[34m│\u001b[0m  assigning the task.                                                                                            \u001b[34m│\u001b[0m\n",
       "\u001b[34m│\u001b[0m  4. **Do not enforce field entry yourself — instead, delegate field-specific responsibilities to the            \u001b[34m│\u001b[0m\n",
       "\u001b[34m│\u001b[0m  appropriate sub-agent (`logistics_agent` or `forwarder_agent`) based on {logistics_fields} and                 \u001b[34m│\u001b[0m\n",
       "\u001b[34m│\u001b[0m  {forwarder_fields}.**                                                                                          \u001b[34m│\u001b[0m\n",
       "\u001b[34m│\u001b[0m                                                                                                                 \u001b[34m│\u001b[0m\n",
       "\u001b[34m│\u001b[0m  Guidelines for asking clarification:                                                                           \u001b[34m│\u001b[0m\n",
       "\u001b[34m│\u001b[0m  - Only ask if **absolutely necessary**.                                                                        \u001b[34m│\u001b[0m\n",
       "\u001b[34m│\u001b[0m  - Keep questions **concise and structured**. Use bullet points or lists if multiple clarifications are         \u001b[34m│\u001b[0m\n",
       "\u001b[34m│\u001b[0m  needed.                                                                                                        \u001b[34m│\u001b[0m\n",
       "\u001b[34m│\u001b[0m  - Do not repeat questions if the information is already provided.                                              \u001b[34m│\u001b[0m\n",
       "\u001b[34m│\u001b[0m                                                                                                                 \u001b[34m│\u001b[0m\n",
       "\u001b[34m│\u001b[0m  Respond in **valid JSON format** with these exact keys:                                                        \u001b[34m│\u001b[0m\n",
       "\u001b[34m│\u001b[0m  - `\"question\"` : \"\u001b[1;34m<clarifying question used with <delegate_to=clarify_with_user>\u001b[0m if necessary information is   \u001b[34m│\u001b[0m\n",
       "\u001b[34m│\u001b[0m  needed, otherwise empty>\"                                                                                      \u001b[34m│\u001b[0m\n",
       "\u001b[34m│\u001b[0m  - `\"delegate_to\"` : \"logistics_agent\" | \"forwarder_agent\" | \"supervisor_tools\" | \"clarify_with_user\"           \u001b[34m│\u001b[0m\n",
       "\u001b[34m│\u001b[0m  - `\"agent_brief\"`: \"\u001b[1;34m<acknowledgement message confirming the task assignment to the chosen agent. The brief \u001b[0m    \u001b[34m│\u001b[0m\n",
       "\u001b[34m│\u001b[0m  \u001b[1;34mMUST contain all extracted key-value data, any direct user questions, and the confirmation/skip status based \u001b[0m  \u001b[34m│\u001b[0m\n",
       "\u001b[34m│\u001b[0m  \u001b[1;34mONLY on the user's most recent message.>\u001b[0m\"                                                                      \u001b[34m│\u001b[0m\n",
       "\u001b[34m│\u001b[0m                                                                                                                 \u001b[34m│\u001b[0m\n",
       "\u001b[34m│\u001b[0m  Behavior:                                                                                                      \u001b[34m│\u001b[0m\n",
       "\u001b[34m│\u001b[0m  - If clarification is needed → return:                                                                         \u001b[34m│\u001b[0m\n",
       "\u001b[34m│\u001b[0m    - `\"question\": \"\u001b[1;34m<your clarifying question>\u001b[0m\"`                                                                 \u001b[34m│\u001b[0m\n",
       "\u001b[34m│\u001b[0m    - `\"delegate_to\": \"clarify_with_user\"`                                                                       \u001b[34m│\u001b[0m\n",
       "\u001b[34m│\u001b[0m    - `\"agent_brief\": \"\"`                                                                                        \u001b[34m│\u001b[0m\n",
       "\u001b[34m│\u001b[0m                                                                                                                 \u001b[34m│\u001b[0m\n",
       "\u001b[34m│\u001b[0m  - If no clarification is needed → return:                                                                      \u001b[34m│\u001b[0m\n",
       "\u001b[34m│\u001b[0m    - `\"question\": \"\"`                                                                                           \u001b[34m│\u001b[0m\n",
       "\u001b[34m│\u001b[0m    - `\"delegate_to\": \"\u001b[1;34m<the chosen agent other than clarify_with_user>\u001b[0m\"`                                         \u001b[34m│\u001b[0m\n",
       "\u001b[34m│\u001b[0m    - `\"agent_brief\": \"\u001b[1;34m<acknowledgement message confirming the task assignment to the chosen agent. **You MUST \u001b[0m  \u001b[34m│\u001b[0m\n",
       "\u001b[34m│\u001b[0m  \u001b[1;34minclude all extracted key-value data from the user's input in this brief.** If the user's latest message is a\u001b[0m  \u001b[34m│\u001b[0m\n",
       "\u001b[34m│\u001b[0m  \u001b[1;34mquestion, explicitly include the question. Only state that the data is 'confirmed' if the user's *most \u001b[0m        \u001b[34m│\u001b[0m\n",
       "\u001b[34m│\u001b[0m  \u001b[1;34mrecent* message contains explicit confirmation language>\u001b[0m\"`                                                     \u001b[34m│\u001b[0m\n",
       "\u001b[34m│\u001b[0m                                                                                                                 \u001b[34m│\u001b[0m\n",
       "\u001b[34m│\u001b[0m  Keep the verification message professional and concise, e.g.,                                                  \u001b[34m│\u001b[0m\n",
       "\u001b[34m│\u001b[0m  - `\"Based on the provided details, I will assign this task to the Freight Forwarder Agent for for further      \u001b[34m│\u001b[0m\n",
       "\u001b[34m│\u001b[0m  handling.\"`                                                                                                    \u001b[34m│\u001b[0m\n",
       "\u001b[34m│\u001b[0m  - `\"The input data **AWB/BL** relates to the Logistic Department, so I will assign it to the Logistician       \u001b[34m│\u001b[0m\n",
       "\u001b[34m│\u001b[0m  Agent for further handling.\"                                                                                   \u001b[34m│\u001b[0m\n",
       "\u001b[34m│\u001b[0m                                                                                                                 \u001b[34m│\u001b[0m\n",
       "\u001b[34m│\u001b[0m                                                                                                                 \u001b[34m│\u001b[0m\n",
       "\u001b[34m│\u001b[0m                                                                                                                 \u001b[34m│\u001b[0m\n",
       "\u001b[34m╰─────────────────────────────────────────────────────────────────────────────────────────────────────────────────╯\u001b[0m\n"
      ]
     },
     "metadata": {},
     "output_type": "display_data"
    }
   ],
   "source": [
    "from src.utils import show_prompt\n",
    "from src.prompt import supervisor_decision_to_route_to_subagents\n",
    "show_prompt(supervisor_decision_to_route_to_subagents, \"supervisor_decision_to_route_to_subagents\")"
   ]
  },
  {
   "cell_type": "code",
   "execution_count": 4,
   "id": "e2f716c5",
   "metadata": {},
   "outputs": [
    {
     "name": "stdout",
     "output_type": "stream",
     "text": [
      "Overwriting ../src/supervisor_schema.py\n"
     ]
    }
   ],
   "source": [
    "%%writefile ../src/supervisor_schema.py\n",
    "\n",
    "\"\"\"Supervisor Definitions and Pydantic Schemas for Routing Workflow.\n",
    "\n",
    "This defines the state objects and structured schemas used for Routing to \n",
    "sub agent sworkflow, including Supervisor state management and output schemas.\n",
    "\"\"\"\n",
    "\n",
    "import operator\n",
    "from typing_extensions import Optional, Annotated, List, Sequence\n",
    "\n",
    "from langchain_core.messages import BaseMessage\n",
    "from langgraph.graph import MessagesState\n",
    "from langgraph.graph.message import add_messages\n",
    "from langchain_core.tools import tool, InjectedToolArg\n",
    "\n",
    "from pydantic import BaseModel, Field\n",
    "from enum import Enum\n",
    "\n",
    "# ===== STRUCTURED OUTPUT SCHEMAS =====\n",
    "\n",
    "class NextAgent(str, Enum):\n",
    "    END = \"__end__\"\n",
    "    CLARIFY_WITH_USER = \"clarify_with_user\"\n",
    "    LOGISTICS_AGENT   = \"logistics_agent\"\n",
    "    FORWARDER_AGENT   = \"forwarder_agent\"\n",
    "    SUPERVISOR_TOOLS  = \"supervisor_tools\"\n",
    "    \n",
    "class ClarifyWithUser(BaseModel):\n",
    "    \"\"\"Schema for delegation decision and questions.\"\"\"\n",
    "    question: str = Field(\n",
    "        description = \"A question to ask the user to clarify the report scope\",\n",
    "    )\n",
    "    delegate_to: NextAgent = Field(\n",
    "        description = \"A decision to delegate and route the task to the next agent\",\n",
    "    )\n",
    "    agent_brief: str = Field(\n",
    "        description = \"A Brief that will be used to route the task to the next sub-agent\",\n",
    "    )\n",
    "    \n",
    "class AgentInputState(MessagesState):\n",
    "    \"\"\"Input state for the full agent - only contains messages from user input.\"\"\"\n",
    "    pass\n",
    "\n",
    "class AgentState(MessagesState):\n",
    "    \"\"\"\n",
    "    Main state for the full multi-agent system.\n",
    "    \n",
    "    Extends MessagesState with additional fields for routing coordination.\n",
    "    \"\"\"\n",
    "    supervisor_messages: Annotated[Sequence[BaseMessage], add_messages]\n",
    "    clarification_schemas: Optional[ClarifyWithUser] = None\n",
    "    agent_brief: str"
   ]
  },
  {
   "cell_type": "code",
   "execution_count": 5,
   "id": "867582c3",
   "metadata": {},
   "outputs": [
    {
     "name": "stdout",
     "output_type": "stream",
     "text": [
      "Overwriting ../src/supervisor_agent.py\n"
     ]
    }
   ],
   "source": [
    "%%writefile ../src/supervisor_agent.py\n",
    "\n",
    "\"\"\"User Clarification and Routimg to Sub Agents.\n",
    "\n",
    "This module implements the  the Routing workflow, where we:\n",
    "1. Assess if the user's data needs clarification\n",
    "2. Delegate and route to Sub Agents\n",
    "\n",
    "The workflow uses structured output to make deterministic decisions about\n",
    "whether sufficient context exists to proceed with Routing.\n",
    "\"\"\"\n",
    "\n",
    "import json\n",
    "from dotenv import load_dotenv\n",
    "from datetime import datetime\n",
    "from typing_extensions import Literal\n",
    "\n",
    "from langchain.chat_models import init_chat_model\n",
    "from langchain_core.messages import HumanMessage, AIMessage, ToolMessage , get_buffer_string\n",
    "from langgraph.graph import StateGraph, START, END\n",
    "from langgraph.types import Command\n",
    "from langgraph.checkpoint.memory import InMemorySaver\n",
    "\n",
    "from src.prompt import supervisor_decision_to_route_to_subagents\n",
    "from src.supervisor_schema import AgentState, ClarifyWithUser, AgentInputState, NextAgent\n",
    "\n",
    "# Load environment variables\n",
    "load_dotenv()\n",
    "\n",
    "checkpointer = InMemorySaver()\n",
    "\n",
    "\n",
    "# ===== IBL FIELDS =====\n",
    "try:\n",
    "    with open (\"../IBL_SCHEMA.json\" , \"r\") as config_file:\n",
    "        routing_fields = json.load(config_file)\n",
    "except FileNotFoundError:\n",
    "    print(\"Error: config.json not found. Please create it.\")\n",
    "\n",
    "# ===== UTILITY FUNCTIONS =====\n",
    "def get_today_str() -> str:\n",
    "    \"\"\"Get current date in a human-readable format.\"\"\"\n",
    "    return datetime.now().strftime(\"%a %b %#d, %Y\")\n",
    "\n",
    "# Set up tools and model binding\n",
    "tools = []\n",
    "tools_by_name = {tool.name: tool for tool in tools}\n",
    "\n",
    "# Initialize model\n",
    "model = init_chat_model(model=\"openai:gpt-4.1\", temperature=0.0)\n",
    "model_with_tools = model.bind_tools(tools)\n",
    "\n",
    "\n",
    "# ===== WORKFLOW NODES =====\n",
    "def supervisor_agent(state: AgentState):\n",
    "    \"\"\"\n",
    "        Supervisor Agent determines if the input data sufficient to make \n",
    "        deterministic decisions and assign the task to the next agent.\n",
    "    \"\"\"\n",
    "    # Set up structured output model\n",
    "    structured_output_model = model_with_tools.with_structured_output(ClarifyWithUser)\n",
    "\n",
    "    # Invoke the model with clarification instructions\n",
    "    response = structured_output_model.invoke([\n",
    "        HumanMessage(content=supervisor_decision_to_route_to_subagents.format(\n",
    "            message=get_buffer_string(messages=state[\"messages\"]), \n",
    "            date=get_today_str(),\n",
    "            logistics_fields=routing_fields.get(\"logistics_agent\"),\n",
    "            forwarder_fields=routing_fields.get(\"forwarder_agent\")\n",
    "        ))\n",
    "    ])\n",
    "    \n",
    "    # Route based on clarification need\n",
    "    return {\n",
    "             \"clarification_schemas\" : response ,\n",
    "             \"agent_brief\" : response.agent_brief,\n",
    "             \"supervisor_messages\": [\n",
    "                                    AIMessage(content=response.delegate_to.value)\n",
    "                                    ]\n",
    "           }\n",
    "\n",
    "def supervisor_tools(state: AgentState):\n",
    "    \"\"\"\n",
    "        Executes all tool calls from the Supervisor Agent response.\n",
    "        Returns updated state with tool execution results.\n",
    "    \"\"\"\n",
    "    tool_calls = state[\"supervisor_messages\"][-1].tool_calls\n",
    " \n",
    "    # Execute all tool calls\n",
    "    observations = []\n",
    "    for tool_call in tool_calls:\n",
    "        tool = tools_by_name[tool_call[\"name\"]]\n",
    "        observations.append(tool.invoke(tool_call[\"args\"]))\n",
    "            \n",
    "    # Create tool message outputs\n",
    "    tool_outputs = [\n",
    "        ToolMessage(\n",
    "            content=observation,\n",
    "            name=tool_call[\"name\"],\n",
    "            tool_call_id=tool_call[\"id\"]\n",
    "        ) for observation, tool_call in zip(observations, tool_calls)\n",
    "    ]\n",
    "    \n",
    "    return {\"supervisor_messages\": tool_outputs}\n",
    "\n",
    "def clarify_with_user(state: AgentState):\n",
    "    \"\"\"In Case the user needs to be asked a clarifying question.\"\"\"\n",
    "    clarification_schemas = state.get(\"clarification_schemas\")\n",
    "    if clarification_schemas and clarification_schemas.question:\n",
    "        question = clarification_schemas.question\n",
    "    return {\"messages\": [AIMessage(content=question)]}\n",
    "\n",
    "def DelegateNextAgent(state: AgentState) -> Literal[\"logistics_agent\", \"forwarder_agent\", \"supervisor_tools\", \"clarify_with_user\"]:\n",
    "    \n",
    "    \"\"\" \n",
    "        A routing logic that uses the supervisor agent's responses to determine \n",
    "        which agent should be assigned the task next \n",
    "    \"\"\"\n",
    "\n",
    "    # Then check the routing decision\n",
    "    clarification_schemas = state.get(\"clarification_schemas\")\n",
    "    if not clarification_schemas:\n",
    "        return \"__end__\"\n",
    "\n",
    "    if clarification_schemas.delegate_to == NextAgent.LOGISTICS_AGENT:\n",
    "        return \"logistics_agent\"\n",
    "    elif clarification_schemas.delegate_to == NextAgent.FORWARDER_AGENT:\n",
    "        return \"forwarder_agent\"\n",
    "    elif clarification_schemas.delegate_to == NextAgent.CLARIFY_WITH_USER:\n",
    "        return \"clarify_with_user\"\n",
    "    else:\n",
    "        return \"__end__\"\n",
    "\n",
    "def logistics_agent(state: AgentState):\n",
    "    pass\n",
    "\n",
    "def forwarder_agent(state: AgentState):\n",
    "    pass\n",
    "\n",
    "# ===== GRAPH CONSTRUCTION =====\n",
    "\n",
    "# Build the scoping workflow\n",
    "supervisor_agent_builder = StateGraph(AgentState, input_schema=AgentInputState)\n",
    "\n",
    "# Add workflow nodes\n",
    "supervisor_agent_builder.add_node(\"supervisor_agent\"  , supervisor_agent)\n",
    "supervisor_agent_builder.add_node(\"supervisor_tools\"  , supervisor_tools)\n",
    "supervisor_agent_builder.add_node(\"clarify_with_user\" , clarify_with_user)\n",
    "supervisor_agent_builder.add_node(\"logistics_agent\"   , logistics_agent)\n",
    "supervisor_agent_builder.add_node(\"forwarder_agent\"   , forwarder_agent)\n",
    "\n",
    "# Add workflow edges\n",
    "supervisor_agent_builder.add_edge(START, \"supervisor_agent\")\n",
    "supervisor_agent_builder.add_conditional_edges(\n",
    "    \"supervisor_agent\",\n",
    "     DelegateNextAgent,\n",
    "    {\n",
    "        \"supervisor_tools\" : \"supervisor_tools\"  , # execute tools,\n",
    "        \"clarify_with_user\": \"clarify_with_user\" , # Provide final answer\n",
    "        \"logistics_agent\"  : \"logistics_agent\" ,\n",
    "        \"forwarder_agent\"  : \"forwarder_agent\"\n",
    "    },\n",
    ")\n",
    "supervisor_agent_builder.add_edge(\"supervisor_tools\", \"supervisor_agent\")\n",
    "supervisor_agent_builder.add_edge(\"clarify_with_user\", END)\n",
    "\n",
    "# Compile the workflow\n",
    "SupervisorAgent = supervisor_agent_builder.compile(checkpointer = checkpointer)"
   ]
  },
  {
   "cell_type": "code",
   "execution_count": 6,
   "id": "b48299a8",
   "metadata": {},
   "outputs": [
    {
     "ename": "ValueError",
     "evalue": "Failed to reach https://mermaid.ink/ API while trying to render your graph. Status code: 502.\n\nTo resolve this issue:\n1. Check your internet connection and try again\n2. Try with higher retry settings: `draw_mermaid_png(..., max_retries=5, retry_delay=2.0)`\n3. Use the Pyppeteer rendering method which will render your graph locally in a browser: `draw_mermaid_png(..., draw_method=MermaidDrawMethod.PYPPETEER)`",
     "output_type": "error",
     "traceback": [
      "\u001b[31m---------------------------------------------------------------------------\u001b[39m",
      "\u001b[31mValueError\u001b[39m                                Traceback (most recent call last)",
      "\u001b[36mCell\u001b[39m\u001b[36m \u001b[39m\u001b[32mIn[6]\u001b[39m\u001b[32m, line 5\u001b[39m\n\u001b[32m      2\u001b[39m \u001b[38;5;28;01mfrom\u001b[39;00m\u001b[38;5;250m \u001b[39m\u001b[34;01mIPython\u001b[39;00m\u001b[34;01m.\u001b[39;00m\u001b[34;01mdisplay\u001b[39;00m\u001b[38;5;250m \u001b[39m\u001b[38;5;28;01mimport\u001b[39;00m Image, display\n\u001b[32m      3\u001b[39m \u001b[38;5;28;01mfrom\u001b[39;00m\u001b[38;5;250m \u001b[39m\u001b[34;01msrc\u001b[39;00m\u001b[34;01m.\u001b[39;00m\u001b[34;01msupervisor_agent\u001b[39;00m\u001b[38;5;250m \u001b[39m\u001b[38;5;28;01mimport\u001b[39;00m SupervisorAgent\n\u001b[32m----> \u001b[39m\u001b[32m5\u001b[39m display(Image(\u001b[43mSupervisorAgent\u001b[49m\u001b[43m.\u001b[49m\u001b[43mget_graph\u001b[49m\u001b[43m(\u001b[49m\u001b[43mxray\u001b[49m\u001b[43m=\u001b[49m\u001b[38;5;28;43;01mTrue\u001b[39;49;00m\u001b[43m)\u001b[49m\u001b[43m.\u001b[49m\u001b[43mdraw_mermaid_png\u001b[49m\u001b[43m(\u001b[49m\u001b[43m)\u001b[49m))\n",
      "\u001b[36mFile \u001b[39m\u001b[32mc:\\Users\\kamalmo\\Desktop\\AI\\InboundLogisticSystem\\MultiAgentInboundLogistic\\.venv\\Lib\\site-packages\\langchain_core\\runnables\\graph.py:702\u001b[39m, in \u001b[36mGraph.draw_mermaid_png\u001b[39m\u001b[34m(self, curve_style, node_colors, wrap_label_n_words, output_file_path, draw_method, background_color, padding, max_retries, retry_delay, frontmatter_config)\u001b[39m\n\u001b[32m    692\u001b[39m \u001b[38;5;28;01mfrom\u001b[39;00m\u001b[38;5;250m \u001b[39m\u001b[34;01mlangchain_core\u001b[39;00m\u001b[34;01m.\u001b[39;00m\u001b[34;01mrunnables\u001b[39;00m\u001b[34;01m.\u001b[39;00m\u001b[34;01mgraph_mermaid\u001b[39;00m\u001b[38;5;250m \u001b[39m\u001b[38;5;28;01mimport\u001b[39;00m (  \u001b[38;5;66;03m# noqa: PLC0415\u001b[39;00m\n\u001b[32m    693\u001b[39m     draw_mermaid_png,\n\u001b[32m    694\u001b[39m )\n\u001b[32m    696\u001b[39m mermaid_syntax = \u001b[38;5;28mself\u001b[39m.draw_mermaid(\n\u001b[32m    697\u001b[39m     curve_style=curve_style,\n\u001b[32m    698\u001b[39m     node_colors=node_colors,\n\u001b[32m    699\u001b[39m     wrap_label_n_words=wrap_label_n_words,\n\u001b[32m    700\u001b[39m     frontmatter_config=frontmatter_config,\n\u001b[32m    701\u001b[39m )\n\u001b[32m--> \u001b[39m\u001b[32m702\u001b[39m \u001b[38;5;28;01mreturn\u001b[39;00m \u001b[43mdraw_mermaid_png\u001b[49m\u001b[43m(\u001b[49m\n\u001b[32m    703\u001b[39m \u001b[43m    \u001b[49m\u001b[43mmermaid_syntax\u001b[49m\u001b[43m=\u001b[49m\u001b[43mmermaid_syntax\u001b[49m\u001b[43m,\u001b[49m\n\u001b[32m    704\u001b[39m \u001b[43m    \u001b[49m\u001b[43moutput_file_path\u001b[49m\u001b[43m=\u001b[49m\u001b[43moutput_file_path\u001b[49m\u001b[43m,\u001b[49m\n\u001b[32m    705\u001b[39m \u001b[43m    \u001b[49m\u001b[43mdraw_method\u001b[49m\u001b[43m=\u001b[49m\u001b[43mdraw_method\u001b[49m\u001b[43m,\u001b[49m\n\u001b[32m    706\u001b[39m \u001b[43m    \u001b[49m\u001b[43mbackground_color\u001b[49m\u001b[43m=\u001b[49m\u001b[43mbackground_color\u001b[49m\u001b[43m,\u001b[49m\n\u001b[32m    707\u001b[39m \u001b[43m    \u001b[49m\u001b[43mpadding\u001b[49m\u001b[43m=\u001b[49m\u001b[43mpadding\u001b[49m\u001b[43m,\u001b[49m\n\u001b[32m    708\u001b[39m \u001b[43m    \u001b[49m\u001b[43mmax_retries\u001b[49m\u001b[43m=\u001b[49m\u001b[43mmax_retries\u001b[49m\u001b[43m,\u001b[49m\n\u001b[32m    709\u001b[39m \u001b[43m    \u001b[49m\u001b[43mretry_delay\u001b[49m\u001b[43m=\u001b[49m\u001b[43mretry_delay\u001b[49m\u001b[43m,\u001b[49m\n\u001b[32m    710\u001b[39m \u001b[43m\u001b[49m\u001b[43m)\u001b[49m\n",
      "\u001b[36mFile \u001b[39m\u001b[32mc:\\Users\\kamalmo\\Desktop\\AI\\InboundLogisticSystem\\MultiAgentInboundLogistic\\.venv\\Lib\\site-packages\\langchain_core\\runnables\\graph_mermaid.py:310\u001b[39m, in \u001b[36mdraw_mermaid_png\u001b[39m\u001b[34m(mermaid_syntax, output_file_path, draw_method, background_color, padding, max_retries, retry_delay)\u001b[39m\n\u001b[32m    304\u001b[39m     img_bytes = asyncio.run(\n\u001b[32m    305\u001b[39m         _render_mermaid_using_pyppeteer(\n\u001b[32m    306\u001b[39m             mermaid_syntax, output_file_path, background_color, padding\n\u001b[32m    307\u001b[39m         )\n\u001b[32m    308\u001b[39m     )\n\u001b[32m    309\u001b[39m \u001b[38;5;28;01melif\u001b[39;00m draw_method == MermaidDrawMethod.API:\n\u001b[32m--> \u001b[39m\u001b[32m310\u001b[39m     img_bytes = \u001b[43m_render_mermaid_using_api\u001b[49m\u001b[43m(\u001b[49m\n\u001b[32m    311\u001b[39m \u001b[43m        \u001b[49m\u001b[43mmermaid_syntax\u001b[49m\u001b[43m,\u001b[49m\n\u001b[32m    312\u001b[39m \u001b[43m        \u001b[49m\u001b[43moutput_file_path\u001b[49m\u001b[43m=\u001b[49m\u001b[43moutput_file_path\u001b[49m\u001b[43m,\u001b[49m\n\u001b[32m    313\u001b[39m \u001b[43m        \u001b[49m\u001b[43mbackground_color\u001b[49m\u001b[43m=\u001b[49m\u001b[43mbackground_color\u001b[49m\u001b[43m,\u001b[49m\n\u001b[32m    314\u001b[39m \u001b[43m        \u001b[49m\u001b[43mmax_retries\u001b[49m\u001b[43m=\u001b[49m\u001b[43mmax_retries\u001b[49m\u001b[43m,\u001b[49m\n\u001b[32m    315\u001b[39m \u001b[43m        \u001b[49m\u001b[43mretry_delay\u001b[49m\u001b[43m=\u001b[49m\u001b[43mretry_delay\u001b[49m\u001b[43m,\u001b[49m\n\u001b[32m    316\u001b[39m \u001b[43m    \u001b[49m\u001b[43m)\u001b[49m\n\u001b[32m    317\u001b[39m \u001b[38;5;28;01melse\u001b[39;00m:\n\u001b[32m    318\u001b[39m     supported_methods = \u001b[33m\"\u001b[39m\u001b[33m, \u001b[39m\u001b[33m\"\u001b[39m.join([m.value \u001b[38;5;28;01mfor\u001b[39;00m m \u001b[38;5;129;01min\u001b[39;00m MermaidDrawMethod])\n",
      "\u001b[36mFile \u001b[39m\u001b[32mc:\\Users\\kamalmo\\Desktop\\AI\\InboundLogisticSystem\\MultiAgentInboundLogistic\\.venv\\Lib\\site-packages\\langchain_core\\runnables\\graph_mermaid.py:463\u001b[39m, in \u001b[36m_render_mermaid_using_api\u001b[39m\u001b[34m(mermaid_syntax, output_file_path, background_color, file_type, max_retries, retry_delay)\u001b[39m\n\u001b[32m    458\u001b[39m     \u001b[38;5;66;03m# For other status codes, fail immediately\u001b[39;00m\n\u001b[32m    459\u001b[39m     msg = (\n\u001b[32m    460\u001b[39m         \u001b[33m\"\u001b[39m\u001b[33mFailed to reach https://mermaid.ink/ API while trying to render \u001b[39m\u001b[33m\"\u001b[39m\n\u001b[32m    461\u001b[39m         \u001b[33mf\u001b[39m\u001b[33m\"\u001b[39m\u001b[33myour graph. Status code: \u001b[39m\u001b[38;5;132;01m{\u001b[39;00mresponse.status_code\u001b[38;5;132;01m}\u001b[39;00m\u001b[33m.\u001b[39m\u001b[38;5;130;01m\\n\u001b[39;00m\u001b[38;5;130;01m\\n\u001b[39;00m\u001b[33m\"\u001b[39m\n\u001b[32m    462\u001b[39m     ) + error_msg_suffix\n\u001b[32m--> \u001b[39m\u001b[32m463\u001b[39m     \u001b[38;5;28;01mraise\u001b[39;00m \u001b[38;5;167;01mValueError\u001b[39;00m(msg)\n\u001b[32m    465\u001b[39m \u001b[38;5;28;01mexcept\u001b[39;00m (requests.RequestException, requests.Timeout) \u001b[38;5;28;01mas\u001b[39;00m e:\n\u001b[32m    466\u001b[39m     \u001b[38;5;28;01mif\u001b[39;00m attempt < max_retries:\n\u001b[32m    467\u001b[39m         \u001b[38;5;66;03m# Exponential backoff with jitter\u001b[39;00m\n",
      "\u001b[31mValueError\u001b[39m: Failed to reach https://mermaid.ink/ API while trying to render your graph. Status code: 502.\n\nTo resolve this issue:\n1. Check your internet connection and try again\n2. Try with higher retry settings: `draw_mermaid_png(..., max_retries=5, retry_delay=2.0)`\n3. Use the Pyppeteer rendering method which will render your graph locally in a browser: `draw_mermaid_png(..., draw_method=MermaidDrawMethod.PYPPETEER)`"
     ]
    }
   ],
   "source": [
    "# Compile with in-memory checkpointer to test in notebook\n",
    "from IPython.display import Image, display\n",
    "from src.supervisor_agent import SupervisorAgent\n",
    "\n",
    "display(Image(SupervisorAgent.get_graph(xray=True).draw_mermaid_png()))"
   ]
  },
  {
   "cell_type": "code",
   "execution_count": 8,
   "id": "a0097375",
   "metadata": {},
   "outputs": [
    {
     "data": {
      "text/plain": [
       "{'messages': [HumanMessage(content='I want to enter the AWB 12345 and AWB Date', additional_kwargs={}, response_metadata={}, id='1ebf28b9-ccc7-45a0-af9a-2fc4cffd449f'),\n",
       "  AIMessage(content='Please provide the AWB Date (in YYYY-MM-DD format) so we can proceed with your request.', additional_kwargs={}, response_metadata={}, id='e66089d7-17c4-49da-97ee-53c2fdb9da3d')],\n",
       " 'supervisor_messages': [AIMessage(content='clarify_with_user', additional_kwargs={}, response_metadata={}, id='166e06bd-c576-4ff8-a6d7-e4f062cdd873')],\n",
       " 'clarification_schemas': ClarifyWithUser(question='Please provide the AWB Date (in YYYY-MM-DD format) so we can proceed with your request.', delegate_to=<NextAgent.CLARIFY_WITH_USER: 'clarify_with_user'>, agent_brief=''),\n",
       " 'agent_brief': ''}"
      ]
     },
     "execution_count": 8,
     "metadata": {},
     "output_type": "execute_result"
    }
   ],
   "source": [
    "from src.utils import format_message\n",
    "from langchain_core.messages import HumanMessage\n",
    "thread = {\"configurable\":{\"thread_id\":\"1\"}}\n",
    "result = SupervisorAgent.invoke({\"messages\":[HumanMessage(content=\"I want to enter the AWB 12345 and AWB Date\")]} , config=thread)\n",
    "result"
   ]
  },
  {
   "cell_type": "code",
   "execution_count": 9,
   "id": "220b094e",
   "metadata": {},
   "outputs": [
    {
     "data": {
      "text/plain": [
       "{'messages': [HumanMessage(content='I want to enter the AWB 12345 and AWB Date', additional_kwargs={}, response_metadata={}, id='1ebf28b9-ccc7-45a0-af9a-2fc4cffd449f'),\n",
       "  AIMessage(content='Please provide the AWB Date (in YYYY-MM-DD format) so we can proceed with your request.', additional_kwargs={}, response_metadata={}, id='e66089d7-17c4-49da-97ee-53c2fdb9da3d'),\n",
       "  HumanMessage(content='Well the AWB is 12345 and AWB Date 72025-08-12', additional_kwargs={}, response_metadata={}, id='58b9cbf5-ebdf-45f7-b8db-18e9c44fcd6c'),\n",
       "  AIMessage(content=\"The provided AWB Date '72025-08-12' appears to be in an invalid or future format. Could you please confirm the correct AWB Date in YYYY-MM-DD format?\", additional_kwargs={}, response_metadata={}, id='62f95d8c-6186-4773-b601-5a3982bf9ccc')],\n",
       " 'supervisor_messages': [AIMessage(content='clarify_with_user', additional_kwargs={}, response_metadata={}, id='166e06bd-c576-4ff8-a6d7-e4f062cdd873'),\n",
       "  AIMessage(content='clarify_with_user', additional_kwargs={}, response_metadata={}, id='5b4c72e5-a5aa-4c3f-bb7e-6f67a2a2303b')],\n",
       " 'clarification_schemas': ClarifyWithUser(question=\"The provided AWB Date '72025-08-12' appears to be in an invalid or future format. Could you please confirm the correct AWB Date in YYYY-MM-DD format?\", delegate_to=<NextAgent.CLARIFY_WITH_USER: 'clarify_with_user'>, agent_brief=''),\n",
       " 'agent_brief': ''}"
      ]
     },
     "execution_count": 9,
     "metadata": {},
     "output_type": "execute_result"
    }
   ],
   "source": [
    "result = SupervisorAgent.invoke({\"messages\":[HumanMessage(content=\"Well the AWB is 12345 and AWB Date 72025-08-12\")]}, config=thread)\n",
    "result"
   ]
  },
  {
   "cell_type": "code",
   "execution_count": 10,
   "id": "796fd1cd",
   "metadata": {},
   "outputs": [
    {
     "data": {
      "text/plain": [
       "{'messages': [HumanMessage(content='I want to enter the AWB 12345 and AWB Date', additional_kwargs={}, response_metadata={}, id='1ebf28b9-ccc7-45a0-af9a-2fc4cffd449f'),\n",
       "  AIMessage(content='Please provide the AWB Date (in YYYY-MM-DD format) so we can proceed with your request.', additional_kwargs={}, response_metadata={}, id='e66089d7-17c4-49da-97ee-53c2fdb9da3d'),\n",
       "  HumanMessage(content='Well the AWB is 12345 and AWB Date 72025-08-12', additional_kwargs={}, response_metadata={}, id='58b9cbf5-ebdf-45f7-b8db-18e9c44fcd6c'),\n",
       "  AIMessage(content=\"The provided AWB Date '72025-08-12' appears to be in an invalid or future format. Could you please confirm the correct AWB Date in YYYY-MM-DD format?\", additional_kwargs={}, response_metadata={}, id='62f95d8c-6186-4773-b601-5a3982bf9ccc'),\n",
       "  HumanMessage(content='Well the AWB is 12345 and AWB Date 2025-08-12', additional_kwargs={}, response_metadata={}, id='2595e79b-2a49-41bc-999c-227b0c019fff')],\n",
       " 'supervisor_messages': [AIMessage(content='clarify_with_user', additional_kwargs={}, response_metadata={}, id='166e06bd-c576-4ff8-a6d7-e4f062cdd873'),\n",
       "  AIMessage(content='clarify_with_user', additional_kwargs={}, response_metadata={}, id='5b4c72e5-a5aa-4c3f-bb7e-6f67a2a2303b'),\n",
       "  AIMessage(content='logistics_agent', additional_kwargs={}, response_metadata={}, id='3022ab01-4237-43c6-a7a1-e42fd467d02e')],\n",
       " 'clarification_schemas': ClarifyWithUser(question='', delegate_to=<NextAgent.LOGISTICS_AGENT: 'logistics_agent'>, agent_brief='The user has provided the following data: AWB/BL: 12345, AWB/BL Date: 2025-08-12. Both fields are required and match the expected data types for the logistics agent. Assigning this task to the logistics agent for further processing.'),\n",
       " 'agent_brief': 'The user has provided the following data: AWB/BL: 12345, AWB/BL Date: 2025-08-12. Both fields are required and match the expected data types for the logistics agent. Assigning this task to the logistics agent for further processing.'}"
      ]
     },
     "execution_count": 10,
     "metadata": {},
     "output_type": "execute_result"
    }
   ],
   "source": [
    "result = SupervisorAgent.invoke({\"messages\":[HumanMessage(content=\"Well the AWB is 12345 and AWB Date 2025-08-12\")]}, config=thread)\n",
    "result"
   ]
  },
  {
   "cell_type": "code",
   "execution_count": 12,
   "id": "ced8e012",
   "metadata": {},
   "outputs": [
    {
     "data": {
      "text/plain": [
       "{'messages': [HumanMessage(content='I want to enter these values AWB/BL: AWB123456, AWB/BL Date: 2025-01-15, Forwarder: DHL , Incoterm: CIF, Product Temperature: 2–8°C, Packing: Cartons, Shipping Temp: Ambient, Gel Pack Expiry Date: 2025-12-30, Handover to Clearance: 2025-01-16, Aggregation: Batch A, Notified FF Date: 2025-01-14, Green light – Date: 2025-01-13, Shipment Mode: Air, Logistic Comment: Handle with care, Remark: Priority shipment, and ASN Importation Date: 2025-01-17', additional_kwargs={}, response_metadata={}, id='a3394d6b-8272-404d-a37a-4b849b273060'),\n",
       "  HumanMessage(content='I want to enter these values AWB/BL: AWB123456, AWB/BL Date: 2025-01-15, Forwarder: DHL , Incoterm: CIF, Product Temperature: 2–8°C, Packing: Cartons, Shipping Temp: Ambient, Gel Pack Expiry Date: 2025-12-30, Handover to Clearance: 2025-01-16, Aggregation: Batch A, Notified FF Date: 2025-01-14, Green light – Date: 2025-01-13, Shipment Mode: Air, Logistic Comment: Handle with care, Remark: Priority shipment, and ASN Importation Date: 2025-01-17', additional_kwargs={}, response_metadata={}, id='f0d442d0-af00-4e37-8867-004c875254ad')],\n",
       " 'supervisor_messages': [AIMessage(content='logistics_agent', additional_kwargs={}, response_metadata={}, id='51167245-b291-4c80-a37a-bb97f8c7b979'),\n",
       "  AIMessage(content='logistics_agent', additional_kwargs={}, response_metadata={}, id='60898268-92be-48ff-b653-b4109128908b')],\n",
       " 'clarification_schemas': ClarifyWithUser(question='', delegate_to=<NextAgent.LOGISTICS_AGENT: 'logistics_agent'>, agent_brief=\"All provided data fields (AWB/BL: AWB123456, AWB/BL Date: 2025-01-15, Forwarder: DHL, Incoterm: CIF, Product Temperature: 2–8°C, Packing: Cartons, Shipping Temp: Ambient, Gel Pack Expiry Date: 2025-12-30, Handover to Clearance: 2025-01-16, Aggregation: Batch A, Notified FF Date: 2025-01-14, Green light – Date: 2025-01-13, Shipment Mode: Air, Logistic Comment: Handle with care, Remark: Priority shipment, ASN Importation Date: 2025-01-17) correspond to the Logistics Agent's scope. The data will be assigned to the Logistics Agent for further processing. Note: The same data was submitted twice; only one entry will be processed.\"),\n",
       " 'agent_brief': \"All provided data fields (AWB/BL: AWB123456, AWB/BL Date: 2025-01-15, Forwarder: DHL, Incoterm: CIF, Product Temperature: 2–8°C, Packing: Cartons, Shipping Temp: Ambient, Gel Pack Expiry Date: 2025-12-30, Handover to Clearance: 2025-01-16, Aggregation: Batch A, Notified FF Date: 2025-01-14, Green light – Date: 2025-01-13, Shipment Mode: Air, Logistic Comment: Handle with care, Remark: Priority shipment, ASN Importation Date: 2025-01-17) correspond to the Logistics Agent's scope. The data will be assigned to the Logistics Agent for further processing. Note: The same data was submitted twice; only one entry will be processed.\"}"
      ]
     },
     "execution_count": 12,
     "metadata": {},
     "output_type": "execute_result"
    }
   ],
   "source": [
    "thread = {\"configurable\":{\"thread_id\":\"2\"}}\n",
    "result = SupervisorAgent.invoke({\"messages\":[HumanMessage(content=\"I want to enter these values AWB/BL: AWB123456, AWB/BL Date: 2025-01-15, Forwarder: DHL , Incoterm: CIF, Product Temperature: 2–8°C, Packing: Cartons, Shipping Temp: Ambient, Gel Pack Expiry Date: 2025-12-30, Handover to Clearance: 2025-01-16, Aggregation: Batch A, Notified FF Date: 2025-01-14, Green light – Date: 2025-01-13, Shipment Mode: Air, Logistic Comment: Handle with care, Remark: Priority shipment, and ASN Importation Date: 2025-01-17\")]} , config=thread)\n",
    "result"
   ]
  },
  {
   "cell_type": "code",
   "execution_count": 13,
   "id": "1faa3340",
   "metadata": {},
   "outputs": [
    {
     "data": {
      "text/plain": [
       "{'messages': [HumanMessage(content='I want to enter the AWB/BL 123457 and AWB Date, skip, yes, proceed without providing it', additional_kwargs={}, response_metadata={}, id='1183cd8f-b7a0-4752-9441-ddaec2b0a030'),\n",
       "  AIMessage(content='You have provided the AWB/BL number (123457) but chose to skip the AWB/BL Date, which is a required field. Please confirm if you want to proceed without the AWB/BL Date, or would you like to provide it now?', additional_kwargs={}, response_metadata={}, id='2a851f8b-a4ad-4388-8ea3-280942b559db')],\n",
       " 'supervisor_messages': [AIMessage(content='clarify_with_user', additional_kwargs={}, response_metadata={}, id='eb964356-0404-4953-9426-4e4951d870d0')],\n",
       " 'clarification_schemas': ClarifyWithUser(question='You have provided the AWB/BL number (123457) but chose to skip the AWB/BL Date, which is a required field. Please confirm if you want to proceed without the AWB/BL Date, or would you like to provide it now?', delegate_to=<NextAgent.CLARIFY_WITH_USER: 'clarify_with_user'>, agent_brief=''),\n",
       " 'agent_brief': ''}"
      ]
     },
     "execution_count": 13,
     "metadata": {},
     "output_type": "execute_result"
    }
   ],
   "source": [
    "thread = {\"configurable\":{\"thread_id\":\"3\"}}\n",
    "result = SupervisorAgent.invoke({\"messages\":[HumanMessage(content=\"I want to enter the AWB/BL 123457 and AWB Date, skip, yes, proceed without providing it\")]} , config=thread)\n",
    "result"
   ]
  },
  {
   "cell_type": "code",
   "execution_count": null,
   "id": "4c3cb58e",
   "metadata": {},
   "outputs": [],
   "source": [
    "thread = {\"configurable\":{\"thread_id\":\"3\"}}\n",
    "result = SupervisorAgent.invoke({\"messages\":[HumanMessage(content=\"I want to enter the AWB/BL 123457 and AWB Date, skip, yes, proceed without providing it\")]} , config=thread)\n",
    "result"
   ]
  },
  {
   "cell_type": "code",
   "execution_count": 7,
   "id": "eff1e400",
   "metadata": {},
   "outputs": [
    {
     "data": {
      "text/plain": [
       "{'messages': [HumanMessage(content='I want to enter the AWB 12345 and AWB Date', additional_kwargs={}, response_metadata={}, id='1412bc76-895c-4200-96fb-02fd740c78e0'),\n",
       "  AIMessage(content='Please provide the AWB Date (in YYYY-MM-DD format) so we can proceed with your request.', additional_kwargs={}, response_metadata={}, id='d163020b-e10a-451b-bc82-38fdfa3f2e34')],\n",
       " 'supervisor_messages': [AIMessage(content='clarify_with_user', additional_kwargs={}, response_metadata={}, id='156c0830-2dee-49ef-8187-5e849822595a')],\n",
       " 'clarification_schemas': ClarifyWithUser(question='Please provide the AWB Date (in YYYY-MM-DD format) so we can proceed with your request.', delegate_to=<NextAgent.CLARIFY_WITH_USER: 'clarify_with_user'>, agent_brief=''),\n",
       " 'agent_brief': ''}"
      ]
     },
     "execution_count": 7,
     "metadata": {},
     "output_type": "execute_result"
    }
   ],
   "source": [
    "from src.utils import format_message\n",
    "from langchain_core.messages import HumanMessage\n",
    "thread = {\"configurable\":{\"thread_id\":\"1\"}}\n",
    "result = SupervisorAgent.invoke({\"messages\":[HumanMessage(content=\"I want to enter the AWB 12345 and AWB Date\")]} , config=thread)\n",
    "result"
   ]
  },
  {
   "cell_type": "code",
   "execution_count": 8,
   "id": "09082a57",
   "metadata": {},
   "outputs": [
    {
     "data": {
      "text/plain": [
       "{'messages': [HumanMessage(content='I want to enter the AWB 12345 and AWB Date', additional_kwargs={}, response_metadata={}, id='1412bc76-895c-4200-96fb-02fd740c78e0'),\n",
       "  AIMessage(content='Please provide the AWB Date (in YYYY-MM-DD format) so we can proceed with your request.', additional_kwargs={}, response_metadata={}, id='d163020b-e10a-451b-bc82-38fdfa3f2e34'),\n",
       "  HumanMessage(content='Skip', additional_kwargs={}, response_metadata={}, id='31933bb7-b6de-4370-a711-b218fcd2a2d2'),\n",
       "  AIMessage(content='You provided AWB number 12345 but chose to skip entering the AWB Date, which is required. Would you like to provide the AWB Date now, or should we proceed without it?', additional_kwargs={}, response_metadata={}, id='4ada157b-1dd6-4ee4-9b21-c1a328bf3c9b')],\n",
       " 'supervisor_messages': [AIMessage(content='clarify_with_user', additional_kwargs={}, response_metadata={}, id='156c0830-2dee-49ef-8187-5e849822595a'),\n",
       "  AIMessage(content='clarify_with_user', additional_kwargs={}, response_metadata={}, id='07869bb0-8cfc-41ae-ab9d-3ec1d116dc54')],\n",
       " 'clarification_schemas': ClarifyWithUser(question='You provided AWB number 12345 but chose to skip entering the AWB Date, which is required. Would you like to provide the AWB Date now, or should we proceed without it?', delegate_to=<NextAgent.CLARIFY_WITH_USER: 'clarify_with_user'>, agent_brief=''),\n",
       " 'agent_brief': ''}"
      ]
     },
     "execution_count": 8,
     "metadata": {},
     "output_type": "execute_result"
    }
   ],
   "source": [
    "thread = {\"configurable\":{\"thread_id\":\"1\"}}\n",
    "result = SupervisorAgent.invoke({\"messages\":[HumanMessage(content=\"Skip\")]} , config=thread)\n",
    "result"
   ]
  },
  {
   "cell_type": "code",
   "execution_count": 9,
   "id": "abf3bd88",
   "metadata": {},
   "outputs": [
    {
     "data": {
      "text/plain": [
       "{'messages': [HumanMessage(content='I want to enter the AWB 12345 and AWB Date', additional_kwargs={}, response_metadata={}, id='1412bc76-895c-4200-96fb-02fd740c78e0'),\n",
       "  AIMessage(content='Please provide the AWB Date (in YYYY-MM-DD format) so we can proceed with your request.', additional_kwargs={}, response_metadata={}, id='d163020b-e10a-451b-bc82-38fdfa3f2e34'),\n",
       "  HumanMessage(content='Skip', additional_kwargs={}, response_metadata={}, id='31933bb7-b6de-4370-a711-b218fcd2a2d2'),\n",
       "  AIMessage(content='You provided AWB number 12345 but chose to skip entering the AWB Date, which is required. Would you like to provide the AWB Date now, or should we proceed without it?', additional_kwargs={}, response_metadata={}, id='4ada157b-1dd6-4ee4-9b21-c1a328bf3c9b'),\n",
       "  HumanMessage(content='Skip', additional_kwargs={}, response_metadata={}, id='262aaf5d-a0b0-4c98-9358-4fcf758affe5'),\n",
       "  AIMessage(content='You have provided AWB number 12345 but have chosen to skip entering the AWB Date, which is a required field. Would you like to proceed without the AWB Date, or do you want to provide it now?', additional_kwargs={}, response_metadata={}, id='ed954ca2-32dd-4143-98d3-37e5743cdeb0')],\n",
       " 'supervisor_messages': [AIMessage(content='clarify_with_user', additional_kwargs={}, response_metadata={}, id='156c0830-2dee-49ef-8187-5e849822595a'),\n",
       "  AIMessage(content='clarify_with_user', additional_kwargs={}, response_metadata={}, id='07869bb0-8cfc-41ae-ab9d-3ec1d116dc54'),\n",
       "  AIMessage(content='clarify_with_user', additional_kwargs={}, response_metadata={}, id='f00383ef-cb0b-45c7-97d1-b76ec41c78ed')],\n",
       " 'clarification_schemas': ClarifyWithUser(question='You have provided AWB number 12345 but have chosen to skip entering the AWB Date, which is a required field. Would you like to proceed without the AWB Date, or do you want to provide it now?', delegate_to=<NextAgent.CLARIFY_WITH_USER: 'clarify_with_user'>, agent_brief=''),\n",
       " 'agent_brief': ''}"
      ]
     },
     "execution_count": 9,
     "metadata": {},
     "output_type": "execute_result"
    }
   ],
   "source": [
    "thread = {\"configurable\":{\"thread_id\":\"1\"}}\n",
    "result = SupervisorAgent.invoke({\"messages\":[HumanMessage(content=\"Skip\")]} , config=thread)\n",
    "result"
   ]
  },
  {
   "cell_type": "code",
   "execution_count": 11,
   "id": "a15dce7c",
   "metadata": {},
   "outputs": [
    {
     "data": {
      "text/plain": [
       "{'messages': [HumanMessage(content='I want to enter the AWB 12345 and AWB Date', additional_kwargs={}, response_metadata={}, id='1412bc76-895c-4200-96fb-02fd740c78e0'),\n",
       "  AIMessage(content='Please provide the AWB Date (in YYYY-MM-DD format) so we can proceed with your request.', additional_kwargs={}, response_metadata={}, id='d163020b-e10a-451b-bc82-38fdfa3f2e34'),\n",
       "  HumanMessage(content='Skip', additional_kwargs={}, response_metadata={}, id='31933bb7-b6de-4370-a711-b218fcd2a2d2'),\n",
       "  AIMessage(content='You provided AWB number 12345 but chose to skip entering the AWB Date, which is required. Would you like to provide the AWB Date now, or should we proceed without it?', additional_kwargs={}, response_metadata={}, id='4ada157b-1dd6-4ee4-9b21-c1a328bf3c9b'),\n",
       "  HumanMessage(content='Skip', additional_kwargs={}, response_metadata={}, id='262aaf5d-a0b0-4c98-9358-4fcf758affe5'),\n",
       "  AIMessage(content='You have provided AWB number 12345 but have chosen to skip entering the AWB Date, which is a required field. Would you like to proceed without the AWB Date, or do you want to provide it now?', additional_kwargs={}, response_metadata={}, id='ed954ca2-32dd-4143-98d3-37e5743cdeb0'),\n",
       "  HumanMessage(content='es, proceed without providing it', additional_kwargs={}, response_metadata={}, id='95e3f44e-aeb8-4aba-b4e1-0c906ef62a5e'),\n",
       "  AIMessage(content='You have provided AWB number 12345 but have chosen to proceed without the required AWB Date. Please confirm if you want to continue without the AWB Date, or would you like to provide it now?', additional_kwargs={}, response_metadata={}, id='30e302fc-fe6d-4ced-aad6-58c828d8a001'),\n",
       "  HumanMessage(content='Yes, proceed without providing it', additional_kwargs={}, response_metadata={}, id='5646fce8-5562-46a2-ad7a-e9b1d6a36718'),\n",
       "  AIMessage(content='You have chosen to proceed without providing the required AWB Date for AWB number 12345. Please note that the AWB Date is typically mandatory for processing. Do you want to continue and submit this record without the AWB Date, or would you like to provide it now?', additional_kwargs={}, response_metadata={}, id='82764c3b-a9cd-4944-b7f4-0592f2d7033d')],\n",
       " 'supervisor_messages': [AIMessage(content='clarify_with_user', additional_kwargs={}, response_metadata={}, id='156c0830-2dee-49ef-8187-5e849822595a'),\n",
       "  AIMessage(content='clarify_with_user', additional_kwargs={}, response_metadata={}, id='07869bb0-8cfc-41ae-ab9d-3ec1d116dc54'),\n",
       "  AIMessage(content='clarify_with_user', additional_kwargs={}, response_metadata={}, id='f00383ef-cb0b-45c7-97d1-b76ec41c78ed'),\n",
       "  AIMessage(content='clarify_with_user', additional_kwargs={}, response_metadata={}, id='e11cc16e-f90d-4a68-bb3d-9a1f3bd1a9b7'),\n",
       "  AIMessage(content='clarify_with_user', additional_kwargs={}, response_metadata={}, id='e0c37aa8-aaea-4437-b92a-17855ffd5885')],\n",
       " 'clarification_schemas': ClarifyWithUser(question='You have chosen to proceed without providing the required AWB Date for AWB number 12345. Please note that the AWB Date is typically mandatory for processing. Do you want to continue and submit this record without the AWB Date, or would you like to provide it now?', delegate_to=<NextAgent.CLARIFY_WITH_USER: 'clarify_with_user'>, agent_brief=''),\n",
       " 'agent_brief': ''}"
      ]
     },
     "execution_count": 11,
     "metadata": {},
     "output_type": "execute_result"
    }
   ],
   "source": [
    "thread = {\"configurable\":{\"thread_id\":\"1\"}}\n",
    "result = SupervisorAgent.invoke({\"messages\":[HumanMessage(content=\"Yes, proceed without providing it\")]} , config=thread)\n",
    "result"
   ]
  },
  {
   "cell_type": "code",
   "execution_count": 12,
   "id": "4ada2d0a",
   "metadata": {},
   "outputs": [
    {
     "data": {
      "text/plain": [
       "{'messages': [HumanMessage(content='I want to enter the AWB 12345 and AWB Date', additional_kwargs={}, response_metadata={}, id='1412bc76-895c-4200-96fb-02fd740c78e0'),\n",
       "  AIMessage(content='Please provide the AWB Date (in YYYY-MM-DD format) so we can proceed with your request.', additional_kwargs={}, response_metadata={}, id='d163020b-e10a-451b-bc82-38fdfa3f2e34'),\n",
       "  HumanMessage(content='Skip', additional_kwargs={}, response_metadata={}, id='31933bb7-b6de-4370-a711-b218fcd2a2d2'),\n",
       "  AIMessage(content='You provided AWB number 12345 but chose to skip entering the AWB Date, which is required. Would you like to provide the AWB Date now, or should we proceed without it?', additional_kwargs={}, response_metadata={}, id='4ada157b-1dd6-4ee4-9b21-c1a328bf3c9b'),\n",
       "  HumanMessage(content='Skip', additional_kwargs={}, response_metadata={}, id='262aaf5d-a0b0-4c98-9358-4fcf758affe5'),\n",
       "  AIMessage(content='You have provided AWB number 12345 but have chosen to skip entering the AWB Date, which is a required field. Would you like to proceed without the AWB Date, or do you want to provide it now?', additional_kwargs={}, response_metadata={}, id='ed954ca2-32dd-4143-98d3-37e5743cdeb0'),\n",
       "  HumanMessage(content='es, proceed without providing it', additional_kwargs={}, response_metadata={}, id='95e3f44e-aeb8-4aba-b4e1-0c906ef62a5e'),\n",
       "  AIMessage(content='You have provided AWB number 12345 but have chosen to proceed without the required AWB Date. Please confirm if you want to continue without the AWB Date, or would you like to provide it now?', additional_kwargs={}, response_metadata={}, id='30e302fc-fe6d-4ced-aad6-58c828d8a001'),\n",
       "  HumanMessage(content='Yes, proceed without providing it', additional_kwargs={}, response_metadata={}, id='5646fce8-5562-46a2-ad7a-e9b1d6a36718'),\n",
       "  AIMessage(content='You have chosen to proceed without providing the required AWB Date for AWB number 12345. Please note that the AWB Date is typically mandatory for processing. Do you want to continue and submit this record without the AWB Date, or would you like to provide it now?', additional_kwargs={}, response_metadata={}, id='82764c3b-a9cd-4944-b7f4-0592f2d7033d'),\n",
       "  HumanMessage(content='proceed without providing', additional_kwargs={}, response_metadata={}, id='2e729b16-19b8-4e23-a13e-0b5203da4ce1')],\n",
       " 'supervisor_messages': [AIMessage(content='clarify_with_user', additional_kwargs={}, response_metadata={}, id='156c0830-2dee-49ef-8187-5e849822595a'),\n",
       "  AIMessage(content='clarify_with_user', additional_kwargs={}, response_metadata={}, id='07869bb0-8cfc-41ae-ab9d-3ec1d116dc54'),\n",
       "  AIMessage(content='clarify_with_user', additional_kwargs={}, response_metadata={}, id='f00383ef-cb0b-45c7-97d1-b76ec41c78ed'),\n",
       "  AIMessage(content='clarify_with_user', additional_kwargs={}, response_metadata={}, id='e11cc16e-f90d-4a68-bb3d-9a1f3bd1a9b7'),\n",
       "  AIMessage(content='clarify_with_user', additional_kwargs={}, response_metadata={}, id='e0c37aa8-aaea-4437-b92a-17855ffd5885'),\n",
       "  AIMessage(content='logistics_agent', additional_kwargs={}, response_metadata={}, id='7615d55b-52ba-43e9-b276-7295868e880a')],\n",
       " 'clarification_schemas': ClarifyWithUser(question='', delegate_to=<NextAgent.LOGISTICS_AGENT: 'logistics_agent'>, agent_brief=\"The user has provided the following data: AWB/BL: 12345. The user has explicitly chosen to proceed without providing the required AWB/BL Date, despite multiple prompts. Please process the record for AWB/BL: 12345 with the AWB/BL Date field left blank, as per the user's confirmed instruction to proceed without it.\"),\n",
       " 'agent_brief': \"The user has provided the following data: AWB/BL: 12345. The user has explicitly chosen to proceed without providing the required AWB/BL Date, despite multiple prompts. Please process the record for AWB/BL: 12345 with the AWB/BL Date field left blank, as per the user's confirmed instruction to proceed without it.\"}"
      ]
     },
     "execution_count": 12,
     "metadata": {},
     "output_type": "execute_result"
    }
   ],
   "source": [
    "thread = {\"configurable\":{\"thread_id\":\"1\"}}\n",
    "result = SupervisorAgent.invoke({\"messages\":[HumanMessage(content=\"proceed without providing\")]} , config=thread)\n",
    "result"
   ]
  }
 ],
 "metadata": {
  "kernelspec": {
   "display_name": "MultiAgentInboundLogistic",
   "language": "python",
   "name": "python3"
  },
  "language_info": {
   "codemirror_mode": {
    "name": "ipython",
    "version": 3
   },
   "file_extension": ".py",
   "mimetype": "text/x-python",
   "name": "python",
   "nbconvert_exporter": "python",
   "pygments_lexer": "ipython3",
   "version": "3.12.7"
  }
 },
 "nbformat": 4,
 "nbformat_minor": 5
}
