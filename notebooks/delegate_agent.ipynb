{
 "cells": [
  {
   "cell_type": "code",
   "execution_count": 1,
   "id": "14d4611c",
   "metadata": {},
   "outputs": [],
   "source": [
    "# Load environment variables and set up auto-reload\n",
    "from dotenv import load_dotenv\n",
    "load_dotenv()\n",
    "\n",
    "%load_ext autoreload\n",
    "%autoreload"
   ]
  },
  {
   "cell_type": "code",
   "execution_count": 2,
   "id": "e6b14e85",
   "metadata": {},
   "outputs": [],
   "source": [
    "import sys\n",
    "sys.path.append('../')"
   ]
  },
  {
   "cell_type": "code",
   "execution_count": 3,
   "id": "ac1a6ab0",
   "metadata": {},
   "outputs": [
    {
     "name": "stderr",
     "output_type": "stream",
     "text": [
      "c:\\Users\\kamalmo\\Desktop\\AI\\InboundLogisticSystem\\MultiAgentInboundLogistic\\.venv\\Lib\\site-packages\\tqdm\\auto.py:21: TqdmWarning: IProgress not found. Please update jupyter and ipywidgets. See https://ipywidgets.readthedocs.io/en/stable/user_install.html\n",
      "  from .autonotebook import tqdm as notebook_tqdm\n",
      "None of PyTorch, TensorFlow >= 2.0, or Flax have been found. Models won't be available and only tokenizers, configuration and file/data utilities can be used.\n"
     ]
    },
    {
     "data": {
      "text/html": [
       "<pre style=\"white-space:pre;overflow-x:auto;line-height:normal;font-family:Menlo,'DejaVu Sans Mono',consolas,'Courier New',monospace\"><span style=\"color: #000080; text-decoration-color: #000080\">╭─────────────────────────────────── </span><span style=\"color: #008000; text-decoration-color: #008000; font-weight: bold\">decision_to_route_inbound_logistics_tasks</span><span style=\"color: #000080; text-decoration-color: #000080\"> ───────────────────────────────────╮</span>\n",
       "<span style=\"color: #000080; text-decoration-color: #000080\">│</span>                                                                                                                 <span style=\"color: #000080; text-decoration-color: #000080\">│</span>\n",
       "<span style=\"color: #000080; text-decoration-color: #000080\">│</span>                                                                                                                 <span style=\"color: #000080; text-decoration-color: #000080\">│</span>\n",
       "<span style=\"color: #000080; text-decoration-color: #000080\">│</span>  These are the inbound logistics Data received so far:                                                          <span style=\"color: #000080; text-decoration-color: #000080\">│</span>\n",
       "<span style=\"color: #000080; text-decoration-color: #000080\">│</span>  <span style=\"color: #000080; text-decoration-color: #000080; font-weight: bold\">&lt;Data&gt;</span>                                                                                                         <span style=\"color: #000080; text-decoration-color: #000080\">│</span>\n",
       "<span style=\"color: #000080; text-decoration-color: #000080\">│</span>  {data}                                                                                                         <span style=\"color: #000080; text-decoration-color: #000080\">│</span>\n",
       "<span style=\"color: #000080; text-decoration-color: #000080\">│</span>  <span style=\"color: #000080; text-decoration-color: #000080; font-weight: bold\">&lt;/Data&gt;</span>                                                                                                        <span style=\"color: #000080; text-decoration-color: #000080\">│</span>\n",
       "<span style=\"color: #000080; text-decoration-color: #000080\">│</span>                                                                                                                 <span style=\"color: #000080; text-decoration-color: #000080\">│</span>\n",
       "<span style=\"color: #000080; text-decoration-color: #000080\">│</span>  Today's date is {date}.                                                                                        <span style=\"color: #000080; text-decoration-color: #000080\">│</span>\n",
       "<span style=\"color: #000080; text-decoration-color: #000080\">│</span>                                                                                                                 <span style=\"color: #000080; text-decoration-color: #000080\">│</span>\n",
       "<span style=\"color: #000080; text-decoration-color: #000080\">│</span>  Your role is to act as the Supervisor Agent in the Inbound Logistics system.                                   <span style=\"color: #000080; text-decoration-color: #000080\">│</span>\n",
       "<span style=\"color: #000080; text-decoration-color: #000080\">│</span>  Your responsibilities are:                                                                                     <span style=\"color: #000080; text-decoration-color: #000080\">│</span>\n",
       "<span style=\"color: #000080; text-decoration-color: #000080\">│</span>  1. Assess the data provided by the user.                                                                       <span style=\"color: #000080; text-decoration-color: #000080\">│</span>\n",
       "<span style=\"color: #000080; text-decoration-color: #000080\">│</span>  2. Decide whether the task should be delegated to:                                                             <span style=\"color: #000080; text-decoration-color: #000080\">│</span>\n",
       "<span style=\"color: #000080; text-decoration-color: #000080\">│</span>     - Logistician Agent → if the request relates to AWB# or AWB Date.                                           <span style=\"color: #000080; text-decoration-color: #000080\">│</span>\n",
       "<span style=\"color: #000080; text-decoration-color: #000080\">│</span>     - Clearance Agent → if the request relates to ATA or Clearance Date.                                        <span style=\"color: #000080; text-decoration-color: #000080\">│</span>\n",
       "<span style=\"color: #000080; text-decoration-color: #000080\">│</span>  3. If the request is ambiguous or missing critical details, ask the user a **clarifying question** before      <span style=\"color: #000080; text-decoration-color: #000080\">│</span>\n",
       "<span style=\"color: #000080; text-decoration-color: #000080\">│</span>  assigning the task.                                                                                            <span style=\"color: #000080; text-decoration-color: #000080\">│</span>\n",
       "<span style=\"color: #000080; text-decoration-color: #000080\">│</span>                                                                                                                 <span style=\"color: #000080; text-decoration-color: #000080\">│</span>\n",
       "<span style=\"color: #000080; text-decoration-color: #000080\">│</span>  Guidelines for asking clarification:                                                                           <span style=\"color: #000080; text-decoration-color: #000080\">│</span>\n",
       "<span style=\"color: #000080; text-decoration-color: #000080\">│</span>  - Only ask if **absolutely necessary** (e.g., AWB#).                                                           <span style=\"color: #000080; text-decoration-color: #000080\">│</span>\n",
       "<span style=\"color: #000080; text-decoration-color: #000080\">│</span>  - Keep questions **concise and structured**. Use bullet points or lists if multiple clarifications are         <span style=\"color: #000080; text-decoration-color: #000080\">│</span>\n",
       "<span style=\"color: #000080; text-decoration-color: #000080\">│</span>  needed.                                                                                                        <span style=\"color: #000080; text-decoration-color: #000080\">│</span>\n",
       "<span style=\"color: #000080; text-decoration-color: #000080\">│</span>  - Do not repeat questions if the information is already provided.                                              <span style=\"color: #000080; text-decoration-color: #000080\">│</span>\n",
       "<span style=\"color: #000080; text-decoration-color: #000080\">│</span>                                                                                                                 <span style=\"color: #000080; text-decoration-color: #000080\">│</span>\n",
       "<span style=\"color: #000080; text-decoration-color: #000080\">│</span>  Respond in **valid JSON format** with these exact keys:                                                        <span style=\"color: #000080; text-decoration-color: #000080\">│</span>\n",
       "<span style=\"color: #000080; text-decoration-color: #000080\">│</span>  - `\"need_clarification\"`: boolean                                                                              <span style=\"color: #000080; text-decoration-color: #000080\">│</span>\n",
       "<span style=\"color: #000080; text-decoration-color: #000080\">│</span>  - `\"question\"`: \"<span style=\"color: #000080; text-decoration-color: #000080; font-weight: bold\">&lt;clarifying question if more information is needed, otherwise empty&gt;</span>\"                         <span style=\"color: #000080; text-decoration-color: #000080\">│</span>\n",
       "<span style=\"color: #000080; text-decoration-color: #000080\">│</span>  - `\"delegate_to\"`: \"Logistician Agent\" | \"Clearance Agent\" | \"\"                                                <span style=\"color: #000080; text-decoration-color: #000080\">│</span>\n",
       "<span style=\"color: #000080; text-decoration-color: #000080\">│</span>  - `\"verification\"`: \"<span style=\"color: #000080; text-decoration-color: #000080; font-weight: bold\">&lt;acknowledgement message confirming the assignment or clarification&gt;</span>\"                     <span style=\"color: #000080; text-decoration-color: #000080\">│</span>\n",
       "<span style=\"color: #000080; text-decoration-color: #000080\">│</span>                                                                                                                 <span style=\"color: #000080; text-decoration-color: #000080\">│</span>\n",
       "<span style=\"color: #000080; text-decoration-color: #000080\">│</span>  Behavior:                                                                                                      <span style=\"color: #000080; text-decoration-color: #000080\">│</span>\n",
       "<span style=\"color: #000080; text-decoration-color: #000080\">│</span>  - If clarification is needed → return:                                                                         <span style=\"color: #000080; text-decoration-color: #000080\">│</span>\n",
       "<span style=\"color: #000080; text-decoration-color: #000080\">│</span>    - `\"need_clarification\": true`                                                                               <span style=\"color: #000080; text-decoration-color: #000080\">│</span>\n",
       "<span style=\"color: #000080; text-decoration-color: #000080\">│</span>    - `\"question\": \"<span style=\"color: #000080; text-decoration-color: #000080; font-weight: bold\">&lt;your clarifying question&gt;</span>\"`                                                                 <span style=\"color: #000080; text-decoration-color: #000080\">│</span>\n",
       "<span style=\"color: #000080; text-decoration-color: #000080\">│</span>    - `\"delegate_to\": \"\"`                                                                                        <span style=\"color: #000080; text-decoration-color: #000080\">│</span>\n",
       "<span style=\"color: #000080; text-decoration-color: #000080\">│</span>    - `\"verification\": \"\"`                                                                                       <span style=\"color: #000080; text-decoration-color: #000080\">│</span>\n",
       "<span style=\"color: #000080; text-decoration-color: #000080\">│</span>                                                                                                                 <span style=\"color: #000080; text-decoration-color: #000080\">│</span>\n",
       "<span style=\"color: #000080; text-decoration-color: #000080\">│</span>  - If no clarification is needed → return:                                                                      <span style=\"color: #000080; text-decoration-color: #000080\">│</span>\n",
       "<span style=\"color: #000080; text-decoration-color: #000080\">│</span>    - `\"need_clarification\": false`                                                                              <span style=\"color: #000080; text-decoration-color: #000080\">│</span>\n",
       "<span style=\"color: #000080; text-decoration-color: #000080\">│</span>    - `\"question\": \"\"`                                                                                           <span style=\"color: #000080; text-decoration-color: #000080\">│</span>\n",
       "<span style=\"color: #000080; text-decoration-color: #000080\">│</span>    - `\"delegate_to\": \"<span style=\"color: #000080; text-decoration-color: #000080; font-weight: bold\">&lt;the chosen agent&gt;</span>\"`                                                                      <span style=\"color: #000080; text-decoration-color: #000080\">│</span>\n",
       "<span style=\"color: #000080; text-decoration-color: #000080\">│</span>    - `\"verification\": \"<span style=\"color: #000080; text-decoration-color: #000080; font-weight: bold\">&lt;acknowledgement message confirming the task assignment and briefly summarizing the </span>     <span style=\"color: #000080; text-decoration-color: #000080\">│</span>\n",
       "<span style=\"color: #000080; text-decoration-color: #000080\">│</span>  <span style=\"color: #000080; text-decoration-color: #000080; font-weight: bold\">understood request&gt;</span>\"`                                                                                          <span style=\"color: #000080; text-decoration-color: #000080\">│</span>\n",
       "<span style=\"color: #000080; text-decoration-color: #000080\">│</span>                                                                                                                 <span style=\"color: #000080; text-decoration-color: #000080\">│</span>\n",
       "<span style=\"color: #000080; text-decoration-color: #000080\">│</span>  Keep the verification message professional and concise, e.g.,                                                  <span style=\"color: #000080; text-decoration-color: #000080\">│</span>\n",
       "<span style=\"color: #000080; text-decoration-color: #000080\">│</span>  - `\"Based on the provided details, I will assign this task to the Clearance Agent for customs clearance.\"`     <span style=\"color: #000080; text-decoration-color: #000080\">│</span>\n",
       "<span style=\"color: #000080; text-decoration-color: #000080\">│</span>  - `\"Your request relates to AWB#, so I will assign it to the Logistician Agent for further handling.\"          <span style=\"color: #000080; text-decoration-color: #000080\">│</span>\n",
       "<span style=\"color: #000080; text-decoration-color: #000080\">│</span>                                                                                                                 <span style=\"color: #000080; text-decoration-color: #000080\">│</span>\n",
       "<span style=\"color: #000080; text-decoration-color: #000080\">│</span>                                                                                                                 <span style=\"color: #000080; text-decoration-color: #000080\">│</span>\n",
       "<span style=\"color: #000080; text-decoration-color: #000080\">│</span>                                                                                                                 <span style=\"color: #000080; text-decoration-color: #000080\">│</span>\n",
       "<span style=\"color: #000080; text-decoration-color: #000080\">╰─────────────────────────────────────────────────────────────────────────────────────────────────────────────────╯</span>\n",
       "</pre>\n"
      ],
      "text/plain": [
       "\u001b[34m╭─\u001b[0m\u001b[34m──────────────────────────────────\u001b[0m\u001b[34m \u001b[0m\u001b[1;32mdecision_to_route_inbound_logistics_tasks\u001b[0m\u001b[34m \u001b[0m\u001b[34m──────────────────────────────────\u001b[0m\u001b[34m─╮\u001b[0m\n",
       "\u001b[34m│\u001b[0m                                                                                                                 \u001b[34m│\u001b[0m\n",
       "\u001b[34m│\u001b[0m                                                                                                                 \u001b[34m│\u001b[0m\n",
       "\u001b[34m│\u001b[0m  These are the inbound logistics Data received so far:                                                          \u001b[34m│\u001b[0m\n",
       "\u001b[34m│\u001b[0m  \u001b[1;34m<Data>\u001b[0m                                                                                                         \u001b[34m│\u001b[0m\n",
       "\u001b[34m│\u001b[0m  {data}                                                                                                         \u001b[34m│\u001b[0m\n",
       "\u001b[34m│\u001b[0m  \u001b[1;34m</Data>\u001b[0m                                                                                                        \u001b[34m│\u001b[0m\n",
       "\u001b[34m│\u001b[0m                                                                                                                 \u001b[34m│\u001b[0m\n",
       "\u001b[34m│\u001b[0m  Today's date is {date}.                                                                                        \u001b[34m│\u001b[0m\n",
       "\u001b[34m│\u001b[0m                                                                                                                 \u001b[34m│\u001b[0m\n",
       "\u001b[34m│\u001b[0m  Your role is to act as the Supervisor Agent in the Inbound Logistics system.                                   \u001b[34m│\u001b[0m\n",
       "\u001b[34m│\u001b[0m  Your responsibilities are:                                                                                     \u001b[34m│\u001b[0m\n",
       "\u001b[34m│\u001b[0m  1. Assess the data provided by the user.                                                                       \u001b[34m│\u001b[0m\n",
       "\u001b[34m│\u001b[0m  2. Decide whether the task should be delegated to:                                                             \u001b[34m│\u001b[0m\n",
       "\u001b[34m│\u001b[0m     - Logistician Agent → if the request relates to AWB# or AWB Date.                                           \u001b[34m│\u001b[0m\n",
       "\u001b[34m│\u001b[0m     - Clearance Agent → if the request relates to ATA or Clearance Date.                                        \u001b[34m│\u001b[0m\n",
       "\u001b[34m│\u001b[0m  3. If the request is ambiguous or missing critical details, ask the user a **clarifying question** before      \u001b[34m│\u001b[0m\n",
       "\u001b[34m│\u001b[0m  assigning the task.                                                                                            \u001b[34m│\u001b[0m\n",
       "\u001b[34m│\u001b[0m                                                                                                                 \u001b[34m│\u001b[0m\n",
       "\u001b[34m│\u001b[0m  Guidelines for asking clarification:                                                                           \u001b[34m│\u001b[0m\n",
       "\u001b[34m│\u001b[0m  - Only ask if **absolutely necessary** (e.g., AWB#).                                                           \u001b[34m│\u001b[0m\n",
       "\u001b[34m│\u001b[0m  - Keep questions **concise and structured**. Use bullet points or lists if multiple clarifications are         \u001b[34m│\u001b[0m\n",
       "\u001b[34m│\u001b[0m  needed.                                                                                                        \u001b[34m│\u001b[0m\n",
       "\u001b[34m│\u001b[0m  - Do not repeat questions if the information is already provided.                                              \u001b[34m│\u001b[0m\n",
       "\u001b[34m│\u001b[0m                                                                                                                 \u001b[34m│\u001b[0m\n",
       "\u001b[34m│\u001b[0m  Respond in **valid JSON format** with these exact keys:                                                        \u001b[34m│\u001b[0m\n",
       "\u001b[34m│\u001b[0m  - `\"need_clarification\"`: boolean                                                                              \u001b[34m│\u001b[0m\n",
       "\u001b[34m│\u001b[0m  - `\"question\"`: \"\u001b[1;34m<clarifying question if more information is needed, otherwise empty>\u001b[0m\"                         \u001b[34m│\u001b[0m\n",
       "\u001b[34m│\u001b[0m  - `\"delegate_to\"`: \"Logistician Agent\" | \"Clearance Agent\" | \"\"                                                \u001b[34m│\u001b[0m\n",
       "\u001b[34m│\u001b[0m  - `\"verification\"`: \"\u001b[1;34m<acknowledgement message confirming the assignment or clarification>\u001b[0m\"                     \u001b[34m│\u001b[0m\n",
       "\u001b[34m│\u001b[0m                                                                                                                 \u001b[34m│\u001b[0m\n",
       "\u001b[34m│\u001b[0m  Behavior:                                                                                                      \u001b[34m│\u001b[0m\n",
       "\u001b[34m│\u001b[0m  - If clarification is needed → return:                                                                         \u001b[34m│\u001b[0m\n",
       "\u001b[34m│\u001b[0m    - `\"need_clarification\": true`                                                                               \u001b[34m│\u001b[0m\n",
       "\u001b[34m│\u001b[0m    - `\"question\": \"\u001b[1;34m<your clarifying question>\u001b[0m\"`                                                                 \u001b[34m│\u001b[0m\n",
       "\u001b[34m│\u001b[0m    - `\"delegate_to\": \"\"`                                                                                        \u001b[34m│\u001b[0m\n",
       "\u001b[34m│\u001b[0m    - `\"verification\": \"\"`                                                                                       \u001b[34m│\u001b[0m\n",
       "\u001b[34m│\u001b[0m                                                                                                                 \u001b[34m│\u001b[0m\n",
       "\u001b[34m│\u001b[0m  - If no clarification is needed → return:                                                                      \u001b[34m│\u001b[0m\n",
       "\u001b[34m│\u001b[0m    - `\"need_clarification\": false`                                                                              \u001b[34m│\u001b[0m\n",
       "\u001b[34m│\u001b[0m    - `\"question\": \"\"`                                                                                           \u001b[34m│\u001b[0m\n",
       "\u001b[34m│\u001b[0m    - `\"delegate_to\": \"\u001b[1;34m<the chosen agent>\u001b[0m\"`                                                                      \u001b[34m│\u001b[0m\n",
       "\u001b[34m│\u001b[0m    - `\"verification\": \"\u001b[1;34m<acknowledgement message confirming the task assignment and briefly summarizing the \u001b[0m     \u001b[34m│\u001b[0m\n",
       "\u001b[34m│\u001b[0m  \u001b[1;34munderstood request>\u001b[0m\"`                                                                                          \u001b[34m│\u001b[0m\n",
       "\u001b[34m│\u001b[0m                                                                                                                 \u001b[34m│\u001b[0m\n",
       "\u001b[34m│\u001b[0m  Keep the verification message professional and concise, e.g.,                                                  \u001b[34m│\u001b[0m\n",
       "\u001b[34m│\u001b[0m  - `\"Based on the provided details, I will assign this task to the Clearance Agent for customs clearance.\"`     \u001b[34m│\u001b[0m\n",
       "\u001b[34m│\u001b[0m  - `\"Your request relates to AWB#, so I will assign it to the Logistician Agent for further handling.\"          \u001b[34m│\u001b[0m\n",
       "\u001b[34m│\u001b[0m                                                                                                                 \u001b[34m│\u001b[0m\n",
       "\u001b[34m│\u001b[0m                                                                                                                 \u001b[34m│\u001b[0m\n",
       "\u001b[34m│\u001b[0m                                                                                                                 \u001b[34m│\u001b[0m\n",
       "\u001b[34m╰─────────────────────────────────────────────────────────────────────────────────────────────────────────────────╯\u001b[0m\n"
      ]
     },
     "metadata": {},
     "output_type": "display_data"
    }
   ],
   "source": [
    "from src.utils import show_prompt\n",
    "from src.prompt import decision_to_route_inbound_logistics_tasks\n",
    "show_prompt(decision_to_route_inbound_logistics_tasks, \"decision_to_route_inbound_logistics_tasks\")"
   ]
  }
 ],
 "metadata": {
  "kernelspec": {
   "display_name": "MultiAgentInboundLogistic",
   "language": "python",
   "name": "python3"
  },
  "language_info": {
   "codemirror_mode": {
    "name": "ipython",
    "version": 3
   },
   "file_extension": ".py",
   "mimetype": "text/x-python",
   "name": "python",
   "nbconvert_exporter": "python",
   "pygments_lexer": "ipython3",
   "version": "3.12.7"
  }
 },
 "nbformat": 4,
 "nbformat_minor": 5
}
