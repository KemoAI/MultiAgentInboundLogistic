{
 "cells": [
  {
   "cell_type": "code",
   "execution_count": 2,
   "id": "684603e6",
   "metadata": {},
   "outputs": [],
   "source": [
    "# Load environment variables and set up auto-reload\n",
    "from dotenv import load_dotenv\n",
    "load_dotenv()\n",
    "\n",
    "%load_ext autoreload\n",
    "%autoreload"
   ]
  },
  {
   "cell_type": "code",
   "execution_count": 3,
   "id": "67111b91",
   "metadata": {},
   "outputs": [],
   "source": [
    "import sys\n",
    "sys.path.append('../')"
   ]
  },
  {
   "cell_type": "code",
   "execution_count": 4,
   "id": "a13e57d9",
   "metadata": {},
   "outputs": [
    {
     "name": "stderr",
     "output_type": "stream",
     "text": [
      "c:\\Users\\kamalmo\\Desktop\\AI\\InboundLogisticSystem\\MultiAgentInboundLogistic\\.venv\\Lib\\site-packages\\tqdm\\auto.py:21: TqdmWarning: IProgress not found. Please update jupyter and ipywidgets. See https://ipywidgets.readthedocs.io/en/stable/user_install.html\n",
      "  from .autonotebook import tqdm as notebook_tqdm\n",
      "None of PyTorch, TensorFlow >= 2.0, or Flax have been found. Models won't be available and only tokenizers, configuration and file/data utilities can be used.\n"
     ]
    },
    {
     "data": {
      "text/html": [
       "<pre style=\"white-space:pre;overflow-x:auto;line-height:normal;font-family:Menlo,'DejaVu Sans Mono',consolas,'Courier New',monospace\"><span style=\"color: #000080; text-decoration-color: #000080\">╭───────────────────────────────────────────── </span><span style=\"color: #008000; text-decoration-color: #008000; font-weight: bold\">forwarder_agent_tasks</span><span style=\"color: #000080; text-decoration-color: #000080\"> ─────────────────────────────────────────────╮</span>\n",
       "<span style=\"color: #000080; text-decoration-color: #000080\">│</span>                                                                                                                 <span style=\"color: #000080; text-decoration-color: #000080\">│</span>\n",
       "<span style=\"color: #000080; text-decoration-color: #000080\">│</span>                                                                                                                 <span style=\"color: #000080; text-decoration-color: #000080\">│</span>\n",
       "<span style=\"color: #000080; text-decoration-color: #000080\">│</span>                                                                                                                 <span style=\"color: #000080; text-decoration-color: #000080\">│</span>\n",
       "<span style=\"color: #000080; text-decoration-color: #000080\">╰─────────────────────────────────────────────────────────────────────────────────────────────────────────────────╯</span>\n",
       "</pre>\n"
      ],
      "text/plain": [
       "\u001b[34m╭─\u001b[0m\u001b[34m────────────────────────────────────────────\u001b[0m\u001b[34m \u001b[0m\u001b[1;32mforwarder_agent_tasks\u001b[0m\u001b[34m \u001b[0m\u001b[34m────────────────────────────────────────────\u001b[0m\u001b[34m─╮\u001b[0m\n",
       "\u001b[34m│\u001b[0m                                                                                                                 \u001b[34m│\u001b[0m\n",
       "\u001b[34m│\u001b[0m                                                                                                                 \u001b[34m│\u001b[0m\n",
       "\u001b[34m│\u001b[0m                                                                                                                 \u001b[34m│\u001b[0m\n",
       "\u001b[34m╰─────────────────────────────────────────────────────────────────────────────────────────────────────────────────╯\u001b[0m\n"
      ]
     },
     "metadata": {},
     "output_type": "display_data"
    }
   ],
   "source": [
    "from src.utils import show_prompt\n",
    "from src.prompt import forwarder_agent_tasks\n",
    "show_prompt(forwarder_agent_tasks, \"forwarder_agent_tasks\")"
   ]
  },
  {
   "cell_type": "code",
   "execution_count": 1,
   "id": "1ac8e48e",
   "metadata": {},
   "outputs": [
    {
     "name": "stdout",
     "output_type": "stream",
     "text": [
      "Overwriting ../src/ibl_data_source.py\n"
     ]
    }
   ],
   "source": [
    "%%writefile ../src/ibl_data_source.py\n",
    "\n",
    "\"\"\"\n",
    "   This data source represent the IBL Schema\n",
    "\"\"\"\n",
    "import json\n",
    "\n",
    "def ibl_data_source(path: str , agent: str) -> dict[str : str]:\n",
    "    try:\n",
    "        with open(path, \"r\", encoding=\"utf-8\") as config:\n",
    "            config_file = json.load(config).get(agent, [])\n",
    "    except FileNotFoundError:\n",
    "        print(\"Error: logistics_schema.json not found. Please create it.\")\n",
    "        exit()\n",
    "    return config_file"
   ]
  },
  {
   "cell_type": "code",
   "execution_count": null,
   "id": "37222e56",
   "metadata": {},
   "outputs": [],
   "source": [
    "%%writefile ../src/forwarder_schema.py\n",
    "\n",
    "\"\"\"State Definitions and Pydantic Schemas for Forwarder Agent.\n",
    "\n",
    "This defines the state objects and structured schemas used for\n",
    "the Forwarder Agent scoping workflow, including Forwarder state management and output schemas.\n",
    "\"\"\"\n",
    "\n",
    "import operator\n",
    "from datetime import date\n",
    "from typing_extensions import Optional, Annotated, List, Sequence\n",
    "\n",
    "from langchain_core.messages import BaseMessage\n",
    "from langgraph.graph import MessagesState\n",
    "from langgraph.graph.message import add_messages\n",
    "from pydantic import BaseModel, Field , create_model\n",
    "from src.supervisor_schema import AgentState\n",
    "from src.ibl_data_source import ibl_data_source\n",
    "\n",
    "# Load logitics fields dynamiclly\n",
    "logistics_fields = ibl_data_source(\"../ibl_schema.json\",\"logistics_agent\")\n",
    "\n",
    "# Dynamically create Pydantic model for shipment fields\n",
    "DynamicShipmentFields = create_model(\n",
    "    \"DynamicShipmentFields\",\n",
    "    **{\n",
    "        field_item[\"field\"]: (\n",
    "            Optional[field_item[\"dataType\"]],  # default type; could later map dataType\n",
    "            Field(None, description = field_item.get(\"description\", \"\"))\n",
    "        )\n",
    "        for field_item in logistics_fields\n",
    "    }\n",
    ")\n",
    "\n",
    "# ===== STRUCTURED OUTPUT SCHEMAS =====\n",
    "\n",
    "class ForwarderSchema(BaseModel):\n",
    "    \"\"\"Schema for Logisticis Agent.\"\"\"\n",
    "    missing_mandatory_fields: List[str] = Field(\n",
    "        description = \"Fields required by the schema that are missing from the provided data\"\n",
    "    )\n",
    "    missing_optional_fields: List[str] = Field(\n",
    "        description = \"Optional fields that are missing from the provided data\"\n",
    "    )\n",
    "    ask_for_optional_fields: bool = Field(\n",
    "        description = \"Specifies whether the user should be prompted for optional fields\",\n",
    "        default = True\n",
    "    )\n",
    "    needs_user_confirmation: bool = Field(\n",
    "        description = \"Specifies whether user confirmation is required for the current record\",\n",
    "        default = True\n",
    "    )\n",
    "\n",
    "# ===== STATE DEFINITIONS =====\n",
    "\n",
    "class ForwarderState(AgentState):\n",
    "    \"\"\" State for the Logistics Agent \"\"\"\n",
    "    agent_response: Optional[LogisticsSchema] = None"
   ]
  }
 ],
 "metadata": {
  "kernelspec": {
   "display_name": "MultiAgentInboundLogistic",
   "language": "python",
   "name": "python3"
  },
  "language_info": {
   "codemirror_mode": {
    "name": "ipython",
    "version": 3
   },
   "file_extension": ".py",
   "mimetype": "text/x-python",
   "name": "python",
   "nbconvert_exporter": "python",
   "pygments_lexer": "ipython3",
   "version": "3.12.7"
  }
 },
 "nbformat": 4,
 "nbformat_minor": 5
}
